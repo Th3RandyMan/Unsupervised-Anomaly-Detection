{
 "cells": [
  {
   "cell_type": "code",
   "execution_count": 1,
   "metadata": {},
   "outputs": [],
   "source": [
    "%load_ext autoreload\n",
    "%autoreload 2"
   ]
  },
  {
   "cell_type": "code",
   "execution_count": 2,
   "metadata": {},
   "outputs": [],
   "source": [
    "import os\n",
    "os.environ[\"CUDA_VISIBLE_DEVICES\"] = \"1\""
   ]
  },
  {
   "cell_type": "markdown",
   "metadata": {},
   "source": [
    "## Get dataset to train"
   ]
  },
  {
   "cell_type": "code",
   "execution_count": 3,
   "metadata": {},
   "outputs": [
    {
     "name": "stdout",
     "output_type": "stream",
     "text": [
      "HR5.csv\n",
      "(100880, 10)\n"
     ]
    },
    {
     "data": {
      "text/html": [
       "<div>\n",
       "<style scoped>\n",
       "    .dataframe tbody tr th:only-of-type {\n",
       "        vertical-align: middle;\n",
       "    }\n",
       "\n",
       "    .dataframe tbody tr th {\n",
       "        vertical-align: top;\n",
       "    }\n",
       "\n",
       "    .dataframe thead th {\n",
       "        text-align: right;\n",
       "    }\n",
       "</style>\n",
       "<table border=\"1\" class=\"dataframe\">\n",
       "  <thead>\n",
       "    <tr style=\"text-align: right;\">\n",
       "      <th></th>\n",
       "      <th>Ch1volts_WL1</th>\n",
       "      <th>Ch2volts_WL1</th>\n",
       "      <th>Ch3volts_WL1</th>\n",
       "      <th>Ch4volts_WL1</th>\n",
       "      <th>Ch5volts_WL1</th>\n",
       "      <th>Ch1volts_WL2</th>\n",
       "      <th>Ch2volts_WL2</th>\n",
       "      <th>Ch3volts_WL2</th>\n",
       "      <th>Ch4volts_WL2</th>\n",
       "      <th>Ch5volts_WL2</th>\n",
       "    </tr>\n",
       "  </thead>\n",
       "  <tbody>\n",
       "    <tr>\n",
       "      <th>0</th>\n",
       "      <td>0.000002</td>\n",
       "      <td>7.564065e-09</td>\n",
       "      <td>7.688232e-10</td>\n",
       "      <td>2.700668e-11</td>\n",
       "      <td>1.013171e-12</td>\n",
       "      <td>4.776634e-07</td>\n",
       "      <td>2.232868e-09</td>\n",
       "      <td>1.269060e-10</td>\n",
       "      <td>1.522446e-12</td>\n",
       "      <td>7.479146e-15</td>\n",
       "    </tr>\n",
       "    <tr>\n",
       "      <th>1</th>\n",
       "      <td>0.000002</td>\n",
       "      <td>7.665455e-09</td>\n",
       "      <td>7.925804e-10</td>\n",
       "      <td>2.713974e-11</td>\n",
       "      <td>1.024571e-12</td>\n",
       "      <td>4.820643e-07</td>\n",
       "      <td>2.434110e-09</td>\n",
       "      <td>1.396813e-10</td>\n",
       "      <td>1.684177e-12</td>\n",
       "      <td>8.731407e-15</td>\n",
       "    </tr>\n",
       "    <tr>\n",
       "      <th>2</th>\n",
       "      <td>0.000002</td>\n",
       "      <td>7.781827e-09</td>\n",
       "      <td>8.180843e-10</td>\n",
       "      <td>2.729330e-11</td>\n",
       "      <td>1.037550e-12</td>\n",
       "      <td>4.869506e-07</td>\n",
       "      <td>2.651351e-09</td>\n",
       "      <td>1.535658e-10</td>\n",
       "      <td>1.861490e-12</td>\n",
       "      <td>1.022233e-14</td>\n",
       "    </tr>\n",
       "    <tr>\n",
       "      <th>3</th>\n",
       "      <td>0.000002</td>\n",
       "      <td>7.915956e-09</td>\n",
       "      <td>8.455011e-10</td>\n",
       "      <td>2.747432e-11</td>\n",
       "      <td>1.052474e-12</td>\n",
       "      <td>4.923786e-07</td>\n",
       "      <td>2.885586e-09</td>\n",
       "      <td>1.686320e-10</td>\n",
       "      <td>2.055546e-12</td>\n",
       "      <td>1.199234e-14</td>\n",
       "    </tr>\n",
       "    <tr>\n",
       "      <th>4</th>\n",
       "      <td>0.000002</td>\n",
       "      <td>8.070642e-09</td>\n",
       "      <td>8.749856e-10</td>\n",
       "      <td>2.769216e-11</td>\n",
       "      <td>1.069695e-12</td>\n",
       "      <td>4.983937e-07</td>\n",
       "      <td>3.137841e-09</td>\n",
       "      <td>1.849547e-10</td>\n",
       "      <td>2.267545e-12</td>\n",
       "      <td>1.408747e-14</td>\n",
       "    </tr>\n",
       "  </tbody>\n",
       "</table>\n",
       "</div>"
      ],
      "text/plain": [
       "   Ch1volts_WL1  Ch2volts_WL1  Ch3volts_WL1  Ch4volts_WL1  Ch5volts_WL1  \\\n",
       "0      0.000002  7.564065e-09  7.688232e-10  2.700668e-11  1.013171e-12   \n",
       "1      0.000002  7.665455e-09  7.925804e-10  2.713974e-11  1.024571e-12   \n",
       "2      0.000002  7.781827e-09  8.180843e-10  2.729330e-11  1.037550e-12   \n",
       "3      0.000002  7.915956e-09  8.455011e-10  2.747432e-11  1.052474e-12   \n",
       "4      0.000002  8.070642e-09  8.749856e-10  2.769216e-11  1.069695e-12   \n",
       "\n",
       "   Ch1volts_WL2  Ch2volts_WL2  Ch3volts_WL2  Ch4volts_WL2  Ch5volts_WL2  \n",
       "0  4.776634e-07  2.232868e-09  1.269060e-10  1.522446e-12  7.479146e-15  \n",
       "1  4.820643e-07  2.434110e-09  1.396813e-10  1.684177e-12  8.731407e-15  \n",
       "2  4.869506e-07  2.651351e-09  1.535658e-10  1.861490e-12  1.022233e-14  \n",
       "3  4.923786e-07  2.885586e-09  1.686320e-10  2.055546e-12  1.199234e-14  \n",
       "4  4.983937e-07  3.137841e-09  1.849547e-10  2.267545e-12  1.408747e-14  "
      ]
     },
     "execution_count": 3,
     "metadata": {},
     "output_type": "execute_result"
    }
   ],
   "source": [
    "import json\n",
    "import torch    #if error, restart kernel\n",
    "import torch.utils.data\n",
    "from torch import nn, optim\n",
    "from torch.nn import functional as F\n",
    "from torchvision import datasets, transforms\n",
    "from torchvision.utils import save_image\n",
    "\n",
    "import glob\n",
    "import pandas as pd\n",
    "\n",
    "import os\n",
    "\n",
    "Fs = 100  # Sampling frequency\n",
    "\n",
    "# Path to the folder containing the CSV files\n",
    "folder_path = \"TFO Data\" + os.sep + \"PPG\" + os.sep + \"Clean PPG\"\n",
    "\n",
    "# Get the list of CSV files in the folder\n",
    "file_list = glob.glob(folder_path + os.sep + \"*.csv\")\n",
    "file_path = file_list[0]\n",
    "\n",
    "# Read the CSV file into a pandas dataframe\n",
    "df = pd.read_csv(file_path)\n",
    "#df = df[df.columns[2:-1]]  # Remove the time, index, and temperature columns\n",
    "    \n",
    "# Show the head of the dataframe\n",
    "title = file_path.split(os.sep)[-1]\n",
    "print(title)\n",
    "print(df.shape)\n",
    "df.head()"
   ]
  },
  {
   "cell_type": "markdown",
   "metadata": {},
   "source": [
    "### Normalize data in dataframe"
   ]
  },
  {
   "cell_type": "code",
   "execution_count": 4,
   "metadata": {},
   "outputs": [
    {
     "data": {
      "text/html": [
       "<div>\n",
       "<style scoped>\n",
       "    .dataframe tbody tr th:only-of-type {\n",
       "        vertical-align: middle;\n",
       "    }\n",
       "\n",
       "    .dataframe tbody tr th {\n",
       "        vertical-align: top;\n",
       "    }\n",
       "\n",
       "    .dataframe thead th {\n",
       "        text-align: right;\n",
       "    }\n",
       "</style>\n",
       "<table border=\"1\" class=\"dataframe\">\n",
       "  <thead>\n",
       "    <tr style=\"text-align: right;\">\n",
       "      <th></th>\n",
       "      <th>Ch1volts_WL1</th>\n",
       "      <th>Ch2volts_WL1</th>\n",
       "      <th>Ch3volts_WL1</th>\n",
       "      <th>Ch4volts_WL1</th>\n",
       "      <th>Ch5volts_WL1</th>\n",
       "      <th>Ch1volts_WL2</th>\n",
       "      <th>Ch2volts_WL2</th>\n",
       "      <th>Ch3volts_WL2</th>\n",
       "      <th>Ch4volts_WL2</th>\n",
       "      <th>Ch5volts_WL2</th>\n",
       "    </tr>\n",
       "  </thead>\n",
       "  <tbody>\n",
       "    <tr>\n",
       "      <th>0</th>\n",
       "      <td>-0.924712</td>\n",
       "      <td>-0.769320</td>\n",
       "      <td>-0.557761</td>\n",
       "      <td>-0.717445</td>\n",
       "      <td>-0.721082</td>\n",
       "      <td>-0.627808</td>\n",
       "      <td>-0.739798</td>\n",
       "      <td>-0.708603</td>\n",
       "      <td>-0.689157</td>\n",
       "      <td>-0.802517</td>\n",
       "    </tr>\n",
       "    <tr>\n",
       "      <th>1</th>\n",
       "      <td>-0.871856</td>\n",
       "      <td>-0.763291</td>\n",
       "      <td>-0.537699</td>\n",
       "      <td>-0.710557</td>\n",
       "      <td>-0.709649</td>\n",
       "      <td>-0.608375</td>\n",
       "      <td>-0.733747</td>\n",
       "      <td>-0.699651</td>\n",
       "      <td>-0.679949</td>\n",
       "      <td>-0.801749</td>\n",
       "    </tr>\n",
       "    <tr>\n",
       "      <th>2</th>\n",
       "      <td>-0.803797</td>\n",
       "      <td>-0.756371</td>\n",
       "      <td>-0.516162</td>\n",
       "      <td>-0.702609</td>\n",
       "      <td>-0.696632</td>\n",
       "      <td>-0.586797</td>\n",
       "      <td>-0.727215</td>\n",
       "      <td>-0.689922</td>\n",
       "      <td>-0.669854</td>\n",
       "      <td>-0.800834</td>\n",
       "    </tr>\n",
       "    <tr>\n",
       "      <th>3</th>\n",
       "      <td>-0.720341</td>\n",
       "      <td>-0.748394</td>\n",
       "      <td>-0.493009</td>\n",
       "      <td>-0.693240</td>\n",
       "      <td>-0.681665</td>\n",
       "      <td>-0.562828</td>\n",
       "      <td>-0.720172</td>\n",
       "      <td>-0.679365</td>\n",
       "      <td>-0.658806</td>\n",
       "      <td>-0.799747</td>\n",
       "    </tr>\n",
       "    <tr>\n",
       "      <th>4</th>\n",
       "      <td>-0.623300</td>\n",
       "      <td>-0.739195</td>\n",
       "      <td>-0.468111</td>\n",
       "      <td>-0.681965</td>\n",
       "      <td>-0.664393</td>\n",
       "      <td>-0.536266</td>\n",
       "      <td>-0.712587</td>\n",
       "      <td>-0.667927</td>\n",
       "      <td>-0.646736</td>\n",
       "      <td>-0.798462</td>\n",
       "    </tr>\n",
       "  </tbody>\n",
       "</table>\n",
       "</div>"
      ],
      "text/plain": [
       "   Ch1volts_WL1  Ch2volts_WL1  Ch3volts_WL1  Ch4volts_WL1  Ch5volts_WL1  \\\n",
       "0     -0.924712     -0.769320     -0.557761     -0.717445     -0.721082   \n",
       "1     -0.871856     -0.763291     -0.537699     -0.710557     -0.709649   \n",
       "2     -0.803797     -0.756371     -0.516162     -0.702609     -0.696632   \n",
       "3     -0.720341     -0.748394     -0.493009     -0.693240     -0.681665   \n",
       "4     -0.623300     -0.739195     -0.468111     -0.681965     -0.664393   \n",
       "\n",
       "   Ch1volts_WL2  Ch2volts_WL2  Ch3volts_WL2  Ch4volts_WL2  Ch5volts_WL2  \n",
       "0     -0.627808     -0.739798     -0.708603     -0.689157     -0.802517  \n",
       "1     -0.608375     -0.733747     -0.699651     -0.679949     -0.801749  \n",
       "2     -0.586797     -0.727215     -0.689922     -0.669854     -0.800834  \n",
       "3     -0.562828     -0.720172     -0.679365     -0.658806     -0.799747  \n",
       "4     -0.536266     -0.712587     -0.667927     -0.646736     -0.798462  "
      ]
     },
     "execution_count": 4,
     "metadata": {},
     "output_type": "execute_result"
    }
   ],
   "source": [
    "from sklearn.preprocessing import StandardScaler, MinMaxScaler\n",
    "\n",
    "columns = df.columns\n",
    "index = df.index\n",
    "\n",
    "# Normalize the data\n",
    "scaler = StandardScaler() # Can't use this with BCELoss\n",
    "#scaler = MinMaxScaler()\n",
    "df = scaler.fit_transform(df)\n",
    "df = pd.DataFrame(df, columns=columns, index=index)\n",
    "df.head()"
   ]
  },
  {
   "cell_type": "code",
   "execution_count": 5,
   "metadata": {},
   "outputs": [
    {
     "name": "stdout",
     "output_type": "stream",
     "text": [
      "(100880,)\n",
      "(100880,)\n"
     ]
    }
   ],
   "source": [
    "x = df['Ch1volts_WL1']\n",
    "y = df['Ch2volts_WL1']\n",
    "print(x.shape)\n",
    "print(y.shape)"
   ]
  },
  {
   "cell_type": "markdown",
   "metadata": {},
   "source": [
    "## Create model and dataloaders"
   ]
  },
  {
   "cell_type": "code",
   "execution_count": 6,
   "metadata": {},
   "outputs": [
    {
     "name": "stdout",
     "output_type": "stream",
     "text": [
      "Data shape: (100781, 100)\n",
      "Data shape: (100781, 100)\n",
      "Number of batches: 6298\n"
     ]
    }
   ],
   "source": [
    "from Utils.models import VAE\n",
    "from Utils.dataloader import DataLoaderGenerator\n",
    "from Utils.processing import window_data\n",
    "\n",
    "# Window the data\n",
    "# data = window_data(x, 100)\n",
    "data_x = window_data(x, 100)\n",
    "data_y = window_data(y, 100)\n",
    "# print(f\"Data shape: {data.shape}\")\n",
    "print(f\"Data shape: {data_x.shape}\")\n",
    "print(f\"Data shape: {data_y.shape}\")\n",
    "\n",
    "# Create a DataLoader object\n",
    "#dataloader = DataLoaderGenerator(data, batch_size=32)\n",
    "dataloader = DataLoaderGenerator([data_x, data_y], batch_size=32)\n",
    "#train_loader, val_loader = dataloader.generate()\n",
    "train_loader = dataloader.generate()\n",
    "print(f\"Number of batches: {len(train_loader)}\")\n",
    "\n",
    "# Initialize the model\n",
    "vae = VAE(input_dims=100, latent_dims=6)#, device='cpu')\n"
   ]
  },
  {
   "cell_type": "code",
   "execution_count": 7,
   "metadata": {},
   "outputs": [
    {
     "name": "stdout",
     "output_type": "stream",
     "text": [
      "VAE(\n",
      "  (encoder): Sequential(\n",
      "    (0): Conv1d(1, 32, kernel_size=(3,), stride=(2,), padding=(31,))\n",
      "    (1): LeakyReLU(negative_slope=0.01)\n",
      "    (2): BatchNorm1d(32, eps=1e-05, momentum=0.1, affine=True, track_running_stats=True)\n",
      "    (3): Conv1d(32, 64, kernel_size=(3,), stride=(2,), padding=(21,))\n",
      "    (4): LeakyReLU(negative_slope=0.01)\n",
      "    (5): BatchNorm1d(64, eps=1e-05, momentum=0.1, affine=True, track_running_stats=True)\n",
      "    (6): Conv1d(64, 128, kernel_size=(3,), stride=(2,), padding=(11,))\n",
      "    (7): LeakyReLU(negative_slope=0.01)\n",
      "    (8): BatchNorm1d(128, eps=1e-05, momentum=0.1, affine=True, track_running_stats=True)\n",
      "    (9): Conv1d(128, 512, kernel_size=(4,), stride=(2,), padding=(5,))\n",
      "    (10): LeakyReLU(negative_slope=0.01)\n",
      "    (11): Flatten(start_dim=1, end_dim=-1)\n",
      "    (12): Linear(in_features=12288, out_features=24, bias=True)\n",
      "    (13): LeakyReLU(negative_slope=0.01)\n",
      "  )\n",
      "  (decoder): Sequential(\n",
      "    (0): Linear(in_features=6, out_features=24, bias=True)\n",
      "    (1): LeakyReLU(negative_slope=0.01)\n",
      "    (2): Linear(in_features=24, out_features=12288, bias=True)\n",
      "    (3): LeakyReLU(negative_slope=0.01)\n",
      "    (4): Unflatten(dim=1, unflattened_size=(512, 24))\n",
      "    (5): ConvTranspose1d(512, 128, kernel_size=(4,), stride=(2,), padding=(5,))\n",
      "    (6): LeakyReLU(negative_slope=0.01)\n",
      "    (7): BatchNorm1d(128, eps=1e-05, momentum=0.1, affine=True, track_running_stats=True)\n",
      "    (8): ConvTranspose1d(128, 64, kernel_size=(3,), stride=(2,), padding=(11,), output_padding=(1,))\n",
      "    (9): LeakyReLU(negative_slope=0.01)\n",
      "    (10): BatchNorm1d(64, eps=1e-05, momentum=0.1, affine=True, track_running_stats=True)\n",
      "    (11): ConvTranspose1d(64, 32, kernel_size=(3,), stride=(2,), padding=(21,), output_padding=(1,))\n",
      "    (12): LeakyReLU(negative_slope=0.01)\n",
      "    (13): BatchNorm1d(32, eps=1e-05, momentum=0.1, affine=True, track_running_stats=True)\n",
      "    (14): ConvTranspose1d(32, 1, kernel_size=(3,), stride=(2,), padding=(31,), output_padding=(1,))\n",
      "  )\n",
      "  (code_mean): Linear(in_features=24, out_features=6, bias=True)\n",
      "  (code_std_dev): Linear(in_features=24, out_features=6, bias=True)\n",
      ")\n",
      "----------------------------------------------------------------\n",
      "        Layer (type)               Output Shape         Param #\n",
      "================================================================\n",
      "            Conv1d-1               [-1, 32, 80]             128\n",
      "         LeakyReLU-2               [-1, 32, 80]               0\n",
      "       BatchNorm1d-3               [-1, 32, 80]              64\n",
      "            Conv1d-4               [-1, 64, 60]           6,208\n",
      "         LeakyReLU-5               [-1, 64, 60]               0\n",
      "       BatchNorm1d-6               [-1, 64, 60]             128\n",
      "            Conv1d-7              [-1, 128, 40]          24,704\n",
      "         LeakyReLU-8              [-1, 128, 40]               0\n",
      "       BatchNorm1d-9              [-1, 128, 40]             256\n",
      "           Conv1d-10              [-1, 512, 24]         262,656\n",
      "        LeakyReLU-11              [-1, 512, 24]               0\n",
      "          Flatten-12                [-1, 12288]               0\n",
      "           Linear-13                   [-1, 24]         294,936\n",
      "        LeakyReLU-14                   [-1, 24]               0\n",
      "           Linear-15                    [-1, 6]             150\n",
      "           Linear-16                    [-1, 6]             150\n",
      "           Linear-17                   [-1, 24]             168\n",
      "        LeakyReLU-18                   [-1, 24]               0\n",
      "           Linear-19                [-1, 12288]         307,200\n",
      "        LeakyReLU-20                [-1, 12288]               0\n",
      "        Unflatten-21              [-1, 512, 24]               0\n",
      "  ConvTranspose1d-22              [-1, 128, 40]         262,272\n",
      "        LeakyReLU-23              [-1, 128, 40]               0\n",
      "      BatchNorm1d-24              [-1, 128, 40]             256\n",
      "  ConvTranspose1d-25               [-1, 64, 60]          24,640\n",
      "        LeakyReLU-26               [-1, 64, 60]               0\n",
      "      BatchNorm1d-27               [-1, 64, 60]             128\n",
      "  ConvTranspose1d-28               [-1, 32, 80]           6,176\n",
      "        LeakyReLU-29               [-1, 32, 80]               0\n",
      "      BatchNorm1d-30               [-1, 32, 80]              64\n",
      "  ConvTranspose1d-31               [-1, 1, 100]              97\n",
      "================================================================\n",
      "Total params: 1,190,381\n",
      "Trainable params: 1,190,381\n",
      "Non-trainable params: 0\n",
      "----------------------------------------------------------------\n",
      "Input size (MB): 0.00\n",
      "Forward/backward pass size (MB): 1.09\n",
      "Params size (MB): 4.54\n",
      "Estimated Total Size (MB): 5.63\n",
      "----------------------------------------------------------------\n"
     ]
    }
   ],
   "source": [
    "from torchsummary import summary\n",
    "if torch.cuda.is_available():\n",
    "    vae = vae.to('cuda')\n",
    "print(vae)\n",
    "summary(vae, (1, 100))"
   ]
  },
  {
   "cell_type": "markdown",
   "metadata": {},
   "source": [
    "## Train Model"
   ]
  },
  {
   "cell_type": "code",
   "execution_count": 8,
   "metadata": {},
   "outputs": [],
   "source": [
    "train_save = False\n",
    "if train_save:\n",
    "    # Train the model\n",
    "    vae.train_model(train_loader, n_epochs=10)\n",
    "    # Save the model\n",
    "    vae.save_model(\"Weights/vae_ppg.pth\")\n",
    "else:\n",
    "    # Load the model\n",
    "    vae.load_model(\"Weights/vae_ppg.pth\")\n",
    "    vae.eval()"
   ]
  },
  {
   "cell_type": "markdown",
   "metadata": {},
   "source": [
    "### Loss Analysis"
   ]
  },
  {
   "cell_type": "code",
   "execution_count": 9,
   "metadata": {},
   "outputs": [],
   "source": [
    "if train_save:\n",
    "    vae.plot_loss()"
   ]
  },
  {
   "cell_type": "markdown",
   "metadata": {},
   "source": [
    "## Create LSTM data and model"
   ]
  },
  {
   "cell_type": "code",
   "execution_count": 10,
   "metadata": {},
   "outputs": [],
   "source": [
    "encoded_training_data = vae.encode_data(train_loader)"
   ]
  },
  {
   "cell_type": "code",
   "execution_count": 11,
   "metadata": {},
   "outputs": [
    {
     "name": "stdout",
     "output_type": "stream",
     "text": [
      "(201536, 6)\n"
     ]
    }
   ],
   "source": [
    "print(encoded_training_data.shape)"
   ]
  },
  {
   "cell_type": "code",
   "execution_count": 12,
   "metadata": {},
   "outputs": [],
   "source": [
    "# Create a DataLoader object\n",
    "lstm_dataloader = DataLoaderGenerator(encoded_training_data, batch_size=32)\n",
    "#train_loader_lstm, val_loader_lstm = lstm_dataloader.generate()\n",
    "train_loader_lstm = lstm_dataloader.generate()"
   ]
  },
  {
   "cell_type": "code",
   "execution_count": 13,
   "metadata": {},
   "outputs": [
    {
     "data": {
      "text/plain": [
       "torch.Size([201536, 1, 6])"
      ]
     },
     "execution_count": 13,
     "metadata": {},
     "output_type": "execute_result"
    }
   ],
   "source": [
    "train_loader_lstm.dataset.tensors[0].shape"
   ]
  },
  {
   "cell_type": "code",
   "execution_count": 14,
   "metadata": {},
   "outputs": [
    {
     "name": "stdout",
     "output_type": "stream",
     "text": [
      "LSTM(\n",
      "  (models): ModuleList(\n",
      "    (0): LSTM(6, 64, batch_first=True)\n",
      "    (1): LSTM(64, 64, batch_first=True)\n",
      "    (2): LSTM(64, 6, batch_first=True)\n",
      "    (3): Linear(in_features=6, out_features=6, bias=True)\n",
      "  )\n",
      ")\n"
     ]
    },
    {
     "data": {
      "text/plain": [
       "==========================================================================================\n",
       "Layer (type:depth-idx)                   Output Shape              Param #\n",
       "==========================================================================================\n",
       "LSTM                                     [1, 6]                    --\n",
       "├─ModuleList: 1-1                        --                        --\n",
       "│    └─LSTM: 2-1                         [1, 64]                   18,432\n",
       "│    └─LSTM: 2-2                         [1, 64]                   33,280\n",
       "│    └─LSTM: 2-3                         [1, 6]                    1,728\n",
       "│    └─Linear: 2-4                       [1, 6]                    42\n",
       "==========================================================================================\n",
       "Total params: 53,482\n",
       "Trainable params: 53,482\n",
       "Non-trainable params: 0\n",
       "Total mult-adds (M): 3.32\n",
       "==========================================================================================\n",
       "Input size (MB): 0.00\n",
       "Forward/backward pass size (MB): 0.00\n",
       "Params size (MB): 0.21\n",
       "Estimated Total Size (MB): 0.22\n",
       "=========================================================================================="
      ]
     },
     "execution_count": 14,
     "metadata": {},
     "output_type": "execute_result"
    }
   ],
   "source": [
    "from Utils.models import LSTM\n",
    "from torchinfo import summary as summary2\n",
    "\n",
    "lstm = LSTM()\n",
    "if torch.cuda.is_available():\n",
    "    lstm = lstm.to('cuda')\n",
    "print(lstm)\n",
    "summary2(lstm, input_size=(1, 6))"
   ]
  },
  {
   "cell_type": "markdown",
   "metadata": {},
   "source": [
    "## Train LSTM"
   ]
  },
  {
   "cell_type": "code",
   "execution_count": 15,
   "metadata": {},
   "outputs": [],
   "source": [
    "train_save = False\n",
    "if train_save:\n",
    "    # Train the model\n",
    "    lstm.train_model(train_loader_lstm, n_epochs=10)\n",
    "    # Save the model\n",
    "    lstm.save_model(\"Weights/lstm_ppg.pth\")\n",
    "else:\n",
    "    # Load the model\n",
    "    lstm.load_model(\"Weights/lstm_ppg.pth\")\n",
    "    lstm.eval()"
   ]
  },
  {
   "cell_type": "code",
   "execution_count": 16,
   "metadata": {},
   "outputs": [],
   "source": [
    "if train_save:\n",
    "    lstm.plot_loss()"
   ]
  },
  {
   "cell_type": "markdown",
   "metadata": {},
   "source": [
    "## Evaluate VAE-LSTM Model"
   ]
  },
  {
   "cell_type": "code",
   "execution_count": 17,
   "metadata": {},
   "outputs": [],
   "source": [
    "from Utils.models import VAE_LSTM\n",
    "\n",
    "vae_lstm = VAE_LSTM(vae, lstm)"
   ]
  },
  {
   "cell_type": "code",
   "execution_count": null,
   "metadata": {},
   "outputs": [],
   "source": [
    "import numpy as np\n",
    "import glob\n",
    "import os\n",
    "\n",
    "basefile = file_path.split(os.sep)[-1].replace('.csv', '')\n",
    "\n",
    "directory = \"TFO Data\" + os.sep + \"PPG\" + os.sep + \"Artificial Anomalies\" + os.sep + \"datafiles\"\n",
    "file_list = glob.glob(directory + os.sep + f\"{basefile}*.csv\")\n",
    "\n",
    "random_file = np.random.choice(file_list)\n",
    "key = random_file.split('_')[-1].split('.')[0]\n",
    "anomalous_data = pd.read_csv(random_file)\n",
    "\n",
    "directory = \"TFO Data\" + os.sep + \"PPG\" + os.sep + \"Artificial Anomalies\" + os.sep + \"anomaly indices\"\n",
    "\n",
    "file_list = glob.glob(directory + os.sep + f\"*_{key}.csv\")\n",
    "file_path_indices = file_list[0] if file_list else None\n",
    "\n",
    "if file_path_indices:\n",
    "    anomaly_indices = pd.read_csv(file_path_indices)\n",
    "else:\n",
    "    anomaly_indices = None\n",
    "\n",
    "test_data = anomalous_data['Ch1volts_WL1']\n",
    "anomalies = anomaly_indices['Ch1volts_WL1']\n",
    "anomalies = np.array(anomalies)\n",
    "print(f\"Anomalies: {anomalies}\")    "
   ]
  },
  {
   "cell_type": "code",
   "execution_count": 31,
   "metadata": {},
   "outputs": [
    {
     "data": {
      "image/png": "[encoded data removed]",
      "text/plain": [
       "<Figure size 432x288 with 1 Axes>"
      ]
     },
     "metadata": {
      "needs_background": "light"
     },
     "output_type": "display_data"
    }
   ],
   "source": [
    "import matplotlib.pyplot as plt\n",
    "\n",
    "# Scale the anomalies to match the height of the test data\n",
    "scaled_anomalies = anomalies * test_data.max()\n",
    "\n",
    "# Plot test_data\n",
    "plt.plot(test_data, label='Test Data')\n",
    "\n",
    "# Plot scaled anomalies\n",
    "plt.plot(scaled_anomalies, label='Anomalies')\n",
    "\n",
    "# Add labels and title\n",
    "plt.xlabel('Time')\n",
    "plt.ylabel('Value')\n",
    "plt.title('Test Data and Anomalies')\n",
    "\n",
    "# Set x-axis limits\n",
    "plt.xlim(test_data.index.min(), test_data.index.max())\n",
    "\n",
    "# Set y-axis limits\n",
    "plt.ylim(test_data.min(), test_data.max())\n",
    "\n",
    "# Add legend\n",
    "plt.legend()\n",
    "\n",
    "# Show the plot\n",
    "plt.show()"
   ]
  },
  {
   "cell_type": "code",
   "execution_count": 32,
   "metadata": {},
   "outputs": [
    {
     "name": "stdout",
     "output_type": "stream",
     "text": [
      "anomalies is a numpy array of booleans\n"
     ]
    }
   ],
   "source": [
    "import numpy as np\n",
    "\n",
    "if isinstance(anomalies, np.ndarray) and anomalies.dtype == bool:\n",
    "    print(\"anomalies is a numpy array of booleans\")\n",
    "else:\n",
    "    print(\"anomalies is not a numpy array of booleans\")"
   ]
  },
  {
   "cell_type": "code",
   "execution_count": 33,
   "metadata": {},
   "outputs": [
    {
     "name": "stdout",
     "output_type": "stream",
     "text": [
      "Threshold: 0.1, Precision: 0.011705649898536794, Recall: 0.46480067854113655, F1 Score: 0.022836187856815435\n",
      "\tAugmented Precision: 0.02484930236479366, Augmented Recall: 1.0, Augmented F1 Score: 0.04849357326478149\n",
      "Threshold: 0.125, Precision: 0.011750316690691478, Recall: 0.45631891433418154, F1 Score: 0.02291067816459065\n",
      "\tAugmented Precision: 0.025394705666961035, Augmented Recall: 1.0, Augmented F1 Score: 0.049531571650632274\n",
      "Threshold: 0.15000000000000002, Precision: 0.011778641991864467, Recall: 0.44698897370653096, F1 Score: 0.02295246183663248\n",
      "\tAugmented Precision: 0.025972595497202274, Augmented Recall: 1.0, Augmented F1 Score: 0.05063019345972988\n",
      "Threshold: 0.17500000000000002, Precision: 0.011721880079672153, Recall: 0.4342663273960984, F1 Score: 0.02282758928173347\n",
      "\tAugmented Precision: 0.026586388851305643, Augmented Recall: 1.0, Augmented F1 Score: 0.05179571663920923\n",
      "Threshold: 0.2, Precision: 0.01172525385174589, Recall: 0.42408821034775235, F1 Score: 0.022819588334626443\n",
      "\tAugmented Precision: 0.02721481002723789, Augmented Recall: 1.0, Augmented F1 Score: 0.05298757331295926\n",
      "Threshold: 0.225, Precision: 0.011672591026995869, Recall: 0.4122137404580153, F1 Score: 0.02270232395188602\n",
      "\tAugmented Precision: 0.02785324482033594, Augmented Recall: 1.0, Augmented F1 Score: 0.054196929300358555\n",
      "Threshold: 0.25, Precision: 0.011408339889850511, Recall: 0.3935538592027142, F1 Score: 0.0221739026546558\n",
      "\tAugmented Precision: 0.02848720612752797, Augmented Recall: 1.0, Augmented F1 Score: 0.055396325705962514\n",
      "Threshold: 0.275, Precision: 0.011350737797956867, Recall: 0.3816793893129771, F1 Score: 0.02204585537918871\n",
      "\tAugmented Precision: 0.02920196165849309, Augmented Recall: 1.0, Augmented F1 Score: 0.05674680528481698\n",
      "Threshold: 0.30000000000000004, Precision: 0.01120339465445419, Recall: 0.3672603901611535, F1 Score: 0.02174349703726022\n",
      "\tAugmented Precision: 0.02992765579388247, Augmented Recall: 1.0, Augmented F1 Score: 0.05811603489919652\n",
      "Threshold: 0.325, Precision: 0.011254147312541473, Recall: 0.359626802374894, F1 Score: 0.021825294692953103\n",
      "\tAugmented Precision: 0.030679156908665104, Augmented Recall: 1.0, Augmented F1 Score: 0.05953192456259941\n",
      "Threshold: 0.35, Precision: 0.011212352684417285, Recall: 0.3486005089058524, F1 Score: 0.02172591515792256\n",
      "\tAugmented Precision: 0.03150384779820436, Augmented Recall: 1.0, Augmented F1 Score: 0.0610833354920602\n",
      "Threshold: 0.375, Precision: 0.011194134273640612, Recall: 0.33927056827820185, F1 Score: 0.02167316861725184\n",
      "\tAugmented Precision: 0.032290753724802806, Augmented Recall: 1.0, Augmented F1 Score: 0.06256135416943037\n",
      "Threshold: 0.4, Precision: 0.011284147499928034, Recall: 0.3324851569126378, F1 Score: 0.021827495963026897\n",
      "\tAugmented Precision: 0.03318696166188144, Augmented Recall: 1.0, Augmented F1 Score: 0.06424192889252146\n",
      "Threshold: 0.42500000000000004, Precision: 0.011179132286398722, Recall: 0.32061068702290074, F1 Score: 0.021604938271604937\n",
      "\tAugmented Precision: 0.03406136245449818, Augmented Recall: 1.0, Augmented F1 Score: 0.0658788031179281\n",
      "Threshold: 0.45000000000000007, Precision: 0.01124961994527212, Recall: 0.3138252756573367, F1 Score: 0.021720625788840296\n",
      "\tAugmented Precision: 0.03498620137096056, Augmented Recall: 1.0, Augmented F1 Score: 0.06760708756236022\n",
      "Threshold: 0.475, Precision: 0.011298904538341158, Recall: 0.3061916878710772, F1 Score: 0.021793594735730025\n",
      "\tAugmented Precision: 0.035980224609375, Augmented Recall: 1.0, Augmented F1 Score: 0.06946121895896544\n",
      "Threshold: 0.5, Precision: 0.01140316969462698, Recall: 0.30025445292620867, F1 Score: 0.021971883437296343\n",
      "\tAugmented Precision: 0.03699519909630048, Augmented Recall: 1.0, Augmented F1 Score: 0.07135076252723312\n",
      "Threshold: 0.525, Precision: 0.011326378539493294, Recall: 0.2900763358778626, F1 Score: 0.02180149168100975\n",
      "\tAugmented Precision: 0.03799303944315545, Augmented Recall: 1.0, Augmented F1 Score: 0.07320480581167924\n",
      "Threshold: 0.55, Precision: 0.011396983552856071, Recall: 0.28329092451229854, F1 Score: 0.02191241594226669\n",
      "\tAugmented Precision: 0.03910318065735797, Augmented Recall: 1.0, Augmented F1 Score: 0.07526332588573252\n",
      "Threshold: 0.5750000000000001, Precision: 0.011362437119639779, Recall: 0.273960983884648, F1 Score: 0.021819901371343646\n",
      "\tAugmented Precision: 0.04026226821022436, Augmented Recall: 1.0, Augmented F1 Score: 0.07740791806184756\n",
      "Threshold: 0.6, Precision: 0.01143500199658765, Recall: 0.26717557251908397, F1 Score: 0.021931351388985585\n",
      "\tAugmented Precision: 0.04149801133363838, Augmented Recall: 1.0, Augmented F1 Score: 0.0796890841500507\n",
      "Threshold: 0.625, Precision: 0.011446098601032394, Recall: 0.2595419847328244, F1 Score: 0.021925267796367286\n",
      "\tAugmented Precision: 0.04270655993045242, Augmented Recall: 1.0, Augmented F1 Score: 0.0819148197040228\n",
      "Threshold: 0.65, Precision: 0.011644100580270792, Recall: 0.2553011026293469, F1 Score: 0.022272374116689482\n",
      "\tAugmented Precision: 0.04411104459742592, Augmented Recall: 1.0, Augmented F1 Score: 0.08449492958755868\n",
      "Threshold: 0.675, Precision: 0.011822502696009905, Recall: 0.2510602205258694, F1 Score: 0.02258162953921269\n",
      "\tAugmented Precision: 0.04548611111111111, Augmented Recall: 1.0, Augmented F1 Score: 0.08701428096977748\n",
      "Threshold: 0.7000000000000001, Precision: 0.011817205189653748, Recall: 0.24257845631891434, F1 Score: 0.022536543083408852\n",
      "\tAugmented Precision: 0.04698147041243276, Augmented Recall: 1.0, Augmented F1 Score: 0.08974651746974197\n",
      "Threshold: 0.725, Precision: 0.011931745285036138, Recall: 0.2366412213740458, F1 Score: 0.02271801970523573\n",
      "\tAugmented Precision: 0.04855248527776634, Augmented Recall: 1.0, Augmented F1 Score: 0.09260859319770638\n",
      "Threshold: 0.75, Precision: 0.012076439883216845, Recall: 0.23155216284987276, F1 Score: 0.022955644313643053\n",
      "\tAugmented Precision: 0.0501446070091868, Augmented Recall: 1.0, Augmented F1 Score: 0.09550038475557895\n",
      "Threshold: 0.775, Precision: 0.011761475447347947, Recall: 0.2179813401187447, F1 Score: 0.022318714719930525\n",
      "\tAugmented Precision: 0.0517718350678435, Augmented Recall: 1.0, Augmented F1 Score: 0.09844689378757514\n",
      "Threshold: 0.8, Precision: 0.011810837624604336, Recall: 0.21204410517387617, F1 Score: 0.022375369193591694\n",
      "\tAugmented Precision: 0.053358073859522084, Augmented Recall: 1.0, Augmented F1 Score: 0.10131041890440387\n",
      "Threshold: 0.8250000000000001, Precision: 0.011762983209683718, Recall: 0.20441051738761662, F1 Score: 0.02224581160289842\n",
      "\tAugmented Precision: 0.05502660319238309, Augmented Recall: 1.0, Augmented F1 Score: 0.10431320504313205\n",
      "Threshold: 0.85, Precision: 0.01193124368048534, Recall: 0.2001696352841391, F1 Score: 0.022520158404504033\n",
      "\tAugmented Precision: 0.056893306953626405, Augmented Recall: 1.0, Augmented F1 Score: 0.10766140078531641\n",
      "Threshold: 0.875, Precision: 0.012090442792839946, Recall: 0.19592875318066158, F1 Score: 0.022775449839783093\n",
      "\tAugmented Precision: 0.058791263588311556, Augmented Recall: 1.0, Augmented F1 Score: 0.11105354872132998\n",
      "Threshold: 0.9, Precision: 0.01219181793551883, Recall: 0.19083969465648856, F1 Score: 0.022919425486401142\n",
      "\tAugmented Precision: 0.060745015199134424, Augmented Recall: 1.0, Augmented F1 Score: 0.11453273751700019\n",
      "Threshold: 0.925, Precision: 0.01243529146972766, Recall: 0.18744698897370654, F1 Score: 0.023323307477177986\n",
      "\tAugmented Precision: 0.06294714361986119, Augmented Recall: 1.0, Augmented F1 Score: 0.11843889698126475\n",
      "Threshold: 0.9500000000000001, Precision: 0.012506544121924262, Recall: 0.1823579304495335, F1 Score: 0.02340772999455634\n",
      "\tAugmented Precision: 0.06494078766180116, Augmented Recall: 1.0, Augmented F1 Score: 0.12196131167890763\n",
      "Threshold: 0.975, Precision: 0.012700132418442277, Recall: 0.17896522476675147, F1 Score: 0.02371719215421795\n",
      "\tAugmented Precision: 0.06705721760891821, Augmented Recall: 1.0, Augmented F1 Score: 0.12568626405841907\n",
      "Threshold: 1.0, Precision: 0.012828535669586983, Recall: 0.17387616624257846, F1 Score: 0.023894166326709015\n",
      "\tAugmented Precision: 0.06954111124218473, Augmented Recall: 1.0, Augmented F1 Score: 0.13003915513152817\n"
     ]
    },
    {
     "data": {
      "image/png": "[encoded data removed]",
      "text/plain": [
       "<Figure size 864x432 with 2 Axes>"
      ]
     },
     "metadata": {
      "needs_background": "light"
     },
     "output_type": "display_data"
    },
    {
     "name": "stdout",
     "output_type": "stream",
     "text": [
      "Best threshold: 1.0\n",
      "Best precision: 0.012828535669586983\n",
      "Best recall: 0.17387616624257846\n",
      "Best F1: 0.023894166326709015\n",
      "Best threshold (augmented): 1.0\n",
      "Best precision (augmented): 0.06954111124218473\n",
      "Best recall (augmented): 1.0\n",
      "Best F1 (augmented): 0.13003915513152817\n"
     ]
    }
   ],
   "source": [
    "best_threshold, best_precision, best_recall, best_f1, best_threshold_aug, best_precision_aug, best_recall_aug, best_f1_aug = \\\n",
    "    vae_lstm.evaluate(test_data, anomalies, plot=True)\n",
    "\n",
    "print(f\"Best threshold: {best_threshold}\")\n",
    "print(f\"Best precision: {best_precision}\")\n",
    "print(f\"Best recall: {best_recall}\")\n",
    "print(f\"Best F1: {best_f1}\")\n",
    "print(f\"Best threshold (augmented): {best_threshold_aug}\")\n",
    "print(f\"Best precision (augmented): {best_precision_aug}\")\n",
    "print(f\"Best recall (augmented): {best_recall_aug}\")\n",
    "print(f\"Best F1 (augmented): {best_f1_aug}\")"
   ]
  },
  {
   "cell_type": "code",
   "execution_count": 36,
   "metadata": {},
   "outputs": [
    {
     "data": {
      "image/png": "[encoded data removed]",
      "text/plain": [
       "<Figure size 432x288 with 1 Axes>"
      ]
     },
     "metadata": {
      "needs_background": "light"
     },
     "output_type": "display_data"
    }
   ],
   "source": [
    "vae_lstm.plot_anomaly(test_data, best_threshold, None)"
   ]
  },
  {
   "cell_type": "code",
   "execution_count": 37,
   "metadata": {},
   "outputs": [
    {
     "data": {
      "image/png": "[encoded data removed]",
      "text/plain": [
       "<Figure size 432x288 with 1 Axes>"
      ]
     },
     "metadata": {
      "needs_background": "light"
     },
     "output_type": "display_data"
    }
   ],
   "source": [
    "vae_lstm.plot_anomaly(test_data, best_threshold, anomalies)"
   ]
  }
 ],
 "metadata": {
  "kernelspec": {
   "display_name": "Python 3",
   "language": "python",
   "name": "python3"
  },
  "language_info": {
   "codemirror_mode": {
    "name": "ipython",
    "version": 3
   },
   "file_extension": ".py",
   "mimetype": "text/x-python",
   "name": "python",
   "nbconvert_exporter": "python",
   "pygments_lexer": "ipython3",
   "version": "3.10.11"
  }
 },
 "nbformat": 4,
 "nbformat_minor": 2
}
