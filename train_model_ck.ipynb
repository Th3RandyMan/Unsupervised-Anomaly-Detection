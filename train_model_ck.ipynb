{
 "cells": [
  {
   "cell_type": "code",
   "execution_count": 1,
   "metadata": {},
   "outputs": [],
   "source": [
    "%load_ext autoreload\n",
    "%autoreload 2"
   ]
  },
  {
   "cell_type": "markdown",
   "metadata": {},
   "source": [
    "## Get dataset to train"
   ]
  },
  {
   "cell_type": "code",
   "execution_count": 3,
   "metadata": {},
   "outputs": [
    {
     "name": "stdout",
     "output_type": "stream",
     "text": [
      "TFO Data/PPG/Clean PPG/HR5.csv\n",
      "(100880, 10)\n"
     ]
    },
    {
     "data": {
      "text/html": [
       "<div>\n",
       "<style scoped>\n",
       "    .dataframe tbody tr th:only-of-type {\n",
       "        vertical-align: middle;\n",
       "    }\n",
       "\n",
       "    .dataframe tbody tr th {\n",
       "        vertical-align: top;\n",
       "    }\n",
       "\n",
       "    .dataframe thead th {\n",
       "        text-align: right;\n",
       "    }\n",
       "</style>\n",
       "<table border=\"1\" class=\"dataframe\">\n",
       "  <thead>\n",
       "    <tr style=\"text-align: right;\">\n",
       "      <th></th>\n",
       "      <th>Ch1volts_WL1</th>\n",
       "      <th>Ch2volts_WL1</th>\n",
       "      <th>Ch3volts_WL1</th>\n",
       "      <th>Ch4volts_WL1</th>\n",
       "      <th>Ch5volts_WL1</th>\n",
       "      <th>Ch1volts_WL2</th>\n",
       "      <th>Ch2volts_WL2</th>\n",
       "      <th>Ch3volts_WL2</th>\n",
       "      <th>Ch4volts_WL2</th>\n",
       "      <th>Ch5volts_WL2</th>\n",
       "    </tr>\n",
       "  </thead>\n",
       "  <tbody>\n",
       "    <tr>\n",
       "      <th>0</th>\n",
       "      <td>0.000002</td>\n",
       "      <td>7.564065e-09</td>\n",
       "      <td>7.688232e-10</td>\n",
       "      <td>2.700668e-11</td>\n",
       "      <td>1.013171e-12</td>\n",
       "      <td>4.776634e-07</td>\n",
       "      <td>2.232868e-09</td>\n",
       "      <td>1.269060e-10</td>\n",
       "      <td>1.522446e-12</td>\n",
       "      <td>7.479146e-15</td>\n",
       "    </tr>\n",
       "    <tr>\n",
       "      <th>1</th>\n",
       "      <td>0.000002</td>\n",
       "      <td>7.665455e-09</td>\n",
       "      <td>7.925804e-10</td>\n",
       "      <td>2.713974e-11</td>\n",
       "      <td>1.024571e-12</td>\n",
       "      <td>4.820643e-07</td>\n",
       "      <td>2.434110e-09</td>\n",
       "      <td>1.396813e-10</td>\n",
       "      <td>1.684177e-12</td>\n",
       "      <td>8.731407e-15</td>\n",
       "    </tr>\n",
       "    <tr>\n",
       "      <th>2</th>\n",
       "      <td>0.000002</td>\n",
       "      <td>7.781827e-09</td>\n",
       "      <td>8.180843e-10</td>\n",
       "      <td>2.729330e-11</td>\n",
       "      <td>1.037550e-12</td>\n",
       "      <td>4.869506e-07</td>\n",
       "      <td>2.651351e-09</td>\n",
       "      <td>1.535658e-10</td>\n",
       "      <td>1.861490e-12</td>\n",
       "      <td>1.022233e-14</td>\n",
       "    </tr>\n",
       "    <tr>\n",
       "      <th>3</th>\n",
       "      <td>0.000002</td>\n",
       "      <td>7.915956e-09</td>\n",
       "      <td>8.455011e-10</td>\n",
       "      <td>2.747432e-11</td>\n",
       "      <td>1.052474e-12</td>\n",
       "      <td>4.923786e-07</td>\n",
       "      <td>2.885586e-09</td>\n",
       "      <td>1.686320e-10</td>\n",
       "      <td>2.055546e-12</td>\n",
       "      <td>1.199234e-14</td>\n",
       "    </tr>\n",
       "    <tr>\n",
       "      <th>4</th>\n",
       "      <td>0.000002</td>\n",
       "      <td>8.070642e-09</td>\n",
       "      <td>8.749856e-10</td>\n",
       "      <td>2.769216e-11</td>\n",
       "      <td>1.069695e-12</td>\n",
       "      <td>4.983937e-07</td>\n",
       "      <td>3.137841e-09</td>\n",
       "      <td>1.849547e-10</td>\n",
       "      <td>2.267545e-12</td>\n",
       "      <td>1.408747e-14</td>\n",
       "    </tr>\n",
       "  </tbody>\n",
       "</table>\n",
       "</div>"
      ],
      "text/plain": [
       "   Ch1volts_WL1  Ch2volts_WL1  Ch3volts_WL1  Ch4volts_WL1  Ch5volts_WL1  \\\n",
       "0      0.000002  7.564065e-09  7.688232e-10  2.700668e-11  1.013171e-12   \n",
       "1      0.000002  7.665455e-09  7.925804e-10  2.713974e-11  1.024571e-12   \n",
       "2      0.000002  7.781827e-09  8.180843e-10  2.729330e-11  1.037550e-12   \n",
       "3      0.000002  7.915956e-09  8.455011e-10  2.747432e-11  1.052474e-12   \n",
       "4      0.000002  8.070642e-09  8.749856e-10  2.769216e-11  1.069695e-12   \n",
       "\n",
       "   Ch1volts_WL2  Ch2volts_WL2  Ch3volts_WL2  Ch4volts_WL2  Ch5volts_WL2  \n",
       "0  4.776634e-07  2.232868e-09  1.269060e-10  1.522446e-12  7.479146e-15  \n",
       "1  4.820643e-07  2.434110e-09  1.396813e-10  1.684177e-12  8.731407e-15  \n",
       "2  4.869506e-07  2.651351e-09  1.535658e-10  1.861490e-12  1.022233e-14  \n",
       "3  4.923786e-07  2.885586e-09  1.686320e-10  2.055546e-12  1.199234e-14  \n",
       "4  4.983937e-07  3.137841e-09  1.849547e-10  2.267545e-12  1.408747e-14  "
      ]
     },
     "execution_count": 3,
     "metadata": {},
     "output_type": "execute_result"
    }
   ],
   "source": [
    "import json\n",
    "import torch    #if error, restart kernel\n",
    "import torch.utils.data\n",
    "from torch import nn, optim\n",
    "from torch.nn import functional as F\n",
    "from torchvision import datasets, transforms\n",
    "from torchvision.utils import save_image\n",
    "\n",
    "import glob\n",
    "import pandas as pd\n",
    "import os\n",
    "\n",
    "Fs = 100  # Sampling frequency\n",
    "\n",
    "# Path to the folder containing the CSV files\n",
    "folder_path = \"TFO Data/PPG/Clean PPG\"\n",
    "\n",
    "# Get the list of CSV files in the folder\n",
    "file_list = glob.glob(folder_path + \"/*.csv\")\n",
    "file_path = file_list[0]\n",
    "\n",
    "# Read the CSV file into a pandas dataframe\n",
    "df = pd.read_csv(file_path)\n",
    "#df = df[df.columns[2:-1]]  # Remove the time, index, and temperature columns\n",
    "    \n",
    "# Show the head of the dataframe\n",
    "title = file_path.split(\"\\\\\")[-1]\n",
    "print(title)\n",
    "print(df.shape)\n",
    "df.head()"
   ]
  },
  {
   "cell_type": "markdown",
   "metadata": {},
   "source": [
    "### Normalize data in dataframe"
   ]
  },
  {
   "cell_type": "code",
   "execution_count": 4,
   "metadata": {},
   "outputs": [
    {
     "data": {
      "text/html": [
       "<div>\n",
       "<style scoped>\n",
       "    .dataframe tbody tr th:only-of-type {\n",
       "        vertical-align: middle;\n",
       "    }\n",
       "\n",
       "    .dataframe tbody tr th {\n",
       "        vertical-align: top;\n",
       "    }\n",
       "\n",
       "    .dataframe thead th {\n",
       "        text-align: right;\n",
       "    }\n",
       "</style>\n",
       "<table border=\"1\" class=\"dataframe\">\n",
       "  <thead>\n",
       "    <tr style=\"text-align: right;\">\n",
       "      <th></th>\n",
       "      <th>Ch1volts_WL1</th>\n",
       "      <th>Ch2volts_WL1</th>\n",
       "      <th>Ch3volts_WL1</th>\n",
       "      <th>Ch4volts_WL1</th>\n",
       "      <th>Ch5volts_WL1</th>\n",
       "      <th>Ch1volts_WL2</th>\n",
       "      <th>Ch2volts_WL2</th>\n",
       "      <th>Ch3volts_WL2</th>\n",
       "      <th>Ch4volts_WL2</th>\n",
       "      <th>Ch5volts_WL2</th>\n",
       "    </tr>\n",
       "  </thead>\n",
       "  <tbody>\n",
       "    <tr>\n",
       "      <th>0</th>\n",
       "      <td>-0.924712</td>\n",
       "      <td>-0.769320</td>\n",
       "      <td>-0.557761</td>\n",
       "      <td>-0.717445</td>\n",
       "      <td>-0.721082</td>\n",
       "      <td>-0.627808</td>\n",
       "      <td>-0.739798</td>\n",
       "      <td>-0.708603</td>\n",
       "      <td>-0.689157</td>\n",
       "      <td>-0.802517</td>\n",
       "    </tr>\n",
       "    <tr>\n",
       "      <th>1</th>\n",
       "      <td>-0.871856</td>\n",
       "      <td>-0.763291</td>\n",
       "      <td>-0.537699</td>\n",
       "      <td>-0.710557</td>\n",
       "      <td>-0.709649</td>\n",
       "      <td>-0.608375</td>\n",
       "      <td>-0.733747</td>\n",
       "      <td>-0.699651</td>\n",
       "      <td>-0.679949</td>\n",
       "      <td>-0.801749</td>\n",
       "    </tr>\n",
       "    <tr>\n",
       "      <th>2</th>\n",
       "      <td>-0.803797</td>\n",
       "      <td>-0.756371</td>\n",
       "      <td>-0.516162</td>\n",
       "      <td>-0.702609</td>\n",
       "      <td>-0.696632</td>\n",
       "      <td>-0.586797</td>\n",
       "      <td>-0.727215</td>\n",
       "      <td>-0.689922</td>\n",
       "      <td>-0.669854</td>\n",
       "      <td>-0.800834</td>\n",
       "    </tr>\n",
       "    <tr>\n",
       "      <th>3</th>\n",
       "      <td>-0.720341</td>\n",
       "      <td>-0.748394</td>\n",
       "      <td>-0.493009</td>\n",
       "      <td>-0.693240</td>\n",
       "      <td>-0.681665</td>\n",
       "      <td>-0.562828</td>\n",
       "      <td>-0.720172</td>\n",
       "      <td>-0.679365</td>\n",
       "      <td>-0.658806</td>\n",
       "      <td>-0.799747</td>\n",
       "    </tr>\n",
       "    <tr>\n",
       "      <th>4</th>\n",
       "      <td>-0.623300</td>\n",
       "      <td>-0.739195</td>\n",
       "      <td>-0.468111</td>\n",
       "      <td>-0.681965</td>\n",
       "      <td>-0.664393</td>\n",
       "      <td>-0.536266</td>\n",
       "      <td>-0.712587</td>\n",
       "      <td>-0.667927</td>\n",
       "      <td>-0.646736</td>\n",
       "      <td>-0.798462</td>\n",
       "    </tr>\n",
       "  </tbody>\n",
       "</table>\n",
       "</div>"
      ],
      "text/plain": [
       "   Ch1volts_WL1  Ch2volts_WL1  Ch3volts_WL1  Ch4volts_WL1  Ch5volts_WL1  \\\n",
       "0     -0.924712     -0.769320     -0.557761     -0.717445     -0.721082   \n",
       "1     -0.871856     -0.763291     -0.537699     -0.710557     -0.709649   \n",
       "2     -0.803797     -0.756371     -0.516162     -0.702609     -0.696632   \n",
       "3     -0.720341     -0.748394     -0.493009     -0.693240     -0.681665   \n",
       "4     -0.623300     -0.739195     -0.468111     -0.681965     -0.664393   \n",
       "\n",
       "   Ch1volts_WL2  Ch2volts_WL2  Ch3volts_WL2  Ch4volts_WL2  Ch5volts_WL2  \n",
       "0     -0.627808     -0.739798     -0.708603     -0.689157     -0.802517  \n",
       "1     -0.608375     -0.733747     -0.699651     -0.679949     -0.801749  \n",
       "2     -0.586797     -0.727215     -0.689922     -0.669854     -0.800834  \n",
       "3     -0.562828     -0.720172     -0.679365     -0.658806     -0.799747  \n",
       "4     -0.536266     -0.712587     -0.667927     -0.646736     -0.798462  "
      ]
     },
     "execution_count": 4,
     "metadata": {},
     "output_type": "execute_result"
    }
   ],
   "source": [
    "from sklearn.preprocessing import StandardScaler, MinMaxScaler\n",
    "\n",
    "columns = df.columns\n",
    "index = df.index\n",
    "\n",
    "# Normalize the data\n",
    "scaler = StandardScaler() # Can't use this with BCELoss\n",
    "#scaler = MinMaxScaler()\n",
    "df = scaler.fit_transform(df)\n",
    "df = pd.DataFrame(df, columns=columns, index=index)\n",
    "df.head()"
   ]
  },
  {
   "cell_type": "code",
   "execution_count": 6,
   "metadata": {},
   "outputs": [
    {
     "name": "stdout",
     "output_type": "stream",
     "text": [
      "(100880,)\n",
      "(100880,)\n"
     ]
    }
   ],
   "source": [
    "x = df['Ch1volts_WL1']\n",
    "y = df['Ch2volts_WL1']\n",
    "print(x.shape)\n",
    "print(y.shape)"
   ]
  },
  {
   "cell_type": "markdown",
   "metadata": {},
   "source": [
    "## Create model and dataloaders"
   ]
  },
  {
   "cell_type": "code",
   "execution_count": 7,
   "metadata": {},
   "outputs": [
    {
     "name": "stdout",
     "output_type": "stream",
     "text": [
      "Data shape: (100781, 100)\n",
      "Data shape: (100781, 100)\n",
      "Number of batches: 6298\n"
     ]
    }
   ],
   "source": [
    "from Utils.models import VAE\n",
    "from Utils.dataloader import DataLoaderGenerator\n",
    "from Utils.processing import window_data\n",
    "\n",
    "# Window the data\n",
    "# data = window_data(x, 100)\n",
    "data_x = window_data(x, 100)\n",
    "data_y = window_data(y, 100)\n",
    "# print(f\"Data shape: {data.shape}\")\n",
    "print(f\"Data shape: {data_x.shape}\")\n",
    "print(f\"Data shape: {data_y.shape}\")\n",
    "\n",
    "# Create a DataLoader object\n",
    "#dataloader = DataLoaderGenerator(data, batch_size=32)\n",
    "dataloader = DataLoaderGenerator([data_x, data_y], batch_size=32)\n",
    "#train_loader, val_loader = dataloader.generate()\n",
    "train_loader = dataloader.generate()\n",
    "print(f\"Number of batches: {len(train_loader)}\")\n",
    "\n",
    "# Initialize the model\n",
    "vae = VAE(input_dims=100, latent_dims=6)#, device='cpu')\n"
   ]
  },
  {
   "cell_type": "code",
   "execution_count": 8,
   "metadata": {},
   "outputs": [
    {
     "name": "stdout",
     "output_type": "stream",
     "text": [
      "VAE(\n",
      "  (encoder): Sequential(\n",
      "    (0): Conv1d(1, 32, kernel_size=(3,), stride=(2,), padding=(31,))\n",
      "    (1): LeakyReLU(negative_slope=0.01)\n",
      "    (2): BatchNorm1d(32, eps=1e-05, momentum=0.1, affine=True, track_running_stats=True)\n",
      "    (3): Conv1d(32, 64, kernel_size=(3,), stride=(2,), padding=(21,))\n",
      "    (4): LeakyReLU(negative_slope=0.01)\n",
      "    (5): BatchNorm1d(64, eps=1e-05, momentum=0.1, affine=True, track_running_stats=True)\n",
      "    (6): Conv1d(64, 128, kernel_size=(3,), stride=(2,), padding=(11,))\n",
      "    (7): LeakyReLU(negative_slope=0.01)\n",
      "    (8): BatchNorm1d(128, eps=1e-05, momentum=0.1, affine=True, track_running_stats=True)\n",
      "    (9): Conv1d(128, 512, kernel_size=(4,), stride=(2,), padding=(5,))\n",
      "    (10): LeakyReLU(negative_slope=0.01)\n",
      "    (11): Flatten(start_dim=1, end_dim=-1)\n",
      "    (12): Linear(in_features=12288, out_features=24, bias=True)\n",
      "    (13): LeakyReLU(negative_slope=0.01)\n",
      "  )\n",
      "  (decoder): Sequential(\n",
      "    (0): Linear(in_features=6, out_features=24, bias=True)\n",
      "    (1): LeakyReLU(negative_slope=0.01)\n",
      "    (2): Linear(in_features=24, out_features=12288, bias=True)\n",
      "    (3): LeakyReLU(negative_slope=0.01)\n",
      "    (4): Unflatten(dim=1, unflattened_size=(512, 24))\n",
      "    (5): ConvTranspose1d(512, 128, kernel_size=(4,), stride=(2,), padding=(5,))\n",
      "    (6): LeakyReLU(negative_slope=0.01)\n",
      "    (7): BatchNorm1d(128, eps=1e-05, momentum=0.1, affine=True, track_running_stats=True)\n",
      "    (8): ConvTranspose1d(128, 64, kernel_size=(3,), stride=(2,), padding=(11,), output_padding=(1,))\n",
      "    (9): LeakyReLU(negative_slope=0.01)\n",
      "    (10): BatchNorm1d(64, eps=1e-05, momentum=0.1, affine=True, track_running_stats=True)\n",
      "    (11): ConvTranspose1d(64, 32, kernel_size=(3,), stride=(2,), padding=(21,), output_padding=(1,))\n",
      "    (12): LeakyReLU(negative_slope=0.01)\n",
      "    (13): BatchNorm1d(32, eps=1e-05, momentum=0.1, affine=True, track_running_stats=True)\n",
      "    (14): ConvTranspose1d(32, 1, kernel_size=(3,), stride=(2,), padding=(31,), output_padding=(1,))\n",
      "  )\n",
      "  (code_mean): Linear(in_features=24, out_features=6, bias=True)\n",
      "  (code_std_dev): Linear(in_features=24, out_features=6, bias=True)\n",
      ")\n",
      "----------------------------------------------------------------\n",
      "        Layer (type)               Output Shape         Param #\n",
      "================================================================\n",
      "            Conv1d-1               [-1, 32, 80]             128\n",
      "         LeakyReLU-2               [-1, 32, 80]               0\n",
      "       BatchNorm1d-3               [-1, 32, 80]              64\n",
      "            Conv1d-4               [-1, 64, 60]           6,208\n",
      "         LeakyReLU-5               [-1, 64, 60]               0\n",
      "       BatchNorm1d-6               [-1, 64, 60]             128\n",
      "            Conv1d-7              [-1, 128, 40]          24,704\n",
      "         LeakyReLU-8              [-1, 128, 40]               0\n",
      "       BatchNorm1d-9              [-1, 128, 40]             256\n",
      "           Conv1d-10              [-1, 512, 24]         262,656\n",
      "        LeakyReLU-11              [-1, 512, 24]               0\n",
      "          Flatten-12                [-1, 12288]               0\n",
      "           Linear-13                   [-1, 24]         294,936\n",
      "        LeakyReLU-14                   [-1, 24]               0\n",
      "           Linear-15                    [-1, 6]             150\n",
      "           Linear-16                    [-1, 6]             150\n",
      "           Linear-17                   [-1, 24]             168\n",
      "        LeakyReLU-18                   [-1, 24]               0\n",
      "           Linear-19                [-1, 12288]         307,200\n",
      "        LeakyReLU-20                [-1, 12288]               0\n",
      "        Unflatten-21              [-1, 512, 24]               0\n",
      "  ConvTranspose1d-22              [-1, 128, 40]         262,272\n",
      "        LeakyReLU-23              [-1, 128, 40]               0\n",
      "      BatchNorm1d-24              [-1, 128, 40]             256\n",
      "  ConvTranspose1d-25               [-1, 64, 60]          24,640\n",
      "        LeakyReLU-26               [-1, 64, 60]               0\n",
      "      BatchNorm1d-27               [-1, 64, 60]             128\n",
      "  ConvTranspose1d-28               [-1, 32, 80]           6,176\n",
      "        LeakyReLU-29               [-1, 32, 80]               0\n",
      "      BatchNorm1d-30               [-1, 32, 80]              64\n",
      "  ConvTranspose1d-31               [-1, 1, 100]              97\n",
      "================================================================\n",
      "Total params: 1,190,381\n",
      "Trainable params: 1,190,381\n",
      "Non-trainable params: 0\n",
      "----------------------------------------------------------------\n",
      "Input size (MB): 0.00\n",
      "Forward/backward pass size (MB): 1.09\n",
      "Params size (MB): 4.54\n",
      "Estimated Total Size (MB): 5.63\n",
      "----------------------------------------------------------------\n"
     ]
    }
   ],
   "source": [
    "from torchsummary import summary\n",
    "if torch.cuda.is_available():\n",
    "    vae = vae.to('cuda')\n",
    "print(vae)\n",
    "summary(vae, (1, 100))"
   ]
  },
  {
   "cell_type": "markdown",
   "metadata": {},
   "source": [
    "## Train Model"
   ]
  },
  {
   "cell_type": "code",
   "execution_count": 9,
   "metadata": {},
   "outputs": [],
   "source": [
    "train_save = False\n",
    "if train_save:\n",
    "    # Train the model\n",
    "    vae.train_model(train_loader, n_epochs=10)\n",
    "    # Save the model\n",
    "    vae.save_model(\"Weights/vae_ppg.pth\")\n",
    "else:\n",
    "    # Load the model\n",
    "    vae.load_model(\"Weights/vae_ppg.pth\")\n",
    "    vae.eval()"
   ]
  },
  {
   "cell_type": "markdown",
   "metadata": {},
   "source": [
    "### Loss Analysis"
   ]
  },
  {
   "cell_type": "code",
   "execution_count": 11,
   "metadata": {},
   "outputs": [],
   "source": [
    "if train_save:\n",
    "    vae.plot_loss()"
   ]
  },
  {
   "cell_type": "markdown",
   "metadata": {},
   "source": [
    "## Create LSTM data and model"
   ]
  },
  {
   "cell_type": "code",
   "execution_count": 12,
   "metadata": {},
   "outputs": [],
   "source": [
    "encoded_training_data = vae.encode_data(train_loader)"
   ]
  },
  {
   "cell_type": "code",
   "execution_count": 13,
   "metadata": {},
   "outputs": [
    {
     "name": "stdout",
     "output_type": "stream",
     "text": [
      "(201536, 6)\n"
     ]
    }
   ],
   "source": [
    "print(encoded_training_data.shape)"
   ]
  },
  {
   "cell_type": "code",
   "execution_count": 14,
   "metadata": {},
   "outputs": [],
   "source": [
    "# Create a DataLoader object\n",
    "lstm_dataloader = DataLoaderGenerator(encoded_training_data, batch_size=32)\n",
    "#train_loader_lstm, val_loader_lstm = lstm_dataloader.generate()\n",
    "train_loader_lstm = lstm_dataloader.generate()"
   ]
  },
  {
   "cell_type": "code",
   "execution_count": 15,
   "metadata": {},
   "outputs": [
    {
     "data": {
      "text/plain": [
       "torch.Size([201536, 1, 6])"
      ]
     },
     "execution_count": 15,
     "metadata": {},
     "output_type": "execute_result"
    }
   ],
   "source": [
    "train_loader_lstm.dataset.tensors[0].shape"
   ]
  },
  {
   "cell_type": "code",
   "execution_count": 16,
   "metadata": {},
   "outputs": [
    {
     "name": "stdout",
     "output_type": "stream",
     "text": [
      "LSTM(\n",
      "  (models): ModuleList(\n",
      "    (0): LSTM(6, 64, batch_first=True)\n",
      "    (1): LSTM(64, 64, batch_first=True)\n",
      "    (2): LSTM(64, 6, batch_first=True)\n",
      "    (3): Linear(in_features=6, out_features=6, bias=True)\n",
      "  )\n",
      ")\n"
     ]
    },
    {
     "data": {
      "text/plain": [
       "==========================================================================================\n",
       "Layer (type:depth-idx)                   Output Shape              Param #\n",
       "==========================================================================================\n",
       "LSTM                                     [1, 6]                    --\n",
       "├─ModuleList: 1-1                        --                        --\n",
       "│    └─LSTM: 2-1                         [1, 64]                   18,432\n",
       "│    └─LSTM: 2-2                         [1, 64]                   33,280\n",
       "│    └─LSTM: 2-3                         [1, 6]                    1,728\n",
       "│    └─Linear: 2-4                       [1, 6]                    42\n",
       "==========================================================================================\n",
       "Total params: 53,482\n",
       "Trainable params: 53,482\n",
       "Non-trainable params: 0\n",
       "Total mult-adds (M): 3.32\n",
       "==========================================================================================\n",
       "Input size (MB): 0.00\n",
       "Forward/backward pass size (MB): 0.00\n",
       "Params size (MB): 0.21\n",
       "Estimated Total Size (MB): 0.22\n",
       "=========================================================================================="
      ]
     },
     "execution_count": 16,
     "metadata": {},
     "output_type": "execute_result"
    }
   ],
   "source": [
    "from Utils.models import LSTM\n",
    "from torchinfo import summary as summary2\n",
    "\n",
    "lstm = LSTM()\n",
    "if torch.cuda.is_available():\n",
    "    lstm = lstm.to('cuda')\n",
    "print(lstm)\n",
    "summary2(lstm, input_size=(1, 6))"
   ]
  },
  {
   "cell_type": "markdown",
   "metadata": {},
   "source": [
    "## Train LSTM"
   ]
  },
  {
   "cell_type": "code",
   "execution_count": 17,
   "metadata": {},
   "outputs": [],
   "source": [
    "train_save = False\n",
    "if train_save:\n",
    "    # Train the model\n",
    "    lstm.train_model(train_loader_lstm, n_epochs=10)\n",
    "    # Save the model\n",
    "    lstm.save_model(\"Weights/lstm_ppg.pth\")\n",
    "else:\n",
    "    # Load the model\n",
    "    lstm.load_model(\"Weights/lstm_ppg.pth\")\n",
    "    lstm.eval()"
   ]
  },
  {
   "cell_type": "code",
   "execution_count": 18,
   "metadata": {},
   "outputs": [],
   "source": [
    "if train_save:\n",
    "    lstm.plot_loss()"
   ]
  },
  {
   "cell_type": "markdown",
   "metadata": {},
   "source": [
    "## Evaluate VAE-LSTM Model"
   ]
  },
  {
   "cell_type": "code",
   "execution_count": 19,
   "metadata": {},
   "outputs": [],
   "source": [
    "from Utils.models import VAE_LSTM\n",
    "\n",
    "vae_lstm = VAE_LSTM(vae, lstm)"
   ]
  },
  {
   "cell_type": "code",
   "execution_count": 20,
   "metadata": {},
   "outputs": [
    {
     "name": "stdout",
     "output_type": "stream",
     "text": [
      "Anomalies: [False False  True ... False False False]\n"
     ]
    }
   ],
   "source": [
    "import numpy as np\n",
    "\n",
    "\n",
    "test_data = x\n",
    "anomalies = np.random.randint(0, 10, len(test_data))    # Random anomalies to test with\n",
    "anomalies = anomalies > 8\n",
    "print(f\"Anomalies: {anomalies}\")    "
   ]
  },
  {
   "cell_type": "code",
   "execution_count": 21,
   "metadata": {},
   "outputs": [
    {
     "name": "stdout",
     "output_type": "stream",
     "text": [
      "anomalies is a numpy array of booleans\n"
     ]
    }
   ],
   "source": [
    "import numpy as np\n",
    "\n",
    "if isinstance(anomalies, np.ndarray) and anomalies.dtype == bool:\n",
    "    print(\"anomalies is a numpy array of booleans\")\n",
    "else:\n",
    "    print(\"anomalies is not a numpy array of booleans\")"
   ]
  },
  {
   "cell_type": "code",
   "execution_count": 22,
   "metadata": {},
   "outputs": [
    {
     "name": "stdout",
     "output_type": "stream",
     "text": [
      "Threshold: 0.1, Precision: 0.10164908776459698, Recall: 0.4069234519746465, F1 Score: 0.162664691666017\n",
      "\tAugmented Precision: 0.21756656412432376, Augmented Recall: 1.0, Augmented F1 Score: 0.35737933437881164\n",
      "Threshold: 0.125, Precision: 0.1015185671464315, Recall: 0.39960994636762553, F1 Score: 0.16190589071945005\n",
      "\tAugmented Precision: 0.22042386725131116, Augmented Recall: 1.0, Augmented F1 Score: 0.361225100829532\n",
      "Threshold: 0.15000000000000002, Precision: 0.10152527417118366, Recall: 0.39268649439297904, F1 Score: 0.161338141025641\n",
      "\tAugmented Precision: 0.22345455733989933, Augmented Recall: 1.0, Augmented F1 Score: 0.3652846049725725\n",
      "Threshold: 0.17500000000000002, Precision: 0.10162528564459393, Recall: 0.38595806923451975, F1 Score: 0.16088776878988656\n",
      "\tAugmented Precision: 0.2266598886040138, Augmented Recall: 1.0, Augmented F1 Score: 0.3695562082199679\n",
      "Threshold: 0.2, Precision: 0.10170466429617235, Recall: 0.3793271574841541, F1 Score: 0.16040244933303097\n",
      "\tAugmented Precision: 0.229865734203035, Augmented Recall: 1.0, Augmented F1 Score: 0.3738062258511336\n",
      "Threshold: 0.225, Precision: 0.10164205363331023, Recall: 0.3718186250609459, F1 Score: 0.1596432833008855\n",
      "\tAugmented Precision: 0.23330148330148331, Augmented Recall: 1.0, Augmented F1 Score: 0.3783364999723304\n",
      "Threshold: 0.25, Precision: 0.10149691651498274, Recall: 0.36431009263773767, F1 Score: 0.15876253612102667\n",
      "\tAugmented Precision: 0.23668297636632202, Augmented Recall: 1.0, Augmented F1 Score: 0.382770654871881\n",
      "Threshold: 0.275, Precision: 0.10130818375418314, Recall: 0.35719161384690395, F1 Score: 0.15784710850642075\n",
      "\tAugmented Precision: 0.2398886523661372, Augmented Recall: 1.0, Augmented F1 Score: 0.38695192815636553\n",
      "Threshold: 0.30000000000000004, Precision: 0.10135897146723807, Recall: 0.3505607020965383, F1 Score: 0.15725127397589833\n",
      "\tAugmented Precision: 0.24342480060767185, Augmented Recall: 1.0, Augmented F1 Score: 0.3915392398297158\n",
      "Threshold: 0.325, Precision: 0.10121923165401427, Recall: 0.3432471964895173, F1 Score: 0.15633674579733964\n",
      "\tAugmented Precision: 0.2470429524704295, Augmented Recall: 1.0, Augmented F1 Score: 0.3962060039408105\n",
      "Threshold: 0.35, Precision: 0.10114699756519699, Recall: 0.3362262311067772, F1 Score: 0.15551145589031212\n",
      "\tAugmented Precision: 0.25075802034428796, Augmented Recall: 1.0, Augmented F1 Score: 0.4009696780121601\n",
      "Threshold: 0.375, Precision: 0.10131393852324085, Recall: 0.33008288639687955, F1 Score: 0.15504053496999953\n",
      "\tAugmented Precision: 0.2545865296293538, Augmented Recall: 1.0, Augmented F1 Score: 0.4058492955516859\n",
      "Threshold: 0.4, Precision: 0.10102059524537066, Recall: 0.32237932715748413, F1 Score: 0.15383541564877504\n",
      "\tAugmented Precision: 0.2584751102709515, Augmented Recall: 1.0, Augmented F1 Score: 0.4107750851191668\n",
      "Threshold: 0.42500000000000004, Precision: 0.10079890151042317, Recall: 0.3149683081423696, F1 Score: 0.15272228657887893\n",
      "\tAugmented Precision: 0.2624843226087179, Augmented Recall: 1.0, Augmented F1 Score: 0.4158219122536696\n",
      "Threshold: 0.45000000000000007, Precision: 0.10064976430118486, Recall: 0.3081423695758167, F1 Score: 0.15173705313197763\n",
      "\tAugmented Precision: 0.2664259177470058, Augmented Recall: 1.0, Augmented F1 Score: 0.4207524719977024\n",
      "Threshold: 0.475, Precision: 0.1005951800175627, Recall: 0.30160897123354463, F1 Score: 0.1508706892346715\n",
      "\tAugmented Precision: 0.270516236249967, Augmented Recall: 1.0, Augmented F1 Score: 0.4258367245245412\n",
      "Threshold: 0.5, Precision: 0.10050535274951793, Recall: 0.2947830326669917, F1 Score: 0.14990206530632483\n",
      "\tAugmented Precision: 0.274859287054409, Augmented Recall: 1.0, Augmented F1 Score: 0.4311994113318617\n",
      "Threshold: 0.525, Precision: 0.10046609737012213, Recall: 0.2879570941004388, F1 Score: 0.14896085552865213\n",
      "\tAugmented Precision: 0.27946586728437117, Augmented Recall: 1.0, Augmented F1 Score: 0.4368477103301385\n",
      "Threshold: 0.55, Precision: 0.10075172269784924, Recall: 0.28230131643100925, F1 Score: 0.14850342404267872\n",
      "\tAugmented Precision: 0.2841192441957112, Augmented Recall: 1.0, Augmented F1 Score: 0.4425122440613606\n",
      "Threshold: 0.5750000000000001, Precision: 0.10056919245819992, Recall: 0.2756704046806436, F1 Score: 0.147373908510361\n",
      "\tAugmented Precision: 0.2885643536496145, Augmented Recall: 1.0, Augmented F1 Score: 0.44788504793309025\n",
      "Threshold: 0.6, Precision: 0.10046958610898767, Recall: 0.2691370063383715, F1 Score: 0.14631818904734137\n",
      "\tAugmented Precision: 0.2932849053366127, Augmented Recall: 1.0, Augmented F1 Score: 0.4535503416554256\n",
      "Threshold: 0.625, Precision: 0.10078328981723238, Recall: 0.26348122866894197, F1 Score: 0.1457979225684608\n",
      "\tAugmented Precision: 0.29843145243430436, Augmented Recall: 1.0, Augmented F1 Score: 0.4596799497960465\n",
      "Threshold: 0.65, Precision: 0.10101666411863629, Recall: 0.2577279375914188, F1 Score: 0.1451440182322414\n",
      "\tAugmented Precision: 0.303617953576504, Augmented Recall: 1.0, Augmented F1 Score: 0.46580818060003176\n",
      "Threshold: 0.675, Precision: 0.10094080752646022, Recall: 0.25109702584105315, F1 Score: 0.14399552635257934\n",
      "\tAugmented Precision: 0.3089786080144622, Augmented Recall: 1.0, Augmented F1 Score: 0.47209114972954314\n",
      "Threshold: 0.7000000000000001, Precision: 0.10152917505030182, Recall: 0.24602632862018528, F1 Score: 0.14374020794758582\n",
      "\tAugmented Precision: 0.31474433736418883, Augmented Recall: 1.0, Augmented F1 Score: 0.4787916987650863\n",
      "Threshold: 0.725, Precision: 0.10161157024793388, Recall: 0.23978547050219406, F1 Score: 0.1427369032070817\n",
      "\tAugmented Precision: 0.3205088136017002, Augmented Recall: 1.0, Augmented F1 Score: 0.4854322974604151\n",
      "Threshold: 0.75, Precision: 0.10148009527050017, Recall: 0.23266699171136032, F1 Score: 0.14132140847573074\n",
      "\tAugmented Precision: 0.32679009591791214, Augmented Recall: 1.0, Augmented F1 Score: 0.4926025554808339\n",
      "Threshold: 0.775, Precision: 0.10148992112182297, Recall: 0.2258410531448074, F1 Score: 0.14004535147392289\n",
      "\tAugmented Precision: 0.3333983549530219, Augmented Recall: 1.0, Augmented F1 Score: 0.500073145755108\n",
      "Threshold: 0.8, Precision: 0.10153637596023497, Recall: 0.21911262798634812, F1 Score: 0.13876794812413157\n",
      "\tAugmented Precision: 0.34026810007299757, Augmented Recall: 1.0, Augmented F1 Score: 0.5077612457604042\n",
      "Threshold: 0.8250000000000001, Precision: 0.10161845409729328, Recall: 0.21306679668454412, F1 Score: 0.13760745662373652\n",
      "\tAugmented Precision: 0.3467807385364534, Augmented Recall: 1.0, Augmented F1 Score: 0.5149772767218219\n",
      "Threshold: 0.85, Precision: 0.10179067317820549, Recall: 0.20731350560702097, F1 Score: 0.1365402524003725\n",
      "\tAugmented Precision: 0.353437876960193, Augmented Recall: 1.0, Augmented F1 Score: 0.5222816399286988\n",
      "Threshold: 0.875, Precision: 0.10228901962723093, Recall: 0.20175524134568504, F1 Score: 0.13575224722787219\n",
      "\tAugmented Precision: 0.36092633653609263, Augmented Recall: 1.0, Augmented F1 Score: 0.5304127443881246\n",
      "Threshold: 0.9, Precision: 0.10213546710157484, Recall: 0.1954168698196002, F1 Score: 0.13415450528852593\n",
      "\tAugmented Precision: 0.3679319747416762, Augmented Recall: 1.0, Augmented F1 Score: 0.5379389933642825\n",
      "Threshold: 0.925, Precision: 0.10226914591868894, Recall: 0.18985860555826425, F1 Score: 0.13293278257604207\n",
      "\tAugmented Precision: 0.37500914210487823, Augmented Recall: 1.0, Augmented F1 Score: 0.545464216377224\n",
      "Threshold: 0.9500000000000001, Precision: 0.10264613382496475, Recall: 0.18459288152120917, F1 Score: 0.1319301669164024\n",
      "\tAugmented Precision: 0.38259215042530964, Augmented Recall: 1.0, Augmented F1 Score: 0.5534418090072587\n",
      "Threshold: 0.975, Precision: 0.10310947356668342, Recall: 0.18010726474890298, F1 Score: 0.13114172110195968\n",
      "\tAugmented Precision: 0.38961285665438244, Augmented Recall: 1.0, Augmented F1 Score: 0.5607502187226597\n",
      "Threshold: 1.0, Precision: 0.10346020761245675, Recall: 0.17493905411994148, F1 Score: 0.13002355499184634\n",
      "\tAugmented Precision: 0.39746521452656874, Augmented Recall: 1.0, Augmented F1 Score: 0.5688373641002885\n"
     ]
    },
    {
     "data": {
      "image/png": "[encoded data removed]",
      "text/plain": [
       "<Figure size 864x432 with 2 Axes>"
      ]
     },
     "metadata": {
      "needs_background": "light"
     },
     "output_type": "display_data"
    },
    {
     "name": "stdout",
     "output_type": "stream",
     "text": [
      "Best threshold: 0.1\n",
      "Best precision: 0.10164908776459698\n",
      "Best recall: 0.4069234519746465\n",
      "Best F1: 0.162664691666017\n",
      "Best threshold (augmented): 1.0\n",
      "Best precision (augmented): 0.39746521452656874\n",
      "Best recall (augmented): 1.0\n",
      "Best F1 (augmented): 0.5688373641002885\n"
     ]
    }
   ],
   "source": [
    "best_threshold, best_precision, best_recall, best_f1, best_threshold_aug, best_precision_aug, best_recall_aug, best_f1_aug = \\\n",
    "    vae_lstm.evaluate(test_data, anomalies, plot=True)\n",
    "\n",
    "print(f\"Best threshold: {best_threshold}\")\n",
    "print(f\"Best precision: {best_precision}\")\n",
    "print(f\"Best recall: {best_recall}\")\n",
    "print(f\"Best F1: {best_f1}\")\n",
    "print(f\"Best threshold (augmented): {best_threshold_aug}\")\n",
    "print(f\"Best precision (augmented): {best_precision_aug}\")\n",
    "print(f\"Best recall (augmented): {best_recall_aug}\")\n",
    "print(f\"Best F1 (augmented): {best_f1_aug}\")"
   ]
  },
  {
   "cell_type": "code",
   "execution_count": 23,
   "metadata": {},
   "outputs": [
    {
     "name": "stderr",
     "output_type": "stream",
     "text": [
      "/usr/lib/python3/dist-packages/IPython/core/pylabtools.py:132: UserWarning: Creating legend with loc=\"best\" can be slow with large amounts of data.\n",
      "  fig.canvas.print_figure(bytes_io, **kw)\n"
     ]
    },
    {
     "data": {
      "image/png": "[encoded data removed]",
      "text/plain": [
       "<Figure size 432x288 with 1 Axes>"
      ]
     },
     "metadata": {
      "needs_background": "light"
     },
     "output_type": "display_data"
    }
   ],
   "source": [
    "vae_lstm.plot_anomaly(test_data, best_threshold, None)"
   ]
  },
  {
   "cell_type": "code",
   "execution_count": 24,
   "metadata": {},
   "outputs": [
    {
     "data": {
      "image/png": "[encoded data removed]",
      "text/plain": [
       "<Figure size 432x288 with 1 Axes>"
      ]
     },
     "metadata": {
      "needs_background": "light"
     },
     "output_type": "display_data"
    }
   ],
   "source": [
    "vae_lstm.plot_anomaly(test_data, best_threshold, anomalies)"
   ]
  }
 ],
 "metadata": {
  "kernelspec": {
   "display_name": "Python 3",
   "language": "python",
   "name": "python3"
  },
  "language_info": {
   "codemirror_mode": {
    "name": "ipython",
    "version": 3
   },
   "file_extension": ".py",
   "mimetype": "text/x-python",
   "name": "python",
   "nbconvert_exporter": "python",
   "pygments_lexer": "ipython3",
   "version": "3.8.10"
  }
 },
 "nbformat": 4,
 "nbformat_minor": 2
}
