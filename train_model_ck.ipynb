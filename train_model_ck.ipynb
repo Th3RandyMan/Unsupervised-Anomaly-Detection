{
 "cells": [
  {
   "cell_type": "code",
   "execution_count": 1,
   "metadata": {},
   "outputs": [],
   "source": [
    "%load_ext autoreload\n",
    "%autoreload 2"
   ]
  },
  {
   "cell_type": "code",
   "execution_count": 2,
   "metadata": {},
   "outputs": [],
   "source": [
    "import os\n",
    "os.environ[\"CUDA_VISIBLE_DEVICES\"] = \"1\""
   ]
  },
  {
   "cell_type": "markdown",
   "metadata": {},
   "source": [
    "## Get dataset to train"
   ]
  },
  {
   "cell_type": "code",
   "execution_count": 3,
   "metadata": {},
   "outputs": [
    {
     "name": "stdout",
     "output_type": "stream",
     "text": [
      "HR4.csv\n",
      "(182480, 10)\n"
     ]
    },
    {
     "data": {
      "text/html": [
       "<div>\n",
       "<style scoped>\n",
       "    .dataframe tbody tr th:only-of-type {\n",
       "        vertical-align: middle;\n",
       "    }\n",
       "\n",
       "    .dataframe tbody tr th {\n",
       "        vertical-align: top;\n",
       "    }\n",
       "\n",
       "    .dataframe thead th {\n",
       "        text-align: right;\n",
       "    }\n",
       "</style>\n",
       "<table border=\"1\" class=\"dataframe\">\n",
       "  <thead>\n",
       "    <tr style=\"text-align: right;\">\n",
       "      <th></th>\n",
       "      <th>Ch1volts_WL1</th>\n",
       "      <th>Ch2volts_WL1</th>\n",
       "      <th>Ch3volts_WL1</th>\n",
       "      <th>Ch4volts_WL1</th>\n",
       "      <th>Ch5volts_WL1</th>\n",
       "      <th>Ch1volts_WL2</th>\n",
       "      <th>Ch2volts_WL2</th>\n",
       "      <th>Ch3volts_WL2</th>\n",
       "      <th>Ch4volts_WL2</th>\n",
       "      <th>Ch5volts_WL2</th>\n",
       "    </tr>\n",
       "  </thead>\n",
       "  <tbody>\n",
       "    <tr>\n",
       "      <th>0</th>\n",
       "      <td>0.000002</td>\n",
       "      <td>8.812440e-09</td>\n",
       "      <td>7.278859e-10</td>\n",
       "      <td>3.547247e-11</td>\n",
       "      <td>1.230252e-12</td>\n",
       "      <td>4.888189e-07</td>\n",
       "      <td>1.014160e-08</td>\n",
       "      <td>5.066293e-11</td>\n",
       "      <td>1.971175e-12</td>\n",
       "      <td>1.683671e-13</td>\n",
       "    </tr>\n",
       "    <tr>\n",
       "      <th>1</th>\n",
       "      <td>0.000002</td>\n",
       "      <td>8.866842e-09</td>\n",
       "      <td>7.359912e-10</td>\n",
       "      <td>3.567527e-11</td>\n",
       "      <td>1.232126e-12</td>\n",
       "      <td>4.941796e-07</td>\n",
       "      <td>1.083115e-08</td>\n",
       "      <td>5.613977e-11</td>\n",
       "      <td>2.132041e-12</td>\n",
       "      <td>1.813407e-13</td>\n",
       "    </tr>\n",
       "    <tr>\n",
       "      <th>2</th>\n",
       "      <td>0.000002</td>\n",
       "      <td>8.932950e-09</td>\n",
       "      <td>7.450155e-10</td>\n",
       "      <td>3.590589e-11</td>\n",
       "      <td>1.234843e-12</td>\n",
       "      <td>5.001466e-07</td>\n",
       "      <td>1.155518e-08</td>\n",
       "      <td>6.215791e-11</td>\n",
       "      <td>2.304295e-12</td>\n",
       "      <td>1.951288e-13</td>\n",
       "    </tr>\n",
       "    <tr>\n",
       "      <th>3</th>\n",
       "      <td>0.000002</td>\n",
       "      <td>9.013877e-09</td>\n",
       "      <td>7.551500e-10</td>\n",
       "      <td>3.617334e-11</td>\n",
       "      <td>1.238755e-12</td>\n",
       "      <td>5.067280e-07</td>\n",
       "      <td>1.231436e-08</td>\n",
       "      <td>6.875983e-11</td>\n",
       "      <td>2.488521e-12</td>\n",
       "      <td>2.097654e-13</td>\n",
       "    </tr>\n",
       "    <tr>\n",
       "      <th>4</th>\n",
       "      <td>0.000002</td>\n",
       "      <td>9.112364e-09</td>\n",
       "      <td>7.665012e-10</td>\n",
       "      <td>3.648827e-11</td>\n",
       "      <td>1.244208e-12</td>\n",
       "      <td>5.138828e-07</td>\n",
       "      <td>1.310927e-08</td>\n",
       "      <td>7.598956e-11</td>\n",
       "      <td>2.685308e-12</td>\n",
       "      <td>2.252847e-13</td>\n",
       "    </tr>\n",
       "  </tbody>\n",
       "</table>\n",
       "</div>"
      ],
      "text/plain": [
       "   Ch1volts_WL1  Ch2volts_WL1  Ch3volts_WL1  Ch4volts_WL1  Ch5volts_WL1  \\\n",
       "0      0.000002  8.812440e-09  7.278859e-10  3.547247e-11  1.230252e-12   \n",
       "1      0.000002  8.866842e-09  7.359912e-10  3.567527e-11  1.232126e-12   \n",
       "2      0.000002  8.932950e-09  7.450155e-10  3.590589e-11  1.234843e-12   \n",
       "3      0.000002  9.013877e-09  7.551500e-10  3.617334e-11  1.238755e-12   \n",
       "4      0.000002  9.112364e-09  7.665012e-10  3.648827e-11  1.244208e-12   \n",
       "\n",
       "   Ch1volts_WL2  Ch2volts_WL2  Ch3volts_WL2  Ch4volts_WL2  Ch5volts_WL2  \n",
       "0  4.888189e-07  1.014160e-08  5.066293e-11  1.971175e-12  1.683671e-13  \n",
       "1  4.941796e-07  1.083115e-08  5.613977e-11  2.132041e-12  1.813407e-13  \n",
       "2  5.001466e-07  1.155518e-08  6.215791e-11  2.304295e-12  1.951288e-13  \n",
       "3  5.067280e-07  1.231436e-08  6.875983e-11  2.488521e-12  2.097654e-13  \n",
       "4  5.138828e-07  1.310927e-08  7.598956e-11  2.685308e-12  2.252847e-13  "
      ]
     },
     "execution_count": 3,
     "metadata": {},
     "output_type": "execute_result"
    }
   ],
   "source": [
    "import json\n",
    "import torch    #if error, restart kernel\n",
    "import torch.utils.data\n",
    "from torch import nn, optim\n",
    "from torch.nn import functional as F\n",
    "from torchvision import datasets, transforms\n",
    "from torchvision.utils import save_image\n",
    "\n",
    "import glob\n",
    "import pandas as pd\n",
    "\n",
    "import os\n",
    "\n",
    "Fs = 100  # Sampling frequency\n",
    "\n",
    "# Path to the folder containing the CSV files\n",
    "folder_path = \"TFO Data\" + os.sep + \"PPG\" + os.sep + \"Clean PPG\"\n",
    "\n",
    "# Get the list of CSV files in the folder\n",
    "file_list = glob.glob(folder_path + os.sep + \"*.csv\")\n",
    "file_path = file_list[0]\n",
    "\n",
    "# Read the CSV file into a pandas dataframe\n",
    "df = pd.read_csv(file_path)\n",
    "#df = df[df.columns[2:-1]]  # Remove the time, index, and temperature columns\n",
    "    \n",
    "# Show the head of the dataframe\n",
    "title = file_path.split(os.sep)[-1]\n",
    "print(title)\n",
    "print(df.shape)\n",
    "df.head()"
   ]
  },
  {
   "cell_type": "markdown",
   "metadata": {},
   "source": [
    "### Normalize data in dataframe"
   ]
  },
  {
   "cell_type": "code",
   "execution_count": 4,
   "metadata": {},
   "outputs": [
    {
     "data": {
      "text/html": [
       "<div>\n",
       "<style scoped>\n",
       "    .dataframe tbody tr th:only-of-type {\n",
       "        vertical-align: middle;\n",
       "    }\n",
       "\n",
       "    .dataframe tbody tr th {\n",
       "        vertical-align: top;\n",
       "    }\n",
       "\n",
       "    .dataframe thead th {\n",
       "        text-align: right;\n",
       "    }\n",
       "</style>\n",
       "<table border=\"1\" class=\"dataframe\">\n",
       "  <thead>\n",
       "    <tr style=\"text-align: right;\">\n",
       "      <th></th>\n",
       "      <th>Ch1volts_WL1</th>\n",
       "      <th>Ch2volts_WL1</th>\n",
       "      <th>Ch3volts_WL1</th>\n",
       "      <th>Ch4volts_WL1</th>\n",
       "      <th>Ch5volts_WL1</th>\n",
       "      <th>Ch1volts_WL2</th>\n",
       "      <th>Ch2volts_WL2</th>\n",
       "      <th>Ch3volts_WL2</th>\n",
       "      <th>Ch4volts_WL2</th>\n",
       "      <th>Ch5volts_WL2</th>\n",
       "    </tr>\n",
       "  </thead>\n",
       "  <tbody>\n",
       "    <tr>\n",
       "      <th>0</th>\n",
       "      <td>-0.538759</td>\n",
       "      <td>-0.664989</td>\n",
       "      <td>-0.499580</td>\n",
       "      <td>-0.343222</td>\n",
       "      <td>-0.312601</td>\n",
       "      <td>-0.609809</td>\n",
       "      <td>-0.277720</td>\n",
       "      <td>-0.730452</td>\n",
       "      <td>-0.644684</td>\n",
       "      <td>-0.463153</td>\n",
       "    </tr>\n",
       "    <tr>\n",
       "      <th>1</th>\n",
       "      <td>-0.482541</td>\n",
       "      <td>-0.659695</td>\n",
       "      <td>-0.485675</td>\n",
       "      <td>-0.325992</td>\n",
       "      <td>-0.306380</td>\n",
       "      <td>-0.589670</td>\n",
       "      <td>-0.244317</td>\n",
       "      <td>-0.723975</td>\n",
       "      <td>-0.631475</td>\n",
       "      <td>-0.439833</td>\n",
       "    </tr>\n",
       "    <tr>\n",
       "      <th>2</th>\n",
       "      <td>-0.414578</td>\n",
       "      <td>-0.653261</td>\n",
       "      <td>-0.470194</td>\n",
       "      <td>-0.306398</td>\n",
       "      <td>-0.297368</td>\n",
       "      <td>-0.567252</td>\n",
       "      <td>-0.209244</td>\n",
       "      <td>-0.716858</td>\n",
       "      <td>-0.617330</td>\n",
       "      <td>-0.415049</td>\n",
       "    </tr>\n",
       "    <tr>\n",
       "      <th>3</th>\n",
       "      <td>-0.335063</td>\n",
       "      <td>-0.645385</td>\n",
       "      <td>-0.452809</td>\n",
       "      <td>-0.283676</td>\n",
       "      <td>-0.284387</td>\n",
       "      <td>-0.542527</td>\n",
       "      <td>-0.172469</td>\n",
       "      <td>-0.709051</td>\n",
       "      <td>-0.602202</td>\n",
       "      <td>-0.388740</td>\n",
       "    </tr>\n",
       "    <tr>\n",
       "      <th>4</th>\n",
       "      <td>-0.245473</td>\n",
       "      <td>-0.635800</td>\n",
       "      <td>-0.433336</td>\n",
       "      <td>-0.256919</td>\n",
       "      <td>-0.266294</td>\n",
       "      <td>-0.515648</td>\n",
       "      <td>-0.133962</td>\n",
       "      <td>-0.700501</td>\n",
       "      <td>-0.586042</td>\n",
       "      <td>-0.360844</td>\n",
       "    </tr>\n",
       "  </tbody>\n",
       "</table>\n",
       "</div>"
      ],
      "text/plain": [
       "   Ch1volts_WL1  Ch2volts_WL1  Ch3volts_WL1  Ch4volts_WL1  Ch5volts_WL1  \\\n",
       "0     -0.538759     -0.664989     -0.499580     -0.343222     -0.312601   \n",
       "1     -0.482541     -0.659695     -0.485675     -0.325992     -0.306380   \n",
       "2     -0.414578     -0.653261     -0.470194     -0.306398     -0.297368   \n",
       "3     -0.335063     -0.645385     -0.452809     -0.283676     -0.284387   \n",
       "4     -0.245473     -0.635800     -0.433336     -0.256919     -0.266294   \n",
       "\n",
       "   Ch1volts_WL2  Ch2volts_WL2  Ch3volts_WL2  Ch4volts_WL2  Ch5volts_WL2  \n",
       "0     -0.609809     -0.277720     -0.730452     -0.644684     -0.463153  \n",
       "1     -0.589670     -0.244317     -0.723975     -0.631475     -0.439833  \n",
       "2     -0.567252     -0.209244     -0.716858     -0.617330     -0.415049  \n",
       "3     -0.542527     -0.172469     -0.709051     -0.602202     -0.388740  \n",
       "4     -0.515648     -0.133962     -0.700501     -0.586042     -0.360844  "
      ]
     },
     "execution_count": 4,
     "metadata": {},
     "output_type": "execute_result"
    }
   ],
   "source": [
    "from sklearn.preprocessing import StandardScaler, MinMaxScaler\n",
    "\n",
    "columns = df.columns\n",
    "index = df.index\n",
    "\n",
    "# Normalize the data\n",
    "scaler = StandardScaler() # Can't use this with BCELoss\n",
    "#scaler = MinMaxScaler()\n",
    "df = scaler.fit_transform(df)\n",
    "df = pd.DataFrame(df, columns=columns, index=index)\n",
    "df.head()"
   ]
  },
  {
   "cell_type": "code",
   "execution_count": 5,
   "metadata": {},
   "outputs": [
    {
     "name": "stdout",
     "output_type": "stream",
     "text": [
      "(182480,)\n",
      "(182480,)\n"
     ]
    }
   ],
   "source": [
    "x = df['Ch1volts_WL1']\n",
    "y = df['Ch2volts_WL1']\n",
    "print(x.shape)\n",
    "print(y.shape)"
   ]
  },
  {
   "cell_type": "markdown",
   "metadata": {},
   "source": [
    "## Create model and dataloaders"
   ]
  },
  {
   "cell_type": "code",
   "execution_count": 6,
   "metadata": {},
   "outputs": [
    {
     "name": "stdout",
     "output_type": "stream",
     "text": [
      "Data shape: (182381, 100)\n",
      "Data shape: (182381, 100)\n",
      "Number of batches: 11398\n"
     ]
    }
   ],
   "source": [
    "from Utils.models import VAE\n",
    "from Utils.dataloader import DataLoaderGenerator\n",
    "from Utils.processing import window_data\n",
    "\n",
    "# Window the data\n",
    "# data = window_data(x, 100)\n",
    "data_x = window_data(x, 100)\n",
    "data_y = window_data(y, 100)\n",
    "# print(f\"Data shape: {data.shape}\")\n",
    "print(f\"Data shape: {data_x.shape}\")\n",
    "print(f\"Data shape: {data_y.shape}\")\n",
    "\n",
    "# Create a DataLoader object\n",
    "#dataloader = DataLoaderGenerator(data, batch_size=32)\n",
    "dataloader = DataLoaderGenerator([data_x, data_y], batch_size=32)\n",
    "#train_loader, val_loader = dataloader.generate()\n",
    "train_loader = dataloader.generate()\n",
    "print(f\"Number of batches: {len(train_loader)}\")\n",
    "\n",
    "# Initialize the model\n",
    "vae = VAE(input_dims=100, latent_dims=6)#, device='cpu')\n"
   ]
  },
  {
   "cell_type": "code",
   "execution_count": 7,
   "metadata": {},
   "outputs": [
    {
     "name": "stdout",
     "output_type": "stream",
     "text": [
      "VAE(\n",
      "  (encoder): Sequential(\n",
      "    (0): Conv1d(1, 32, kernel_size=(3,), stride=(2,), padding=(31,))\n",
      "    (1): LeakyReLU(negative_slope=0.01)\n",
      "    (2): BatchNorm1d(32, eps=1e-05, momentum=0.1, affine=True, track_running_stats=True)\n",
      "    (3): Conv1d(32, 64, kernel_size=(3,), stride=(2,), padding=(21,))\n",
      "    (4): LeakyReLU(negative_slope=0.01)\n",
      "    (5): BatchNorm1d(64, eps=1e-05, momentum=0.1, affine=True, track_running_stats=True)\n",
      "    (6): Conv1d(64, 128, kernel_size=(3,), stride=(2,), padding=(11,))\n",
      "    (7): LeakyReLU(negative_slope=0.01)\n",
      "    (8): BatchNorm1d(128, eps=1e-05, momentum=0.1, affine=True, track_running_stats=True)\n",
      "    (9): Conv1d(128, 512, kernel_size=(4,), stride=(2,), padding=(5,))\n",
      "    (10): LeakyReLU(negative_slope=0.01)\n",
      "    (11): Flatten(start_dim=1, end_dim=-1)\n",
      "    (12): Linear(in_features=12288, out_features=24, bias=True)\n",
      "    (13): LeakyReLU(negative_slope=0.01)\n",
      "  )\n",
      "  (decoder): Sequential(\n",
      "    (0): Linear(in_features=6, out_features=24, bias=True)\n",
      "    (1): LeakyReLU(negative_slope=0.01)\n",
      "    (2): Linear(in_features=24, out_features=12288, bias=True)\n",
      "    (3): LeakyReLU(negative_slope=0.01)\n",
      "    (4): Unflatten(dim=1, unflattened_size=(512, 24))\n",
      "    (5): ConvTranspose1d(512, 128, kernel_size=(4,), stride=(2,), padding=(5,))\n",
      "    (6): LeakyReLU(negative_slope=0.01)\n",
      "    (7): BatchNorm1d(128, eps=1e-05, momentum=0.1, affine=True, track_running_stats=True)\n",
      "    (8): ConvTranspose1d(128, 64, kernel_size=(3,), stride=(2,), padding=(11,), output_padding=(1,))\n",
      "    (9): LeakyReLU(negative_slope=0.01)\n",
      "    (10): BatchNorm1d(64, eps=1e-05, momentum=0.1, affine=True, track_running_stats=True)\n",
      "    (11): ConvTranspose1d(64, 32, kernel_size=(3,), stride=(2,), padding=(21,), output_padding=(1,))\n",
      "    (12): LeakyReLU(negative_slope=0.01)\n",
      "    (13): BatchNorm1d(32, eps=1e-05, momentum=0.1, affine=True, track_running_stats=True)\n",
      "    (14): ConvTranspose1d(32, 1, kernel_size=(3,), stride=(2,), padding=(31,), output_padding=(1,))\n",
      "  )\n",
      "  (code_mean): Linear(in_features=24, out_features=6, bias=True)\n",
      "  (code_std_dev): Linear(in_features=24, out_features=6, bias=True)\n",
      ")\n",
      "----------------------------------------------------------------\n",
      "        Layer (type)               Output Shape         Param #\n",
      "================================================================\n",
      "            Conv1d-1               [-1, 32, 80]             128\n",
      "         LeakyReLU-2               [-1, 32, 80]               0\n",
      "       BatchNorm1d-3               [-1, 32, 80]              64\n",
      "            Conv1d-4               [-1, 64, 60]           6,208\n",
      "         LeakyReLU-5               [-1, 64, 60]               0\n",
      "       BatchNorm1d-6               [-1, 64, 60]             128\n",
      "            Conv1d-7              [-1, 128, 40]          24,704\n",
      "         LeakyReLU-8              [-1, 128, 40]               0\n",
      "       BatchNorm1d-9              [-1, 128, 40]             256\n",
      "           Conv1d-10              [-1, 512, 24]         262,656\n",
      "        LeakyReLU-11              [-1, 512, 24]               0\n",
      "          Flatten-12                [-1, 12288]               0\n",
      "           Linear-13                   [-1, 24]         294,936\n",
      "        LeakyReLU-14                   [-1, 24]               0\n",
      "           Linear-15                    [-1, 6]             150\n",
      "           Linear-16                    [-1, 6]             150\n",
      "           Linear-17                   [-1, 24]             168\n",
      "        LeakyReLU-18                   [-1, 24]               0\n",
      "           Linear-19                [-1, 12288]         307,200\n",
      "        LeakyReLU-20                [-1, 12288]               0\n",
      "        Unflatten-21              [-1, 512, 24]               0\n",
      "  ConvTranspose1d-22              [-1, 128, 40]         262,272\n",
      "        LeakyReLU-23              [-1, 128, 40]               0\n",
      "      BatchNorm1d-24              [-1, 128, 40]             256\n",
      "  ConvTranspose1d-25               [-1, 64, 60]          24,640\n",
      "        LeakyReLU-26               [-1, 64, 60]               0\n",
      "      BatchNorm1d-27               [-1, 64, 60]             128\n",
      "  ConvTranspose1d-28               [-1, 32, 80]           6,176\n",
      "        LeakyReLU-29               [-1, 32, 80]               0\n",
      "      BatchNorm1d-30               [-1, 32, 80]              64\n",
      "  ConvTranspose1d-31               [-1, 1, 100]              97\n",
      "================================================================\n",
      "Total params: 1,190,381\n",
      "Trainable params: 1,190,381\n",
      "Non-trainable params: 0\n",
      "----------------------------------------------------------------\n",
      "Input size (MB): 0.00\n",
      "Forward/backward pass size (MB): 1.09\n",
      "Params size (MB): 4.54\n",
      "Estimated Total Size (MB): 5.63\n",
      "----------------------------------------------------------------\n"
     ]
    }
   ],
   "source": [
    "from torchsummary import summary\n",
    "if torch.cuda.is_available():\n",
    "    vae = vae.to('cuda')\n",
    "print(vae)\n",
    "summary(vae, (1, 100))"
   ]
  },
  {
   "cell_type": "markdown",
   "metadata": {},
   "source": [
    "## Train Model"
   ]
  },
  {
   "cell_type": "code",
   "execution_count": 8,
   "metadata": {},
   "outputs": [
    {
     "ename": "RuntimeError",
     "evalue": "Attempting to deserialize object on a CUDA device but torch.cuda.is_available() is False. If you are running on a CPU-only machine, please use torch.load with map_location=torch.device('cpu') to map your storages to the CPU.",
     "output_type": "error",
     "traceback": [
      "\u001b[1;31m---------------------------------------------------------------------------\u001b[0m",
      "\u001b[1;31mRuntimeError\u001b[0m                              Traceback (most recent call last)",
      "Cell \u001b[1;32mIn[8], line 9\u001b[0m\n\u001b[0;32m      6\u001b[0m     vae\u001b[38;5;241m.\u001b[39msave_model(\u001b[38;5;124m\"\u001b[39m\u001b[38;5;124mWeights/vae_ppg.pth\u001b[39m\u001b[38;5;124m\"\u001b[39m)\n\u001b[0;32m      7\u001b[0m \u001b[38;5;28;01melse\u001b[39;00m:\n\u001b[0;32m      8\u001b[0m     \u001b[38;5;66;03m# Load the model\u001b[39;00m\n\u001b[1;32m----> 9\u001b[0m     \u001b[43mvae\u001b[49m\u001b[38;5;241;43m.\u001b[39;49m\u001b[43mload_model\u001b[49m\u001b[43m(\u001b[49m\u001b[38;5;124;43m\"\u001b[39;49m\u001b[38;5;124;43mWeights/vae_ppg.pth\u001b[39;49m\u001b[38;5;124;43m\"\u001b[39;49m\u001b[43m)\u001b[49m\n\u001b[0;32m     10\u001b[0m     vae\u001b[38;5;241m.\u001b[39meval()\n",
      "File \u001b[1;32mc:\\Users\\Conor King\\Documents\\School\\EEC 289A\\Unsupervised-Anomaly-Detection\\Utils\\models.py:259\u001b[0m, in \u001b[0;36mVAE.load_model\u001b[1;34m(self, path)\u001b[0m\n\u001b[0;32m    258\u001b[0m \u001b[38;5;28;01mdef\u001b[39;00m \u001b[38;5;21mload_model\u001b[39m(\u001b[38;5;28mself\u001b[39m, path:\u001b[38;5;28mstr\u001b[39m):\n\u001b[1;32m--> 259\u001b[0m     \u001b[38;5;28mself\u001b[39m\u001b[38;5;241m.\u001b[39mload_state_dict(\u001b[43mtorch\u001b[49m\u001b[38;5;241;43m.\u001b[39;49m\u001b[43mload\u001b[49m\u001b[43m(\u001b[49m\u001b[43mpath\u001b[49m\u001b[43m)\u001b[49m)\n",
      "File \u001b[1;32m~\\AppData\\Local\\Packages\\PythonSoftwareFoundation.Python.3.10_qbz5n2kfra8p0\\LocalCache\\local-packages\\Python310\\site-packages\\torch\\serialization.py:1025\u001b[0m, in \u001b[0;36mload\u001b[1;34m(f, map_location, pickle_module, weights_only, mmap, **pickle_load_args)\u001b[0m\n\u001b[0;32m   1023\u001b[0m             \u001b[38;5;28;01mexcept\u001b[39;00m \u001b[38;5;167;01mRuntimeError\u001b[39;00m \u001b[38;5;28;01mas\u001b[39;00m e:\n\u001b[0;32m   1024\u001b[0m                 \u001b[38;5;28;01mraise\u001b[39;00m pickle\u001b[38;5;241m.\u001b[39mUnpicklingError(UNSAFE_MESSAGE \u001b[38;5;241m+\u001b[39m \u001b[38;5;28mstr\u001b[39m(e)) \u001b[38;5;28;01mfrom\u001b[39;00m \u001b[38;5;28;01mNone\u001b[39;00m\n\u001b[1;32m-> 1025\u001b[0m         \u001b[38;5;28;01mreturn\u001b[39;00m _load(opened_zipfile,\n\u001b[0;32m   1026\u001b[0m                      map_location,\n\u001b[0;32m   1027\u001b[0m                      pickle_module,\n\u001b[0;32m   1028\u001b[0m                      overall_storage\u001b[38;5;241m=\u001b[39moverall_storage,\n\u001b[0;32m   1029\u001b[0m                      \u001b[38;5;241m*\u001b[39m\u001b[38;5;241m*\u001b[39mpickle_load_args)\n\u001b[0;32m   1030\u001b[0m \u001b[38;5;28;01mif\u001b[39;00m mmap:\n\u001b[0;32m   1031\u001b[0m     f_name \u001b[38;5;241m=\u001b[39m \u001b[38;5;124m\"\u001b[39m\u001b[38;5;124m\"\u001b[39m \u001b[38;5;28;01mif\u001b[39;00m \u001b[38;5;129;01mnot\u001b[39;00m \u001b[38;5;28misinstance\u001b[39m(f, \u001b[38;5;28mstr\u001b[39m) \u001b[38;5;28;01melse\u001b[39;00m \u001b[38;5;124mf\u001b[39m\u001b[38;5;124m\"\u001b[39m\u001b[38;5;132;01m{\u001b[39;00mf\u001b[38;5;132;01m}\u001b[39;00m\u001b[38;5;124m, \u001b[39m\u001b[38;5;124m\"\u001b[39m\n",
      "File \u001b[1;32m~\\AppData\\Local\\Packages\\PythonSoftwareFoundation.Python.3.10_qbz5n2kfra8p0\\LocalCache\\local-packages\\Python310\\site-packages\\torch\\serialization.py:1446\u001b[0m, in \u001b[0;36m_load\u001b[1;34m(zip_file, map_location, pickle_module, pickle_file, overall_storage, **pickle_load_args)\u001b[0m\n\u001b[0;32m   1444\u001b[0m unpickler \u001b[38;5;241m=\u001b[39m UnpicklerWrapper(data_file, \u001b[38;5;241m*\u001b[39m\u001b[38;5;241m*\u001b[39mpickle_load_args)\n\u001b[0;32m   1445\u001b[0m unpickler\u001b[38;5;241m.\u001b[39mpersistent_load \u001b[38;5;241m=\u001b[39m persistent_load\n\u001b[1;32m-> 1446\u001b[0m result \u001b[38;5;241m=\u001b[39m \u001b[43munpickler\u001b[49m\u001b[38;5;241;43m.\u001b[39;49m\u001b[43mload\u001b[49m\u001b[43m(\u001b[49m\u001b[43m)\u001b[49m\n\u001b[0;32m   1448\u001b[0m torch\u001b[38;5;241m.\u001b[39m_utils\u001b[38;5;241m.\u001b[39m_validate_loaded_sparse_tensors()\n\u001b[0;32m   1449\u001b[0m torch\u001b[38;5;241m.\u001b[39m_C\u001b[38;5;241m.\u001b[39m_log_api_usage_metadata(\n\u001b[0;32m   1450\u001b[0m     \u001b[38;5;124m\"\u001b[39m\u001b[38;5;124mtorch.load.metadata\u001b[39m\u001b[38;5;124m\"\u001b[39m, {\u001b[38;5;124m\"\u001b[39m\u001b[38;5;124mserialization_id\u001b[39m\u001b[38;5;124m\"\u001b[39m: zip_file\u001b[38;5;241m.\u001b[39mserialization_id()}\n\u001b[0;32m   1451\u001b[0m )\n",
      "File \u001b[1;32m~\\AppData\\Local\\Packages\\PythonSoftwareFoundation.Python.3.10_qbz5n2kfra8p0\\LocalCache\\local-packages\\Python310\\site-packages\\torch\\serialization.py:1416\u001b[0m, in \u001b[0;36m_load.<locals>.persistent_load\u001b[1;34m(saved_id)\u001b[0m\n\u001b[0;32m   1414\u001b[0m \u001b[38;5;28;01melse\u001b[39;00m:\n\u001b[0;32m   1415\u001b[0m     nbytes \u001b[38;5;241m=\u001b[39m numel \u001b[38;5;241m*\u001b[39m torch\u001b[38;5;241m.\u001b[39m_utils\u001b[38;5;241m.\u001b[39m_element_size(dtype)\n\u001b[1;32m-> 1416\u001b[0m     typed_storage \u001b[38;5;241m=\u001b[39m \u001b[43mload_tensor\u001b[49m\u001b[43m(\u001b[49m\u001b[43mdtype\u001b[49m\u001b[43m,\u001b[49m\u001b[43m \u001b[49m\u001b[43mnbytes\u001b[49m\u001b[43m,\u001b[49m\u001b[43m \u001b[49m\u001b[43mkey\u001b[49m\u001b[43m,\u001b[49m\u001b[43m \u001b[49m\u001b[43m_maybe_decode_ascii\u001b[49m\u001b[43m(\u001b[49m\u001b[43mlocation\u001b[49m\u001b[43m)\u001b[49m\u001b[43m)\u001b[49m\n\u001b[0;32m   1418\u001b[0m \u001b[38;5;28;01mreturn\u001b[39;00m typed_storage\n",
      "File \u001b[1;32m~\\AppData\\Local\\Packages\\PythonSoftwareFoundation.Python.3.10_qbz5n2kfra8p0\\LocalCache\\local-packages\\Python310\\site-packages\\torch\\serialization.py:1390\u001b[0m, in \u001b[0;36m_load.<locals>.load_tensor\u001b[1;34m(dtype, numel, key, location)\u001b[0m\n\u001b[0;32m   1385\u001b[0m         storage\u001b[38;5;241m.\u001b[39mbyteswap(dtype)\n\u001b[0;32m   1387\u001b[0m \u001b[38;5;66;03m# TODO: Once we decide to break serialization FC, we can\u001b[39;00m\n\u001b[0;32m   1388\u001b[0m \u001b[38;5;66;03m# stop wrapping with TypedStorage\u001b[39;00m\n\u001b[0;32m   1389\u001b[0m typed_storage \u001b[38;5;241m=\u001b[39m torch\u001b[38;5;241m.\u001b[39mstorage\u001b[38;5;241m.\u001b[39mTypedStorage(\n\u001b[1;32m-> 1390\u001b[0m     wrap_storage\u001b[38;5;241m=\u001b[39m\u001b[43mrestore_location\u001b[49m\u001b[43m(\u001b[49m\u001b[43mstorage\u001b[49m\u001b[43m,\u001b[49m\u001b[43m \u001b[49m\u001b[43mlocation\u001b[49m\u001b[43m)\u001b[49m,\n\u001b[0;32m   1391\u001b[0m     dtype\u001b[38;5;241m=\u001b[39mdtype,\n\u001b[0;32m   1392\u001b[0m     _internal\u001b[38;5;241m=\u001b[39m\u001b[38;5;28;01mTrue\u001b[39;00m)\n\u001b[0;32m   1394\u001b[0m \u001b[38;5;28;01mif\u001b[39;00m typed_storage\u001b[38;5;241m.\u001b[39m_data_ptr() \u001b[38;5;241m!=\u001b[39m \u001b[38;5;241m0\u001b[39m:\n\u001b[0;32m   1395\u001b[0m     loaded_storages[key] \u001b[38;5;241m=\u001b[39m typed_storage\n",
      "File \u001b[1;32m~\\AppData\\Local\\Packages\\PythonSoftwareFoundation.Python.3.10_qbz5n2kfra8p0\\LocalCache\\local-packages\\Python310\\site-packages\\torch\\serialization.py:390\u001b[0m, in \u001b[0;36mdefault_restore_location\u001b[1;34m(storage, location)\u001b[0m\n\u001b[0;32m    388\u001b[0m \u001b[38;5;28;01mdef\u001b[39;00m \u001b[38;5;21mdefault_restore_location\u001b[39m(storage, location):\n\u001b[0;32m    389\u001b[0m     \u001b[38;5;28;01mfor\u001b[39;00m _, _, fn \u001b[38;5;129;01min\u001b[39;00m _package_registry:\n\u001b[1;32m--> 390\u001b[0m         result \u001b[38;5;241m=\u001b[39m \u001b[43mfn\u001b[49m\u001b[43m(\u001b[49m\u001b[43mstorage\u001b[49m\u001b[43m,\u001b[49m\u001b[43m \u001b[49m\u001b[43mlocation\u001b[49m\u001b[43m)\u001b[49m\n\u001b[0;32m    391\u001b[0m         \u001b[38;5;28;01mif\u001b[39;00m result \u001b[38;5;129;01mis\u001b[39;00m \u001b[38;5;129;01mnot\u001b[39;00m \u001b[38;5;28;01mNone\u001b[39;00m:\n\u001b[0;32m    392\u001b[0m             \u001b[38;5;28;01mreturn\u001b[39;00m result\n",
      "File \u001b[1;32m~\\AppData\\Local\\Packages\\PythonSoftwareFoundation.Python.3.10_qbz5n2kfra8p0\\LocalCache\\local-packages\\Python310\\site-packages\\torch\\serialization.py:265\u001b[0m, in \u001b[0;36m_cuda_deserialize\u001b[1;34m(obj, location)\u001b[0m\n\u001b[0;32m    263\u001b[0m \u001b[38;5;28;01mdef\u001b[39;00m \u001b[38;5;21m_cuda_deserialize\u001b[39m(obj, location):\n\u001b[0;32m    264\u001b[0m     \u001b[38;5;28;01mif\u001b[39;00m location\u001b[38;5;241m.\u001b[39mstartswith(\u001b[38;5;124m'\u001b[39m\u001b[38;5;124mcuda\u001b[39m\u001b[38;5;124m'\u001b[39m):\n\u001b[1;32m--> 265\u001b[0m         device \u001b[38;5;241m=\u001b[39m \u001b[43mvalidate_cuda_device\u001b[49m\u001b[43m(\u001b[49m\u001b[43mlocation\u001b[49m\u001b[43m)\u001b[49m\n\u001b[0;32m    266\u001b[0m         \u001b[38;5;28;01mif\u001b[39;00m \u001b[38;5;28mgetattr\u001b[39m(obj, \u001b[38;5;124m\"\u001b[39m\u001b[38;5;124m_torch_load_uninitialized\u001b[39m\u001b[38;5;124m\"\u001b[39m, \u001b[38;5;28;01mFalse\u001b[39;00m):\n\u001b[0;32m    267\u001b[0m             \u001b[38;5;28;01mwith\u001b[39;00m torch\u001b[38;5;241m.\u001b[39mcuda\u001b[38;5;241m.\u001b[39mdevice(device):\n",
      "File \u001b[1;32m~\\AppData\\Local\\Packages\\PythonSoftwareFoundation.Python.3.10_qbz5n2kfra8p0\\LocalCache\\local-packages\\Python310\\site-packages\\torch\\serialization.py:249\u001b[0m, in \u001b[0;36mvalidate_cuda_device\u001b[1;34m(location)\u001b[0m\n\u001b[0;32m    246\u001b[0m device \u001b[38;5;241m=\u001b[39m torch\u001b[38;5;241m.\u001b[39mcuda\u001b[38;5;241m.\u001b[39m_utils\u001b[38;5;241m.\u001b[39m_get_device_index(location, \u001b[38;5;28;01mTrue\u001b[39;00m)\n\u001b[0;32m    248\u001b[0m \u001b[38;5;28;01mif\u001b[39;00m \u001b[38;5;129;01mnot\u001b[39;00m torch\u001b[38;5;241m.\u001b[39mcuda\u001b[38;5;241m.\u001b[39mis_available():\n\u001b[1;32m--> 249\u001b[0m     \u001b[38;5;28;01mraise\u001b[39;00m \u001b[38;5;167;01mRuntimeError\u001b[39;00m(\u001b[38;5;124m'\u001b[39m\u001b[38;5;124mAttempting to deserialize object on a CUDA \u001b[39m\u001b[38;5;124m'\u001b[39m\n\u001b[0;32m    250\u001b[0m                        \u001b[38;5;124m'\u001b[39m\u001b[38;5;124mdevice but torch.cuda.is_available() is False. \u001b[39m\u001b[38;5;124m'\u001b[39m\n\u001b[0;32m    251\u001b[0m                        \u001b[38;5;124m'\u001b[39m\u001b[38;5;124mIf you are running on a CPU-only machine, \u001b[39m\u001b[38;5;124m'\u001b[39m\n\u001b[0;32m    252\u001b[0m                        \u001b[38;5;124m'\u001b[39m\u001b[38;5;124mplease use torch.load with map_location=torch.device(\u001b[39m\u001b[38;5;130;01m\\'\u001b[39;00m\u001b[38;5;124mcpu\u001b[39m\u001b[38;5;130;01m\\'\u001b[39;00m\u001b[38;5;124m) \u001b[39m\u001b[38;5;124m'\u001b[39m\n\u001b[0;32m    253\u001b[0m                        \u001b[38;5;124m'\u001b[39m\u001b[38;5;124mto map your storages to the CPU.\u001b[39m\u001b[38;5;124m'\u001b[39m)\n\u001b[0;32m    254\u001b[0m device_count \u001b[38;5;241m=\u001b[39m torch\u001b[38;5;241m.\u001b[39mcuda\u001b[38;5;241m.\u001b[39mdevice_count()\n\u001b[0;32m    255\u001b[0m \u001b[38;5;28;01mif\u001b[39;00m device \u001b[38;5;241m>\u001b[39m\u001b[38;5;241m=\u001b[39m device_count:\n",
      "\u001b[1;31mRuntimeError\u001b[0m: Attempting to deserialize object on a CUDA device but torch.cuda.is_available() is False. If you are running on a CPU-only machine, please use torch.load with map_location=torch.device('cpu') to map your storages to the CPU."
     ]
    }
   ],
   "source": [
    "train_save = False\n",
    "if train_save:\n",
    "    # Train the model\n",
    "    vae.train_model(train_loader, n_epochs=10)\n",
    "    # Save the model\n",
    "    vae.save_model(\"Weights/vae_ppg.pth\")\n",
    "else:\n",
    "    # Load the model\n",
    "    vae.load_model(\"Weights/vae_ppg.pth\")\n",
    "    vae.eval()"
   ]
  },
  {
   "cell_type": "markdown",
   "metadata": {},
   "source": [
    "### Loss Analysis"
   ]
  },
  {
   "cell_type": "code",
   "execution_count": null,
   "metadata": {},
   "outputs": [],
   "source": [
    "if train_save:\n",
    "    vae.plot_loss()"
   ]
  },
  {
   "cell_type": "markdown",
   "metadata": {},
   "source": [
    "## Create LSTM data and model"
   ]
  },
  {
   "cell_type": "code",
   "execution_count": null,
   "metadata": {},
   "outputs": [],
   "source": [
    "encoded_training_data = vae.encode_data(train_loader)"
   ]
  },
  {
   "cell_type": "code",
   "execution_count": null,
   "metadata": {},
   "outputs": [
    {
     "name": "stdout",
     "output_type": "stream",
     "text": [
      "(201536, 6)\n"
     ]
    }
   ],
   "source": [
    "print(encoded_training_data.shape)"
   ]
  },
  {
   "cell_type": "code",
   "execution_count": null,
   "metadata": {},
   "outputs": [],
   "source": [
    "# Create a DataLoader object\n",
    "lstm_dataloader = DataLoaderGenerator(encoded_training_data, batch_size=32)\n",
    "#train_loader_lstm, val_loader_lstm = lstm_dataloader.generate()\n",
    "train_loader_lstm = lstm_dataloader.generate()"
   ]
  },
  {
   "cell_type": "code",
   "execution_count": null,
   "metadata": {},
   "outputs": [
    {
     "data": {
      "text/plain": [
       "torch.Size([201536, 1, 6])"
      ]
     },
     "execution_count": 15,
     "metadata": {},
     "output_type": "execute_result"
    }
   ],
   "source": [
    "train_loader_lstm.dataset.tensors[0].shape"
   ]
  },
  {
   "cell_type": "code",
   "execution_count": null,
   "metadata": {},
   "outputs": [
    {
     "name": "stdout",
     "output_type": "stream",
     "text": [
      "LSTM(\n",
      "  (models): ModuleList(\n",
      "    (0): LSTM(6, 64, batch_first=True)\n",
      "    (1): LSTM(64, 64, batch_first=True)\n",
      "    (2): LSTM(64, 6, batch_first=True)\n",
      "    (3): Linear(in_features=6, out_features=6, bias=True)\n",
      "  )\n",
      ")\n"
     ]
    },
    {
     "data": {
      "text/plain": [
       "==========================================================================================\n",
       "Layer (type:depth-idx)                   Output Shape              Param #\n",
       "==========================================================================================\n",
       "LSTM                                     [1, 6]                    --\n",
       "├─ModuleList: 1-1                        --                        --\n",
       "│    └─LSTM: 2-1                         [1, 64]                   18,432\n",
       "│    └─LSTM: 2-2                         [1, 64]                   33,280\n",
       "│    └─LSTM: 2-3                         [1, 6]                    1,728\n",
       "│    └─Linear: 2-4                       [1, 6]                    42\n",
       "==========================================================================================\n",
       "Total params: 53,482\n",
       "Trainable params: 53,482\n",
       "Non-trainable params: 0\n",
       "Total mult-adds (M): 3.32\n",
       "==========================================================================================\n",
       "Input size (MB): 0.00\n",
       "Forward/backward pass size (MB): 0.00\n",
       "Params size (MB): 0.21\n",
       "Estimated Total Size (MB): 0.22\n",
       "=========================================================================================="
      ]
     },
     "execution_count": 16,
     "metadata": {},
     "output_type": "execute_result"
    }
   ],
   "source": [
    "from Utils.models import LSTM\n",
    "from torchinfo import summary as summary2\n",
    "\n",
    "lstm = LSTM()\n",
    "if torch.cuda.is_available():\n",
    "    lstm = lstm.to('cuda')\n",
    "print(lstm)\n",
    "summary2(lstm, input_size=(1, 6))"
   ]
  },
  {
   "cell_type": "markdown",
   "metadata": {},
   "source": [
    "## Train LSTM"
   ]
  },
  {
   "cell_type": "code",
   "execution_count": null,
   "metadata": {},
   "outputs": [],
   "source": [
    "train_save = False\n",
    "if train_save:\n",
    "    # Train the model\n",
    "    lstm.train_model(train_loader_lstm, n_epochs=10)\n",
    "    # Save the model\n",
    "    lstm.save_model(\"Weights/lstm_ppg.pth\")\n",
    "else:\n",
    "    # Load the model\n",
    "    lstm.load_model(\"Weights/lstm_ppg.pth\")\n",
    "    lstm.eval()"
   ]
  },
  {
   "cell_type": "code",
   "execution_count": null,
   "metadata": {},
   "outputs": [],
   "source": [
    "if train_save:\n",
    "    lstm.plot_loss()"
   ]
  },
  {
   "cell_type": "markdown",
   "metadata": {},
   "source": [
    "## Evaluate VAE-LSTM Model"
   ]
  },
  {
   "cell_type": "code",
   "execution_count": null,
   "metadata": {},
   "outputs": [],
   "source": [
    "from Utils.models import VAE_LSTM\n",
    "\n",
    "vae_lstm = VAE_LSTM(vae, lstm)"
   ]
  },
  {
   "cell_type": "code",
   "execution_count": 16,
   "metadata": {},
   "outputs": [
    {
     "name": "stdout",
     "output_type": "stream",
     "text": [
      "Anomalies: [False False False ... False False False]\n"
     ]
    }
   ],
   "source": [
    "import numpy as np\n",
    "import glob\n",
    "import os\n",
    "\n",
    "basefile = file_path.split(os.sep)[-1].replace('.csv', '')\n",
    "\n",
    "directory = \"TFO Data\" + os.sep + \"PPG\" + os.sep + \"Artificial Anomalies\" + os.sep + \"datafiles\"\n",
    "file_list = glob.glob(directory + os.sep + f\"{basefile}*.csv\")\n",
    "\n",
    "random_file = np.random.choice(file_list)\n",
    "key = random_file.split('_')[-1].split('.')[0]\n",
    "anomalous_data = pd.read_csv(random_file)\n",
    "\n",
    "directory = \"TFO Data\" + os.sep + \"PPG\" + os.sep + \"Artificial Anomalies\" + os.sep + \"anomaly indices\"\n",
    "\n",
    "file_list = glob.glob(directory + os.sep + f\"*_{key}.csv\")\n",
    "file_path_indices = file_list[0] if file_list else None\n",
    "\n",
    "if file_path_indices:\n",
    "    anomaly_indices = pd.read_csv(file_path_indices)\n",
    "else:\n",
    "    anomaly_indices = None\n",
    "\n",
    "test_data = anomalous_data['Ch1volts_WL1']\n",
    "anomalies = anomaly_indices['Ch1volts_WL1']\n",
    "anomalies = np.array(anomalies)\n",
    "print(f\"Anomalies: {anomalies}\")    "
   ]
  },
  {
   "cell_type": "code",
   "execution_count": 20,
   "metadata": {},
   "outputs": [
    {
     "data": {
      "image/png": "[encoded data removed]",
      "text/plain": [
       "<Figure size 640x480 with 1 Axes>"
      ]
     },
     "metadata": {},
     "output_type": "display_data"
    }
   ],
   "source": [
    "import matplotlib.pyplot as plt\n",
    "\n",
    "# Scale the anomalies to match the height of the test data\n",
    "scaled_anomalies = anomalies * test_data.max()\n",
    "\n",
    "# Plot test_data\n",
    "plt.plot(test_data, label='Test Data')\n",
    "\n",
    "# Plot scaled anomalies\n",
    "plt.plot(scaled_anomalies, label='Anomalies')\n",
    "\n",
    "# Add labels and title\n",
    "plt.xlabel('Time')\n",
    "plt.ylabel('Value')\n",
    "plt.title('Test Data and Anomalies')\n",
    "\n",
    "# Set x-axis limits\n",
    "plt.xlim(test_data.index.min(), test_data.index.max())\n",
    "\n",
    "# Set y-axis limits\n",
    "plt.ylim(test_data.min(), test_data.max())\n",
    "\n",
    "# Add legend\n",
    "plt.legend()\n",
    "\n",
    "# Show the plot\n",
    "plt.show()"
   ]
  },
  {
   "cell_type": "code",
   "execution_count": null,
   "metadata": {},
   "outputs": [
    {
     "name": "stdout",
     "output_type": "stream",
     "text": [
      "anomalies is a numpy array of booleans\n"
     ]
    }
   ],
   "source": [
    "import numpy as np\n",
    "\n",
    "if isinstance(anomalies, np.ndarray) and anomalies.dtype == bool:\n",
    "    print(\"anomalies is a numpy array of booleans\")\n",
    "else:\n",
    "    print(\"anomalies is not a numpy array of booleans\")"
   ]
  },
  {
   "cell_type": "code",
   "execution_count": null,
   "metadata": {},
   "outputs": [
    {
     "name": "stdout",
     "output_type": "stream",
     "text": [
      "Threshold: 0.1, Precision: 0.10164908776459698, Recall: 0.4069234519746465, F1 Score: 0.162664691666017\n",
      "\tAugmented Precision: 0.21756656412432376, Augmented Recall: 1.0, Augmented F1 Score: 0.35737933437881164\n",
      "Threshold: 0.125, Precision: 0.1015185671464315, Recall: 0.39960994636762553, F1 Score: 0.16190589071945005\n",
      "\tAugmented Precision: 0.22042386725131116, Augmented Recall: 1.0, Augmented F1 Score: 0.361225100829532\n",
      "Threshold: 0.15000000000000002, Precision: 0.10152527417118366, Recall: 0.39268649439297904, F1 Score: 0.161338141025641\n",
      "\tAugmented Precision: 0.22345455733989933, Augmented Recall: 1.0, Augmented F1 Score: 0.3652846049725725\n",
      "Threshold: 0.17500000000000002, Precision: 0.10162528564459393, Recall: 0.38595806923451975, F1 Score: 0.16088776878988656\n",
      "\tAugmented Precision: 0.2266598886040138, Augmented Recall: 1.0, Augmented F1 Score: 0.3695562082199679\n",
      "Threshold: 0.2, Precision: 0.10170466429617235, Recall: 0.3793271574841541, F1 Score: 0.16040244933303097\n",
      "\tAugmented Precision: 0.229865734203035, Augmented Recall: 1.0, Augmented F1 Score: 0.3738062258511336\n",
      "Threshold: 0.225, Precision: 0.10164205363331023, Recall: 0.3718186250609459, F1 Score: 0.1596432833008855\n",
      "\tAugmented Precision: 0.23330148330148331, Augmented Recall: 1.0, Augmented F1 Score: 0.3783364999723304\n",
      "Threshold: 0.25, Precision: 0.10149691651498274, Recall: 0.36431009263773767, F1 Score: 0.15876253612102667\n",
      "\tAugmented Precision: 0.23668297636632202, Augmented Recall: 1.0, Augmented F1 Score: 0.382770654871881\n",
      "Threshold: 0.275, Precision: 0.10130818375418314, Recall: 0.35719161384690395, F1 Score: 0.15784710850642075\n",
      "\tAugmented Precision: 0.2398886523661372, Augmented Recall: 1.0, Augmented F1 Score: 0.38695192815636553\n",
      "Threshold: 0.30000000000000004, Precision: 0.10135897146723807, Recall: 0.3505607020965383, F1 Score: 0.15725127397589833\n",
      "\tAugmented Precision: 0.24342480060767185, Augmented Recall: 1.0, Augmented F1 Score: 0.3915392398297158\n",
      "Threshold: 0.325, Precision: 0.10121923165401427, Recall: 0.3432471964895173, F1 Score: 0.15633674579733964\n",
      "\tAugmented Precision: 0.2470429524704295, Augmented Recall: 1.0, Augmented F1 Score: 0.3962060039408105\n",
      "Threshold: 0.35, Precision: 0.10114699756519699, Recall: 0.3362262311067772, F1 Score: 0.15551145589031212\n",
      "\tAugmented Precision: 0.25075802034428796, Augmented Recall: 1.0, Augmented F1 Score: 0.4009696780121601\n",
      "Threshold: 0.375, Precision: 0.10131393852324085, Recall: 0.33008288639687955, F1 Score: 0.15504053496999953\n",
      "\tAugmented Precision: 0.2545865296293538, Augmented Recall: 1.0, Augmented F1 Score: 0.4058492955516859\n",
      "Threshold: 0.4, Precision: 0.10102059524537066, Recall: 0.32237932715748413, F1 Score: 0.15383541564877504\n",
      "\tAugmented Precision: 0.2584751102709515, Augmented Recall: 1.0, Augmented F1 Score: 0.4107750851191668\n",
      "Threshold: 0.42500000000000004, Precision: 0.10079890151042317, Recall: 0.3149683081423696, F1 Score: 0.15272228657887893\n",
      "\tAugmented Precision: 0.2624843226087179, Augmented Recall: 1.0, Augmented F1 Score: 0.4158219122536696\n",
      "Threshold: 0.45000000000000007, Precision: 0.10064976430118486, Recall: 0.3081423695758167, F1 Score: 0.15173705313197763\n",
      "\tAugmented Precision: 0.2664259177470058, Augmented Recall: 1.0, Augmented F1 Score: 0.4207524719977024\n",
      "Threshold: 0.475, Precision: 0.1005951800175627, Recall: 0.30160897123354463, F1 Score: 0.1508706892346715\n",
      "\tAugmented Precision: 0.270516236249967, Augmented Recall: 1.0, Augmented F1 Score: 0.4258367245245412\n",
      "Threshold: 0.5, Precision: 0.10050535274951793, Recall: 0.2947830326669917, F1 Score: 0.14990206530632483\n",
      "\tAugmented Precision: 0.274859287054409, Augmented Recall: 1.0, Augmented F1 Score: 0.4311994113318617\n",
      "Threshold: 0.525, Precision: 0.10046609737012213, Recall: 0.2879570941004388, F1 Score: 0.14896085552865213\n",
      "\tAugmented Precision: 0.27946586728437117, Augmented Recall: 1.0, Augmented F1 Score: 0.4368477103301385\n",
      "Threshold: 0.55, Precision: 0.10075172269784924, Recall: 0.28230131643100925, F1 Score: 0.14850342404267872\n",
      "\tAugmented Precision: 0.2841192441957112, Augmented Recall: 1.0, Augmented F1 Score: 0.4425122440613606\n",
      "Threshold: 0.5750000000000001, Precision: 0.10056919245819992, Recall: 0.2756704046806436, F1 Score: 0.147373908510361\n",
      "\tAugmented Precision: 0.2885643536496145, Augmented Recall: 1.0, Augmented F1 Score: 0.44788504793309025\n",
      "Threshold: 0.6, Precision: 0.10046958610898767, Recall: 0.2691370063383715, F1 Score: 0.14631818904734137\n",
      "\tAugmented Precision: 0.2932849053366127, Augmented Recall: 1.0, Augmented F1 Score: 0.4535503416554256\n",
      "Threshold: 0.625, Precision: 0.10078328981723238, Recall: 0.26348122866894197, F1 Score: 0.1457979225684608\n",
      "\tAugmented Precision: 0.29843145243430436, Augmented Recall: 1.0, Augmented F1 Score: 0.4596799497960465\n",
      "Threshold: 0.65, Precision: 0.10101666411863629, Recall: 0.2577279375914188, F1 Score: 0.1451440182322414\n",
      "\tAugmented Precision: 0.303617953576504, Augmented Recall: 1.0, Augmented F1 Score: 0.46580818060003176\n",
      "Threshold: 0.675, Precision: 0.10094080752646022, Recall: 0.25109702584105315, F1 Score: 0.14399552635257934\n",
      "\tAugmented Precision: 0.3089786080144622, Augmented Recall: 1.0, Augmented F1 Score: 0.47209114972954314\n",
      "Threshold: 0.7000000000000001, Precision: 0.10152917505030182, Recall: 0.24602632862018528, F1 Score: 0.14374020794758582\n",
      "\tAugmented Precision: 0.31474433736418883, Augmented Recall: 1.0, Augmented F1 Score: 0.4787916987650863\n",
      "Threshold: 0.725, Precision: 0.10161157024793388, Recall: 0.23978547050219406, F1 Score: 0.1427369032070817\n",
      "\tAugmented Precision: 0.3205088136017002, Augmented Recall: 1.0, Augmented F1 Score: 0.4854322974604151\n",
      "Threshold: 0.75, Precision: 0.10148009527050017, Recall: 0.23266699171136032, F1 Score: 0.14132140847573074\n",
      "\tAugmented Precision: 0.32679009591791214, Augmented Recall: 1.0, Augmented F1 Score: 0.4926025554808339\n",
      "Threshold: 0.775, Precision: 0.10148992112182297, Recall: 0.2258410531448074, F1 Score: 0.14004535147392289\n",
      "\tAugmented Precision: 0.3333983549530219, Augmented Recall: 1.0, Augmented F1 Score: 0.500073145755108\n",
      "Threshold: 0.8, Precision: 0.10153637596023497, Recall: 0.21911262798634812, F1 Score: 0.13876794812413157\n",
      "\tAugmented Precision: 0.34026810007299757, Augmented Recall: 1.0, Augmented F1 Score: 0.5077612457604042\n",
      "Threshold: 0.8250000000000001, Precision: 0.10161845409729328, Recall: 0.21306679668454412, F1 Score: 0.13760745662373652\n",
      "\tAugmented Precision: 0.3467807385364534, Augmented Recall: 1.0, Augmented F1 Score: 0.5149772767218219\n",
      "Threshold: 0.85, Precision: 0.10179067317820549, Recall: 0.20731350560702097, F1 Score: 0.1365402524003725\n",
      "\tAugmented Precision: 0.353437876960193, Augmented Recall: 1.0, Augmented F1 Score: 0.5222816399286988\n",
      "Threshold: 0.875, Precision: 0.10228901962723093, Recall: 0.20175524134568504, F1 Score: 0.13575224722787219\n",
      "\tAugmented Precision: 0.36092633653609263, Augmented Recall: 1.0, Augmented F1 Score: 0.5304127443881246\n",
      "Threshold: 0.9, Precision: 0.10213546710157484, Recall: 0.1954168698196002, F1 Score: 0.13415450528852593\n",
      "\tAugmented Precision: 0.3679319747416762, Augmented Recall: 1.0, Augmented F1 Score: 0.5379389933642825\n",
      "Threshold: 0.925, Precision: 0.10226914591868894, Recall: 0.18985860555826425, F1 Score: 0.13293278257604207\n",
      "\tAugmented Precision: 0.37500914210487823, Augmented Recall: 1.0, Augmented F1 Score: 0.545464216377224\n",
      "Threshold: 0.9500000000000001, Precision: 0.10264613382496475, Recall: 0.18459288152120917, F1 Score: 0.1319301669164024\n",
      "\tAugmented Precision: 0.38259215042530964, Augmented Recall: 1.0, Augmented F1 Score: 0.5534418090072587\n",
      "Threshold: 0.975, Precision: 0.10310947356668342, Recall: 0.18010726474890298, F1 Score: 0.13114172110195968\n",
      "\tAugmented Precision: 0.38961285665438244, Augmented Recall: 1.0, Augmented F1 Score: 0.5607502187226597\n",
      "Threshold: 1.0, Precision: 0.10346020761245675, Recall: 0.17493905411994148, F1 Score: 0.13002355499184634\n",
      "\tAugmented Precision: 0.39746521452656874, Augmented Recall: 1.0, Augmented F1 Score: 0.5688373641002885\n"
     ]
    },
    {
     "data": {
      "image/png": "[encoded data removed]",
      "text/plain": [
       "<Figure size 864x432 with 2 Axes>"
      ]
     },
     "metadata": {
      "needs_background": "light"
     },
     "output_type": "display_data"
    },
    {
     "name": "stdout",
     "output_type": "stream",
     "text": [
      "Best threshold: 0.1\n",
      "Best precision: 0.10164908776459698\n",
      "Best recall: 0.4069234519746465\n",
      "Best F1: 0.162664691666017\n",
      "Best threshold (augmented): 1.0\n",
      "Best precision (augmented): 0.39746521452656874\n",
      "Best recall (augmented): 1.0\n",
      "Best F1 (augmented): 0.5688373641002885\n"
     ]
    }
   ],
   "source": [
    "best_threshold, best_precision, best_recall, best_f1, best_threshold_aug, best_precision_aug, best_recall_aug, best_f1_aug = \\\n",
    "    vae_lstm.evaluate(test_data, anomalies, plot=True)\n",
    "\n",
    "print(f\"Best threshold: {best_threshold}\")\n",
    "print(f\"Best precision: {best_precision}\")\n",
    "print(f\"Best recall: {best_recall}\")\n",
    "print(f\"Best F1: {best_f1}\")\n",
    "print(f\"Best threshold (augmented): {best_threshold_aug}\")\n",
    "print(f\"Best precision (augmented): {best_precision_aug}\")\n",
    "print(f\"Best recall (augmented): {best_recall_aug}\")\n",
    "print(f\"Best F1 (augmented): {best_f1_aug}\")"
   ]
  },
  {
   "cell_type": "code",
   "execution_count": null,
   "metadata": {},
   "outputs": [
    {
     "name": "stderr",
     "output_type": "stream",
     "text": [
      "/usr/lib/python3/dist-packages/IPython/core/pylabtools.py:132: UserWarning: Creating legend with loc=\"best\" can be slow with large amounts of data.\n",
      "  fig.canvas.print_figure(bytes_io, **kw)\n"
     ]
    },
    {
     "data": {
      "image/png": "[encoded data removed]",
      "text/plain": [
       "<Figure size 432x288 with 1 Axes>"
      ]
     },
     "metadata": {
      "needs_background": "light"
     },
     "output_type": "display_data"
    }
   ],
   "source": [
    "vae_lstm.plot_anomaly(test_data, best_threshold, None)"
   ]
  },
  {
   "cell_type": "code",
   "execution_count": null,
   "metadata": {},
   "outputs": [
    {
     "data": {
      "image/png": "[encoded data removed]",
      "text/plain": [
       "<Figure size 432x288 with 1 Axes>"
      ]
     },
     "metadata": {
      "needs_background": "light"
     },
     "output_type": "display_data"
    }
   ],
   "source": [
    "vae_lstm.plot_anomaly(test_data, best_threshold, anomalies)"
   ]
  }
 ],
 "metadata": {
  "kernelspec": {
   "display_name": "Python 3",
   "language": "python",
   "name": "python3"
  },
  "language_info": {
   "codemirror_mode": {
    "name": "ipython",
    "version": 3
   },
   "file_extension": ".py",
   "mimetype": "text/x-python",
   "name": "python",
   "nbconvert_exporter": "python",
   "pygments_lexer": "ipython3",
   "version": "3.10.11"
  }
 },
 "nbformat": 4,
 "nbformat_minor": 2
}
