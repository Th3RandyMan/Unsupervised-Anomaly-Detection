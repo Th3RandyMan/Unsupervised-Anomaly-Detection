{
 "cells": [
  {
   "cell_type": "code",
   "execution_count": 1,
   "metadata": {},
   "outputs": [],
   "source": [
    "%load_ext autoreload\n",
    "%autoreload 2"
   ]
  },
  {
   "cell_type": "code",
   "execution_count": 2,
   "metadata": {},
   "outputs": [],
   "source": [
    "import os\n",
    "os.environ[\"CUDA_VISIBLE_DEVICES\"] = \"1\""
   ]
  },
  {
   "cell_type": "markdown",
   "metadata": {},
   "source": [
    "## Get dataset to train"
   ]
  },
  {
   "cell_type": "code",
   "execution_count": 3,
   "metadata": {},
   "outputs": [
    {
     "name": "stdout",
     "output_type": "stream",
     "text": [
      "HR5.csv\n",
      "(100880, 10)\n"
     ]
    },
    {
     "data": {
      "text/html": [
       "<div>\n",
       "<style scoped>\n",
       "    .dataframe tbody tr th:only-of-type {\n",
       "        vertical-align: middle;\n",
       "    }\n",
       "\n",
       "    .dataframe tbody tr th {\n",
       "        vertical-align: top;\n",
       "    }\n",
       "\n",
       "    .dataframe thead th {\n",
       "        text-align: right;\n",
       "    }\n",
       "</style>\n",
       "<table border=\"1\" class=\"dataframe\">\n",
       "  <thead>\n",
       "    <tr style=\"text-align: right;\">\n",
       "      <th></th>\n",
       "      <th>Ch1volts_WL1</th>\n",
       "      <th>Ch2volts_WL1</th>\n",
       "      <th>Ch3volts_WL1</th>\n",
       "      <th>Ch4volts_WL1</th>\n",
       "      <th>Ch5volts_WL1</th>\n",
       "      <th>Ch1volts_WL2</th>\n",
       "      <th>Ch2volts_WL2</th>\n",
       "      <th>Ch3volts_WL2</th>\n",
       "      <th>Ch4volts_WL2</th>\n",
       "      <th>Ch5volts_WL2</th>\n",
       "    </tr>\n",
       "  </thead>\n",
       "  <tbody>\n",
       "    <tr>\n",
       "      <th>0</th>\n",
       "      <td>0.000002</td>\n",
       "      <td>7.564065e-09</td>\n",
       "      <td>7.688232e-10</td>\n",
       "      <td>2.700668e-11</td>\n",
       "      <td>1.013171e-12</td>\n",
       "      <td>4.776634e-07</td>\n",
       "      <td>2.232868e-09</td>\n",
       "      <td>1.269060e-10</td>\n",
       "      <td>1.522446e-12</td>\n",
       "      <td>7.479146e-15</td>\n",
       "    </tr>\n",
       "    <tr>\n",
       "      <th>1</th>\n",
       "      <td>0.000002</td>\n",
       "      <td>7.665455e-09</td>\n",
       "      <td>7.925804e-10</td>\n",
       "      <td>2.713974e-11</td>\n",
       "      <td>1.024571e-12</td>\n",
       "      <td>4.820643e-07</td>\n",
       "      <td>2.434110e-09</td>\n",
       "      <td>1.396813e-10</td>\n",
       "      <td>1.684177e-12</td>\n",
       "      <td>8.731407e-15</td>\n",
       "    </tr>\n",
       "    <tr>\n",
       "      <th>2</th>\n",
       "      <td>0.000002</td>\n",
       "      <td>7.781827e-09</td>\n",
       "      <td>8.180843e-10</td>\n",
       "      <td>2.729330e-11</td>\n",
       "      <td>1.037550e-12</td>\n",
       "      <td>4.869506e-07</td>\n",
       "      <td>2.651351e-09</td>\n",
       "      <td>1.535658e-10</td>\n",
       "      <td>1.861490e-12</td>\n",
       "      <td>1.022233e-14</td>\n",
       "    </tr>\n",
       "    <tr>\n",
       "      <th>3</th>\n",
       "      <td>0.000002</td>\n",
       "      <td>7.915956e-09</td>\n",
       "      <td>8.455011e-10</td>\n",
       "      <td>2.747432e-11</td>\n",
       "      <td>1.052474e-12</td>\n",
       "      <td>4.923786e-07</td>\n",
       "      <td>2.885586e-09</td>\n",
       "      <td>1.686320e-10</td>\n",
       "      <td>2.055546e-12</td>\n",
       "      <td>1.199234e-14</td>\n",
       "    </tr>\n",
       "    <tr>\n",
       "      <th>4</th>\n",
       "      <td>0.000002</td>\n",
       "      <td>8.070642e-09</td>\n",
       "      <td>8.749856e-10</td>\n",
       "      <td>2.769216e-11</td>\n",
       "      <td>1.069695e-12</td>\n",
       "      <td>4.983937e-07</td>\n",
       "      <td>3.137841e-09</td>\n",
       "      <td>1.849547e-10</td>\n",
       "      <td>2.267545e-12</td>\n",
       "      <td>1.408747e-14</td>\n",
       "    </tr>\n",
       "  </tbody>\n",
       "</table>\n",
       "</div>"
      ],
      "text/plain": [
       "   Ch1volts_WL1  Ch2volts_WL1  Ch3volts_WL1  Ch4volts_WL1  Ch5volts_WL1  \\\n",
       "0      0.000002  7.564065e-09  7.688232e-10  2.700668e-11  1.013171e-12   \n",
       "1      0.000002  7.665455e-09  7.925804e-10  2.713974e-11  1.024571e-12   \n",
       "2      0.000002  7.781827e-09  8.180843e-10  2.729330e-11  1.037550e-12   \n",
       "3      0.000002  7.915956e-09  8.455011e-10  2.747432e-11  1.052474e-12   \n",
       "4      0.000002  8.070642e-09  8.749856e-10  2.769216e-11  1.069695e-12   \n",
       "\n",
       "   Ch1volts_WL2  Ch2volts_WL2  Ch3volts_WL2  Ch4volts_WL2  Ch5volts_WL2  \n",
       "0  4.776634e-07  2.232868e-09  1.269060e-10  1.522446e-12  7.479146e-15  \n",
       "1  4.820643e-07  2.434110e-09  1.396813e-10  1.684177e-12  8.731407e-15  \n",
       "2  4.869506e-07  2.651351e-09  1.535658e-10  1.861490e-12  1.022233e-14  \n",
       "3  4.923786e-07  2.885586e-09  1.686320e-10  2.055546e-12  1.199234e-14  \n",
       "4  4.983937e-07  3.137841e-09  1.849547e-10  2.267545e-12  1.408747e-14  "
      ]
     },
     "execution_count": 3,
     "metadata": {},
     "output_type": "execute_result"
    }
   ],
   "source": [
    "import json\n",
    "import torch    #if error, restart kernel\n",
    "import torch.utils.data\n",
    "from torch import nn, optim\n",
    "from torch.nn import functional as F\n",
    "from torchvision import datasets, transforms\n",
    "from torchvision.utils import save_image\n",
    "\n",
    "import glob\n",
    "import pandas as pd\n",
    "\n",
    "import os\n",
    "\n",
    "Fs = 100  # Sampling frequency\n",
    "\n",
    "# Path to the folder containing the CSV files\n",
    "folder_path = \"TFO Data\" + os.sep + \"PPG\" + os.sep + \"Clean PPG\"\n",
    "\n",
    "# Get the list of CSV files in the folder\n",
    "file_list = glob.glob(folder_path + os.sep + \"*.csv\")\n",
    "file_path = file_list[0]\n",
    "\n",
    "# Read the CSV file into a pandas dataframe\n",
    "df = pd.read_csv(file_path)\n",
    "#df = df[df.columns[2:-1]]  # Remove the time, index, and temperature columns\n",
    "    \n",
    "# Show the head of the dataframe\n",
    "title = file_path.split(os.sep)[-1]\n",
    "print(title)\n",
    "print(df.shape)\n",
    "df.head()"
   ]
  },
  {
   "cell_type": "markdown",
   "metadata": {},
   "source": [
    "### Normalize data in dataframe"
   ]
  },
  {
   "cell_type": "code",
   "execution_count": 4,
   "metadata": {},
   "outputs": [
    {
     "data": {
      "text/html": [
       "<div>\n",
       "<style scoped>\n",
       "    .dataframe tbody tr th:only-of-type {\n",
       "        vertical-align: middle;\n",
       "    }\n",
       "\n",
       "    .dataframe tbody tr th {\n",
       "        vertical-align: top;\n",
       "    }\n",
       "\n",
       "    .dataframe thead th {\n",
       "        text-align: right;\n",
       "    }\n",
       "</style>\n",
       "<table border=\"1\" class=\"dataframe\">\n",
       "  <thead>\n",
       "    <tr style=\"text-align: right;\">\n",
       "      <th></th>\n",
       "      <th>Ch1volts_WL1</th>\n",
       "      <th>Ch2volts_WL1</th>\n",
       "      <th>Ch3volts_WL1</th>\n",
       "      <th>Ch4volts_WL1</th>\n",
       "      <th>Ch5volts_WL1</th>\n",
       "      <th>Ch1volts_WL2</th>\n",
       "      <th>Ch2volts_WL2</th>\n",
       "      <th>Ch3volts_WL2</th>\n",
       "      <th>Ch4volts_WL2</th>\n",
       "      <th>Ch5volts_WL2</th>\n",
       "    </tr>\n",
       "  </thead>\n",
       "  <tbody>\n",
       "    <tr>\n",
       "      <th>0</th>\n",
       "      <td>-0.924712</td>\n",
       "      <td>-0.769320</td>\n",
       "      <td>-0.557761</td>\n",
       "      <td>-0.717445</td>\n",
       "      <td>-0.721082</td>\n",
       "      <td>-0.627808</td>\n",
       "      <td>-0.739798</td>\n",
       "      <td>-0.708603</td>\n",
       "      <td>-0.689157</td>\n",
       "      <td>-0.802517</td>\n",
       "    </tr>\n",
       "    <tr>\n",
       "      <th>1</th>\n",
       "      <td>-0.871856</td>\n",
       "      <td>-0.763291</td>\n",
       "      <td>-0.537699</td>\n",
       "      <td>-0.710557</td>\n",
       "      <td>-0.709649</td>\n",
       "      <td>-0.608375</td>\n",
       "      <td>-0.733747</td>\n",
       "      <td>-0.699651</td>\n",
       "      <td>-0.679949</td>\n",
       "      <td>-0.801749</td>\n",
       "    </tr>\n",
       "    <tr>\n",
       "      <th>2</th>\n",
       "      <td>-0.803797</td>\n",
       "      <td>-0.756371</td>\n",
       "      <td>-0.516162</td>\n",
       "      <td>-0.702609</td>\n",
       "      <td>-0.696632</td>\n",
       "      <td>-0.586797</td>\n",
       "      <td>-0.727215</td>\n",
       "      <td>-0.689922</td>\n",
       "      <td>-0.669854</td>\n",
       "      <td>-0.800834</td>\n",
       "    </tr>\n",
       "    <tr>\n",
       "      <th>3</th>\n",
       "      <td>-0.720341</td>\n",
       "      <td>-0.748394</td>\n",
       "      <td>-0.493009</td>\n",
       "      <td>-0.693240</td>\n",
       "      <td>-0.681665</td>\n",
       "      <td>-0.562828</td>\n",
       "      <td>-0.720172</td>\n",
       "      <td>-0.679365</td>\n",
       "      <td>-0.658806</td>\n",
       "      <td>-0.799747</td>\n",
       "    </tr>\n",
       "    <tr>\n",
       "      <th>4</th>\n",
       "      <td>-0.623300</td>\n",
       "      <td>-0.739195</td>\n",
       "      <td>-0.468111</td>\n",
       "      <td>-0.681965</td>\n",
       "      <td>-0.664393</td>\n",
       "      <td>-0.536266</td>\n",
       "      <td>-0.712587</td>\n",
       "      <td>-0.667927</td>\n",
       "      <td>-0.646736</td>\n",
       "      <td>-0.798462</td>\n",
       "    </tr>\n",
       "  </tbody>\n",
       "</table>\n",
       "</div>"
      ],
      "text/plain": [
       "   Ch1volts_WL1  Ch2volts_WL1  Ch3volts_WL1  Ch4volts_WL1  Ch5volts_WL1  \\\n",
       "0     -0.924712     -0.769320     -0.557761     -0.717445     -0.721082   \n",
       "1     -0.871856     -0.763291     -0.537699     -0.710557     -0.709649   \n",
       "2     -0.803797     -0.756371     -0.516162     -0.702609     -0.696632   \n",
       "3     -0.720341     -0.748394     -0.493009     -0.693240     -0.681665   \n",
       "4     -0.623300     -0.739195     -0.468111     -0.681965     -0.664393   \n",
       "\n",
       "   Ch1volts_WL2  Ch2volts_WL2  Ch3volts_WL2  Ch4volts_WL2  Ch5volts_WL2  \n",
       "0     -0.627808     -0.739798     -0.708603     -0.689157     -0.802517  \n",
       "1     -0.608375     -0.733747     -0.699651     -0.679949     -0.801749  \n",
       "2     -0.586797     -0.727215     -0.689922     -0.669854     -0.800834  \n",
       "3     -0.562828     -0.720172     -0.679365     -0.658806     -0.799747  \n",
       "4     -0.536266     -0.712587     -0.667927     -0.646736     -0.798462  "
      ]
     },
     "execution_count": 4,
     "metadata": {},
     "output_type": "execute_result"
    }
   ],
   "source": [
    "from sklearn.preprocessing import StandardScaler, MinMaxScaler\n",
    "\n",
    "columns = df.columns\n",
    "index = df.index\n",
    "\n",
    "# Normalize the data\n",
    "scaler = StandardScaler() # Can't use this with BCELoss\n",
    "#scaler = MinMaxScaler()\n",
    "df = scaler.fit_transform(df)\n",
    "df = pd.DataFrame(df, columns=columns, index=index)\n",
    "df.head()"
   ]
  },
  {
   "cell_type": "code",
   "execution_count": 5,
   "metadata": {},
   "outputs": [
    {
     "name": "stdout",
     "output_type": "stream",
     "text": [
      "(100880,)\n",
      "(100880,)\n"
     ]
    }
   ],
   "source": [
    "x = df['Ch1volts_WL1']\n",
    "y = df['Ch2volts_WL1']\n",
    "print(x.shape)\n",
    "print(y.shape)"
   ]
  },
  {
   "cell_type": "markdown",
   "metadata": {},
   "source": [
    "## Create model and dataloaders"
   ]
  },
  {
   "cell_type": "code",
   "execution_count": 6,
   "metadata": {},
   "outputs": [
    {
     "name": "stdout",
     "output_type": "stream",
     "text": [
      "Data shape: (100781, 100)\n",
      "Data shape: (100781, 100)\n",
      "Number of batches: 6298\n"
     ]
    }
   ],
   "source": [
    "from Utils.models import VAE\n",
    "from Utils.dataloader import DataLoaderGenerator\n",
    "from Utils.processing import window_data\n",
    "\n",
    "# Window the data\n",
    "# data = window_data(x, 100)\n",
    "data_x = window_data(x, 100)\n",
    "data_y = window_data(y, 100)\n",
    "# print(f\"Data shape: {data.shape}\")\n",
    "print(f\"Data shape: {data_x.shape}\")\n",
    "print(f\"Data shape: {data_y.shape}\")\n",
    "\n",
    "# Create a DataLoader object\n",
    "#dataloader = DataLoaderGenerator(data, batch_size=32)\n",
    "dataloader = DataLoaderGenerator([data_x, data_y], batch_size=32)\n",
    "#train_loader, val_loader = dataloader.generate()\n",
    "train_loader = dataloader.generate()\n",
    "print(f\"Number of batches: {len(train_loader)}\")\n",
    "\n",
    "# Initialize the model\n",
    "vae = VAE(input_dims=100, latent_dims=6)#, device='cpu')\n"
   ]
  },
  {
   "cell_type": "code",
   "execution_count": 7,
   "metadata": {},
   "outputs": [
    {
     "name": "stdout",
     "output_type": "stream",
     "text": [
      "VAE(\n",
      "  (encoder): Sequential(\n",
      "    (0): Conv1d(1, 32, kernel_size=(3,), stride=(2,), padding=(31,))\n",
      "    (1): LeakyReLU(negative_slope=0.01)\n",
      "    (2): BatchNorm1d(32, eps=1e-05, momentum=0.1, affine=True, track_running_stats=True)\n",
      "    (3): Conv1d(32, 64, kernel_size=(3,), stride=(2,), padding=(21,))\n",
      "    (4): LeakyReLU(negative_slope=0.01)\n",
      "    (5): BatchNorm1d(64, eps=1e-05, momentum=0.1, affine=True, track_running_stats=True)\n",
      "    (6): Conv1d(64, 128, kernel_size=(3,), stride=(2,), padding=(11,))\n",
      "    (7): LeakyReLU(negative_slope=0.01)\n",
      "    (8): BatchNorm1d(128, eps=1e-05, momentum=0.1, affine=True, track_running_stats=True)\n",
      "    (9): Conv1d(128, 512, kernel_size=(4,), stride=(2,), padding=(5,))\n",
      "    (10): LeakyReLU(negative_slope=0.01)\n",
      "    (11): Flatten(start_dim=1, end_dim=-1)\n",
      "    (12): Linear(in_features=12288, out_features=24, bias=True)\n",
      "    (13): LeakyReLU(negative_slope=0.01)\n",
      "  )\n",
      "  (decoder): Sequential(\n",
      "    (0): Linear(in_features=6, out_features=24, bias=True)\n",
      "    (1): LeakyReLU(negative_slope=0.01)\n",
      "    (2): Linear(in_features=24, out_features=12288, bias=True)\n",
      "    (3): LeakyReLU(negative_slope=0.01)\n",
      "    (4): Unflatten(dim=1, unflattened_size=(512, 24))\n",
      "    (5): ConvTranspose1d(512, 128, kernel_size=(4,), stride=(2,), padding=(5,))\n",
      "    (6): LeakyReLU(negative_slope=0.01)\n",
      "    (7): BatchNorm1d(128, eps=1e-05, momentum=0.1, affine=True, track_running_stats=True)\n",
      "    (8): ConvTranspose1d(128, 64, kernel_size=(3,), stride=(2,), padding=(11,), output_padding=(1,))\n",
      "    (9): LeakyReLU(negative_slope=0.01)\n",
      "    (10): BatchNorm1d(64, eps=1e-05, momentum=0.1, affine=True, track_running_stats=True)\n",
      "    (11): ConvTranspose1d(64, 32, kernel_size=(3,), stride=(2,), padding=(21,), output_padding=(1,))\n",
      "    (12): LeakyReLU(negative_slope=0.01)\n",
      "    (13): BatchNorm1d(32, eps=1e-05, momentum=0.1, affine=True, track_running_stats=True)\n",
      "    (14): ConvTranspose1d(32, 1, kernel_size=(3,), stride=(2,), padding=(31,), output_padding=(1,))\n",
      "  )\n",
      "  (code_mean): Linear(in_features=24, out_features=6, bias=True)\n",
      "  (code_std_dev): Linear(in_features=24, out_features=6, bias=True)\n",
      ")\n",
      "----------------------------------------------------------------\n",
      "        Layer (type)               Output Shape         Param #\n",
      "================================================================\n",
      "            Conv1d-1               [-1, 32, 80]             128\n",
      "         LeakyReLU-2               [-1, 32, 80]               0\n",
      "       BatchNorm1d-3               [-1, 32, 80]              64\n",
      "            Conv1d-4               [-1, 64, 60]           6,208\n",
      "         LeakyReLU-5               [-1, 64, 60]               0\n",
      "       BatchNorm1d-6               [-1, 64, 60]             128\n",
      "            Conv1d-7              [-1, 128, 40]          24,704\n",
      "         LeakyReLU-8              [-1, 128, 40]               0\n",
      "       BatchNorm1d-9              [-1, 128, 40]             256\n",
      "           Conv1d-10              [-1, 512, 24]         262,656\n",
      "        LeakyReLU-11              [-1, 512, 24]               0\n",
      "          Flatten-12                [-1, 12288]               0\n",
      "           Linear-13                   [-1, 24]         294,936\n",
      "        LeakyReLU-14                   [-1, 24]               0\n",
      "           Linear-15                    [-1, 6]             150\n",
      "           Linear-16                    [-1, 6]             150\n",
      "           Linear-17                   [-1, 24]             168\n",
      "        LeakyReLU-18                   [-1, 24]               0\n",
      "           Linear-19                [-1, 12288]         307,200\n",
      "        LeakyReLU-20                [-1, 12288]               0\n",
      "        Unflatten-21              [-1, 512, 24]               0\n",
      "  ConvTranspose1d-22              [-1, 128, 40]         262,272\n",
      "        LeakyReLU-23              [-1, 128, 40]               0\n",
      "      BatchNorm1d-24              [-1, 128, 40]             256\n",
      "  ConvTranspose1d-25               [-1, 64, 60]          24,640\n",
      "        LeakyReLU-26               [-1, 64, 60]               0\n",
      "      BatchNorm1d-27               [-1, 64, 60]             128\n",
      "  ConvTranspose1d-28               [-1, 32, 80]           6,176\n",
      "        LeakyReLU-29               [-1, 32, 80]               0\n",
      "      BatchNorm1d-30               [-1, 32, 80]              64\n",
      "  ConvTranspose1d-31               [-1, 1, 100]              97\n",
      "================================================================\n",
      "Total params: 1,190,381\n",
      "Trainable params: 1,190,381\n",
      "Non-trainable params: 0\n",
      "----------------------------------------------------------------\n",
      "Input size (MB): 0.00\n",
      "Forward/backward pass size (MB): 1.09\n",
      "Params size (MB): 4.54\n",
      "Estimated Total Size (MB): 5.63\n",
      "----------------------------------------------------------------\n"
     ]
    }
   ],
   "source": [
    "from torchsummary import summary\n",
    "if torch.cuda.is_available():\n",
    "    vae = vae.to('cuda')\n",
    "print(vae)\n",
    "summary(vae, (1, 100))"
   ]
  },
  {
   "cell_type": "markdown",
   "metadata": {},
   "source": [
    "## Train Model"
   ]
  },
  {
   "cell_type": "code",
   "execution_count": 8,
   "metadata": {},
   "outputs": [],
   "source": [
    "train_save = False\n",
    "if train_save:\n",
    "    # Train the model\n",
    "    vae.train_model(train_loader, n_epochs=10)\n",
    "    # Save the model\n",
    "    vae.save_model(\"Weights/vae_ppg.pth\")\n",
    "else:\n",
    "    # Load the model\n",
    "    vae.load_model(\"Weights/vae_ppg.pth\")\n",
    "    vae.eval()"
   ]
  },
  {
   "cell_type": "markdown",
   "metadata": {},
   "source": [
    "### Loss Analysis"
   ]
  },
  {
   "cell_type": "code",
   "execution_count": 9,
   "metadata": {},
   "outputs": [],
   "source": [
    "if train_save:\n",
    "    vae.plot_loss()"
   ]
  },
  {
   "cell_type": "markdown",
   "metadata": {},
   "source": [
    "## Create LSTM data and model"
   ]
  },
  {
   "cell_type": "code",
   "execution_count": 10,
   "metadata": {},
   "outputs": [],
   "source": [
    "encoded_training_data = vae.encode_data(train_loader)"
   ]
  },
  {
   "cell_type": "code",
   "execution_count": 11,
   "metadata": {},
   "outputs": [
    {
     "name": "stdout",
     "output_type": "stream",
     "text": [
      "(201536, 6)\n"
     ]
    }
   ],
   "source": [
    "print(encoded_training_data.shape)"
   ]
  },
  {
   "cell_type": "code",
   "execution_count": 12,
   "metadata": {},
   "outputs": [],
   "source": [
    "# Create a DataLoader object\n",
    "lstm_dataloader = DataLoaderGenerator(encoded_training_data, batch_size=32)\n",
    "#train_loader_lstm, val_loader_lstm = lstm_dataloader.generate()\n",
    "train_loader_lstm = lstm_dataloader.generate()"
   ]
  },
  {
   "cell_type": "code",
   "execution_count": 13,
   "metadata": {},
   "outputs": [
    {
     "data": {
      "text/plain": [
       "torch.Size([201536, 1, 6])"
      ]
     },
     "execution_count": 13,
     "metadata": {},
     "output_type": "execute_result"
    }
   ],
   "source": [
    "train_loader_lstm.dataset.tensors[0].shape"
   ]
  },
  {
   "cell_type": "code",
   "execution_count": 14,
   "metadata": {},
   "outputs": [
    {
     "name": "stdout",
     "output_type": "stream",
     "text": [
      "LSTM(\n",
      "  (models): ModuleList(\n",
      "    (0): LSTM(6, 64, batch_first=True)\n",
      "    (1): LSTM(64, 64, batch_first=True)\n",
      "    (2): LSTM(64, 6, batch_first=True)\n",
      "    (3): Linear(in_features=6, out_features=6, bias=True)\n",
      "  )\n",
      ")\n"
     ]
    },
    {
     "data": {
      "text/plain": [
       "==========================================================================================\n",
       "Layer (type:depth-idx)                   Output Shape              Param #\n",
       "==========================================================================================\n",
       "LSTM                                     [1, 6]                    --\n",
       "├─ModuleList: 1-1                        --                        --\n",
       "│    └─LSTM: 2-1                         [1, 64]                   18,432\n",
       "│    └─LSTM: 2-2                         [1, 64]                   33,280\n",
       "│    └─LSTM: 2-3                         [1, 6]                    1,728\n",
       "│    └─Linear: 2-4                       [1, 6]                    42\n",
       "==========================================================================================\n",
       "Total params: 53,482\n",
       "Trainable params: 53,482\n",
       "Non-trainable params: 0\n",
       "Total mult-adds (M): 3.32\n",
       "==========================================================================================\n",
       "Input size (MB): 0.00\n",
       "Forward/backward pass size (MB): 0.00\n",
       "Params size (MB): 0.21\n",
       "Estimated Total Size (MB): 0.22\n",
       "=========================================================================================="
      ]
     },
     "execution_count": 14,
     "metadata": {},
     "output_type": "execute_result"
    }
   ],
   "source": [
    "from Utils.models import LSTM\n",
    "from torchinfo import summary as summary2\n",
    "\n",
    "lstm = LSTM()\n",
    "if torch.cuda.is_available():\n",
    "    lstm = lstm.to('cuda')\n",
    "print(lstm)\n",
    "summary2(lstm, input_size=(1, 6))"
   ]
  },
  {
   "cell_type": "markdown",
   "metadata": {},
   "source": [
    "## Train LSTM"
   ]
  },
  {
   "cell_type": "code",
   "execution_count": 15,
   "metadata": {},
   "outputs": [],
   "source": [
    "train_save = False\n",
    "if train_save:\n",
    "    # Train the model\n",
    "    lstm.train_model(train_loader_lstm, n_epochs=10)\n",
    "    # Save the model\n",
    "    lstm.save_model(\"Weights/lstm_ppg.pth\")\n",
    "else:\n",
    "    # Load the model\n",
    "    lstm.load_model(\"Weights/lstm_ppg.pth\")\n",
    "    lstm.eval()"
   ]
  },
  {
   "cell_type": "code",
   "execution_count": 16,
   "metadata": {},
   "outputs": [],
   "source": [
    "if train_save:\n",
    "    lstm.plot_loss()"
   ]
  },
  {
   "cell_type": "markdown",
   "metadata": {},
   "source": [
    "## Evaluate VAE-LSTM Model"
   ]
  },
  {
   "cell_type": "code",
   "execution_count": 17,
   "metadata": {},
   "outputs": [],
   "source": [
    "from Utils.models import VAE_LSTM\n",
    "\n",
    "vae_lstm = VAE_LSTM(vae, lstm)"
   ]
  },
  {
   "cell_type": "code",
   "execution_count": 18,
   "metadata": {},
   "outputs": [
    {
     "name": "stdout",
     "output_type": "stream",
     "text": [
      "Anomalies: [False False False ... False False False]\n"
     ]
    }
   ],
   "source": [
    "import numpy as np\n",
    "import glob\n",
    "import os\n",
    "\n",
    "basefile = file_path.split(os.sep)[-1].replace('.csv', '')\n",
    "\n",
    "directory = \"TFO Data\" + os.sep + \"PPG\" + os.sep + \"Artificial Anomalies\" + os.sep + \"datafiles\"\n",
    "file_list = glob.glob(directory + os.sep + f\"{basefile}*.csv\")\n",
    "\n",
    "random_file = np.random.choice(file_list)\n",
    "key = random_file.split('_')[-1].split('.')[0]\n",
    "anomalous_data = pd.read_csv(random_file)\n",
    "\n",
    "directory = \"TFO Data\" + os.sep + \"PPG\" + os.sep + \"Artificial Anomalies\" + os.sep + \"anomaly indices\"\n",
    "\n",
    "file_list = glob.glob(directory + os.sep + f\"*_{key}.csv\")\n",
    "file_path_indices = file_list[0] if file_list else None\n",
    "\n",
    "if file_path_indices:\n",
    "    anomaly_indices = pd.read_csv(file_path_indices)\n",
    "else:\n",
    "    anomaly_indices = None\n",
    "\n",
    "test_data = anomalous_data['Ch1volts_WL1']\n",
    "anomalies = anomaly_indices['Ch1volts_WL1']\n",
    "anomalies = np.array(anomalies)\n",
    "print(f\"Anomalies: {anomalies}\")    "
   ]
  },
  {
   "cell_type": "code",
   "execution_count": 19,
   "metadata": {},
   "outputs": [
    {
     "name": "stderr",
     "output_type": "stream",
     "text": [
      "/usr/lib/python3/dist-packages/IPython/core/pylabtools.py:132: UserWarning: Creating legend with loc=\"best\" can be slow with large amounts of data.\n",
      "  fig.canvas.print_figure(bytes_io, **kw)\n"
     ]
    },
    {
     "data": {
      "image/png": "[encoded data removed]",
      "text/plain": [
       "<Figure size 432x288 with 1 Axes>"
      ]
     },
     "metadata": {
      "needs_background": "light"
     },
     "output_type": "display_data"
    }
   ],
   "source": [
    "import matplotlib.pyplot as plt\n",
    "\n",
    "# Scale the anomalies to match the height of the test data\n",
    "scaled_anomalies = anomalies * test_data.max()\n",
    "\n",
    "# Plot test_data\n",
    "plt.plot(test_data, label='Test Data')\n",
    "\n",
    "# Plot scaled anomalies\n",
    "plt.plot(scaled_anomalies, label='Anomalies')\n",
    "\n",
    "# Add labels and title\n",
    "plt.xlabel('Time')\n",
    "plt.ylabel('Value')\n",
    "plt.title('Test Data and Anomalies')\n",
    "\n",
    "# Set x-axis limits\n",
    "plt.xlim(test_data.index.min(), test_data.index.max())\n",
    "\n",
    "# Set y-axis limits\n",
    "plt.ylim(test_data.min(), test_data.max())\n",
    "\n",
    "# Add legend\n",
    "plt.legend()\n",
    "\n",
    "# Show the plot\n",
    "plt.show()"
   ]
  },
  {
   "cell_type": "code",
   "execution_count": 20,
   "metadata": {},
   "outputs": [
    {
     "name": "stdout",
     "output_type": "stream",
     "text": [
      "anomalies is a numpy array of booleans\n"
     ]
    }
   ],
   "source": [
    "import numpy as np\n",
    "\n",
    "if isinstance(anomalies, np.ndarray) and anomalies.dtype == bool:\n",
    "    print(\"anomalies is a numpy array of booleans\")\n",
    "else:\n",
    "    print(\"anomalies is not a numpy array of booleans\")"
   ]
  },
  {
   "cell_type": "code",
   "execution_count": 21,
   "metadata": {},
   "outputs": [
    {
     "name": "stdout",
     "output_type": "stream",
     "text": [
      "Threshold: 0.1, Precision: 0.009078777537135482, Recall: 0.570054945054945, F1 Score: 0.017872908546695668\n",
      "\tAugmented Precision: 0.01581783417347471, Augmented Recall: 1.0, Augmented F1 Score: 0.031143052703627654\n",
      "Threshold: 0.125, Precision: 0.009209173409629397, Recall: 0.5659340659340659, F1 Score: 0.018123432894910484\n",
      "\tAugmented Precision: 0.01615838771252275, Augmented Recall: 1.0, Augmented F1 Score: 0.031802891966274956\n",
      "Threshold: 0.15000000000000002, Precision: 0.009316131978536363, Recall: 0.5604395604395604, F1 Score: 0.01832760595647194\n",
      "\tAugmented Precision: 0.0165023234727417, Augmented Recall: 1.0, Augmented F1 Score: 0.03246883571571929\n",
      "Threshold: 0.17500000000000002, Precision: 0.00946894605499452, Recall: 0.5576923076923077, F1 Score: 0.018621717692925126\n",
      "\tAugmented Precision: 0.01685224195004514, Augmented Recall: 1.0, Augmented F1 Score: 0.033145901154187626\n",
      "Threshold: 0.2, Precision: 0.009565155165422322, Recall: 0.5508241758241759, F1 Score: 0.018803779512789852\n",
      "\tAugmented Precision: 0.01723076923076923, Augmented Recall: 1.0, Augmented F1 Score: 0.0338777979431337\n",
      "Threshold: 0.225, Precision: 0.009678441697749823, Recall: 0.5453296703296703, F1 Score: 0.01901933073035188\n",
      "\tAugmented Precision: 0.017605804111245467, Augmented Recall: 1.0, Augmented F1 Score: 0.03460240505727459\n",
      "Threshold: 0.25, Precision: 0.009759872198092956, Recall: 0.5370879120879121, F1 Score: 0.019171365530767346\n",
      "\tAugmented Precision: 0.018020248025941238, Augmented Recall: 1.0, Augmented F1 Score: 0.035402533615386485\n",
      "Threshold: 0.275, Precision: 0.00991211935417944, Recall: 0.532967032967033, F1 Score: 0.01946227929373997\n",
      "\tAugmented Precision: 0.018437848242326006, Augmented Recall: 1.0, Augmented F1 Score: 0.03620809708544713\n",
      "Threshold: 0.30000000000000004, Precision: 0.010101274435401564, Recall: 0.5302197802197802, F1 Score: 0.019824863254667317\n",
      "\tAugmented Precision: 0.018882116457009466, Augmented Recall: 1.0, Augmented F1 Score: 0.03706437899345773\n",
      "Threshold: 0.325, Precision: 0.010171492981938219, Recall: 0.5206043956043956, F1 Score: 0.019953144331253784\n",
      "\tAugmented Precision: 0.019356554107950015, Augmented Recall: 1.0, Augmented F1 Score: 0.037977985288747455\n",
      "Threshold: 0.35, Precision: 0.010331432349780973, Recall: 0.5151098901098901, F1 Score: 0.02025658338960162\n",
      "\tAugmented Precision: 0.01986357435197817, Augmented Recall: 1.0, Augmented F1 Score: 0.03895339504521376\n",
      "Threshold: 0.375, Precision: 0.010494455759221543, Recall: 0.5096153846153846, F1 Score: 0.020565410199556537\n",
      "\tAugmented Precision: 0.020387017278557226, Augmented Recall: 1.0, Augmented F1 Score: 0.039959381946922085\n",
      "Threshold: 0.4, Precision: 0.010664811916768099, Recall: 0.5054945054945055, F1 Score: 0.020888914117046038\n",
      "\tAugmented Precision: 0.020879940343027592, Augmented Recall: 1.0, Augmented F1 Score: 0.04090577063550037\n",
      "Threshold: 0.42500000000000004, Precision: 0.010869565217391304, Recall: 0.5013736263736264, F1 Score: 0.021277836073219075\n",
      "\tAugmented Precision: 0.021447721179624665, Augmented Recall: 1.0, Augmented F1 Score: 0.04199475065616798\n",
      "Threshold: 0.45000000000000007, Precision: 0.011001436298627876, Recall: 0.4945054945054945, F1 Score: 0.021524020208663414\n",
      "\tAugmented Precision: 0.021999939560605603, Augmented Recall: 1.0, Augmented F1 Score: 0.043052721842751114\n",
      "Threshold: 0.475, Precision: 0.011178095955790002, Recall: 0.489010989010989, F1 Score: 0.021856581532416507\n",
      "\tAugmented Precision: 0.022594661700806953, Augmented Recall: 1.0, Augmented F1 Score: 0.04419084618186232\n",
      "Threshold: 0.5, Precision: 0.011333182654741532, Recall: 0.48214285714285715, F1 Score: 0.02214580901605729\n",
      "\tAugmented Precision: 0.02322317213219344, Augmented Recall: 1.0, Augmented F1 Score: 0.04539219354034169\n",
      "Threshold: 0.525, Precision: 0.011516378480634562, Recall: 0.4766483516483517, F1 Score: 0.022489387212806636\n",
      "\tAugmented Precision: 0.023859465128474044, Augmented Recall: 1.0, Augmented F1 Score: 0.04660691421254802\n",
      "Threshold: 0.55, Precision: 0.0116847176193242, Recall: 0.4697802197802198, F1 Score: 0.022802280228022803\n",
      "\tAugmented Precision: 0.02454897993592986, Augmented Recall: 1.0, Augmented F1 Score: 0.047921535068953025\n",
      "Threshold: 0.5750000000000001, Precision: 0.011773802410993569, Recall: 0.46016483516483514, F1 Score: 0.022960145300023986\n",
      "\tAugmented Precision: 0.02523746793316231, Augmented Recall: 1.0, Augmented F1 Score: 0.049232433894637176\n",
      "Threshold: 0.6, Precision: 0.011963890802305768, Recall: 0.4532967032967033, F1 Score: 0.02331249337713256\n",
      "\tAugmented Precision: 0.026017654837210965, Augmented Recall: 1.0, Augmented F1 Score: 0.05071580340659724\n",
      "Threshold: 0.625, Precision: 0.012090003358334267, Recall: 0.44505494505494503, F1 Score: 0.023540523849311587\n",
      "\tAugmented Precision: 0.026761754218284747, Augmented Recall: 1.0, Augmented F1 Score: 0.05212845941785113\n",
      "Threshold: 0.65, Precision: 0.012052832223035157, Recall: 0.42994505494505497, F1 Score: 0.023448327527437543\n",
      "\tAugmented Precision: 0.027592480291085505, Augmented Recall: 1.0, Augmented F1 Score: 0.05370315727353202\n",
      "Threshold: 0.675, Precision: 0.012091802235392387, Recall: 0.4175824175824176, F1 Score: 0.02350303452008195\n",
      "\tAugmented Precision: 0.028476432622726384, Augmented Recall: 1.0, Augmented F1 Score: 0.05537595557753014\n",
      "Threshold: 0.7000000000000001, Precision: 0.012285819944939803, Recall: 0.4107142857142857, F1 Score: 0.02385796927987233\n",
      "\tAugmented Precision: 0.029395138496325607, Augmented Recall: 1.0, Augmented F1 Score: 0.057111477210323995\n",
      "Threshold: 0.725, Precision: 0.012255629532250541, Recall: 0.39697802197802196, F1 Score: 0.023777201859393637\n",
      "\tAugmented Precision: 0.030308076602830976, Augmented Recall: 1.0, Augmented F1 Score: 0.05883303701309197\n",
      "Threshold: 0.75, Precision: 0.012388373314655927, Recall: 0.38873626373626374, F1 Score: 0.02401153911420329\n",
      "\tAugmented Precision: 0.03125939284640818, Augmented Recall: 1.0, Augmented F1 Score: 0.0606237248615564\n",
      "Threshold: 0.775, Precision: 0.012367411419544122, Recall: 0.37637362637362637, F1 Score: 0.023947908928025174\n",
      "\tAugmented Precision: 0.032199566544296516, Augmented Recall: 1.0, Augmented F1 Score: 0.06239019582637014\n",
      "Threshold: 0.8, Precision: 0.012612107623318386, Recall: 0.3708791208791209, F1 Score: 0.02439465124683773\n",
      "\tAugmented Precision: 0.03329369797859691, Augmented Recall: 1.0, Augmented F1 Score: 0.06444188722669736\n",
      "Threshold: 0.8250000000000001, Precision: 0.012638687891944042, Recall: 0.3598901098901099, F1 Score: 0.024419796812377666\n",
      "\tAugmented Precision: 0.034346103038309116, Augmented Recall: 1.0, Augmented F1 Score: 0.06641123882503193\n",
      "Threshold: 0.85, Precision: 0.01295401325295202, Recall: 0.35714285714285715, F1 Score: 0.025001201980864463\n",
      "\tAugmented Precision: 0.03544476362042943, Augmented Recall: 1.0, Augmented F1 Score: 0.0684628767574176\n",
      "Threshold: 0.875, Precision: 0.013296912848528578, Recall: 0.3543956043956044, F1 Score: 0.025632109681585614\n",
      "\tAugmented Precision: 0.03663261711870377, Augmented Recall: 1.0, Augmented F1 Score: 0.0706761807679239\n",
      "Threshold: 0.9, Precision: 0.01354811179859185, Recall: 0.3489010989010989, F1 Score: 0.026083384678578767\n",
      "\tAugmented Precision: 0.037873270211216316, Augmented Recall: 1.0, Augmented F1 Score: 0.07298245614035088\n",
      "Threshold: 0.925, Precision: 0.013694091662065158, Recall: 0.34065934065934067, F1 Score: 0.026329758997770465\n",
      "\tAugmented Precision: 0.039160839160839164, Augmented Recall: 1.0, Augmented F1 Score: 0.07537012113055183\n",
      "Threshold: 0.9500000000000001, Precision: 0.013896831751115177, Recall: 0.33379120879120877, F1 Score: 0.026682771494454815\n",
      "\tAugmented Precision: 0.04050971008847588, Augmented Recall: 1.0, Augmented F1 Score: 0.07786512647735172\n",
      "Threshold: 0.975, Precision: 0.013904502692148393, Recall: 0.3228021978021978, F1 Score: 0.026660616030404448\n",
      "\tAugmented Precision: 0.04185351270553064, Augmented Recall: 1.0, Augmented F1 Score: 0.08034433285509326\n",
      "Threshold: 1.0, Precision: 0.014203148057058534, Recall: 0.3173076923076923, F1 Score: 0.027189265536723163\n",
      "\tAugmented Precision: 0.04343416263946065, Augmented Recall: 1.0, Augmented F1 Score: 0.08325233003602264\n",
      "Threshold: 1.5, Precision: 0.017479560191711305, Recall: 0.17032967032967034, F1 Score: 0.03170544617744822\n",
      "\tAugmented Precision: 0.09457001818654195, Augmented Recall: 1.0, Augmented F1 Score: 0.17279848089247568\n",
      "Threshold: 2.0, Precision: 0.012217697149203998, Recall: 0.04532967032967033, F1 Score: 0.01924759405074366\n",
      "\tAugmented Precision: 0.2143698468786808, Augmented Recall: 1.0, Augmented F1 Score: 0.3530552861299709\n",
      "Threshold: 2.5, Precision: 0.0013679890560875513, Recall: 0.0013736263736263737, F1 Score: 0.0013708019191226869\n",
      "\tAugmented Precision: 0.4993141289437586, Augmented Recall: 1.0, Augmented F1 Score: 0.6660567246111619\n",
      "Threshold: 3.0, Precision: 0.0, Recall: 0.0, F1 Score: 0.0\n",
      "\tAugmented Precision: 0.8615384615384616, Augmented Recall: 1.0, Augmented F1 Score: 0.9256198347107438\n",
      "Threshold: 3.5, Precision: 0.0, Recall: 0.0, F1 Score: 0.0\n",
      "\tAugmented Precision: 0.9931787175989086, Augmented Recall: 1.0, Augmented F1 Score: 0.9965776865160849\n",
      "Threshold: 4.0, Precision: 0.0, Recall: 0.0, F1 Score: 0.0\n",
      "\tAugmented Precision: 0.9958960328317373, Augmented Recall: 1.0, Augmented F1 Score: 0.9979437971213159\n",
      "Threshold: 4.5, Precision: 0.0, Recall: 0.0, F1 Score: 0.0\n",
      "\tAugmented Precision: 0.9958960328317373, Augmented Recall: 1.0, Augmented F1 Score: 0.9979437971213159\n",
      "Threshold: 5.0, Precision: 0.0, Recall: 0.0, F1 Score: 0.0\n",
      "\tAugmented Precision: 0.9972602739726028, Augmented Recall: 1.0, Augmented F1 Score: 0.9986282578875172\n",
      "Threshold: 5.5, Precision: 0.0, Recall: 0.0, F1 Score: 0.0\n",
      "\tAugmented Precision: 0.9972602739726028, Augmented Recall: 1.0, Augmented F1 Score: 0.9986282578875172\n",
      "Threshold: 6.0, Precision: 0.0, Recall: 0.0, F1 Score: 0.0\n",
      "\tAugmented Precision: 0.9972602739726028, Augmented Recall: 1.0, Augmented F1 Score: 0.9986282578875172\n",
      "Threshold: 6.5, Precision: 0.0, Recall: 0.0, F1 Score: 0.0\n",
      "\tAugmented Precision: 0.9972602739726028, Augmented Recall: 1.0, Augmented F1 Score: 0.9986282578875172\n",
      "Threshold: 7.0, Precision: 0.0, Recall: 0.0, F1 Score: 0.0\n",
      "\tAugmented Precision: 0.9972602739726028, Augmented Recall: 1.0, Augmented F1 Score: 0.9986282578875172\n",
      "Threshold: 7.5, Precision: 0.0, Recall: 0.0, F1 Score: 0.0\n",
      "\tAugmented Precision: 0.9986282578875172, Augmented Recall: 1.0, Augmented F1 Score: 0.9993136582017845\n",
      "Threshold: 8.0, Precision: 0.0, Recall: 0.0, F1 Score: 0.0\n",
      "\tAugmented Precision: 0.9986282578875172, Augmented Recall: 1.0, Augmented F1 Score: 0.9993136582017845\n",
      "Threshold: 8.5, Precision: 0.0, Recall: 0.0, F1 Score: 0.0\n",
      "\tAugmented Precision: 0.9986282578875172, Augmented Recall: 1.0, Augmented F1 Score: 0.9993136582017845\n",
      "Threshold: 9.0, Precision: 0.0, Recall: 0.0, F1 Score: 0.0\n",
      "\tAugmented Precision: 0.9986282578875172, Augmented Recall: 1.0, Augmented F1 Score: 0.9993136582017845\n",
      "Threshold: 9.5, Precision: 0.0, Recall: 0.0, F1 Score: 0.0\n",
      "\tAugmented Precision: 0.9986282578875172, Augmented Recall: 1.0, Augmented F1 Score: 0.9993136582017845\n",
      "Threshold: 10.0, Precision: 1.0, Recall: 0.0, F1 Score: 0.0\n",
      "\tAugmented Precision: 1.0, Augmented Recall: 1.0, Augmented F1 Score: 1.0\n"
     ]
    },
    {
     "data": {
      "image/png": "[encoded data removed]",
      "text/plain": [
       "<Figure size 864x432 with 2 Axes>"
      ]
     },
     "metadata": {
      "needs_background": "light"
     },
     "output_type": "display_data"
    },
    {
     "name": "stdout",
     "output_type": "stream",
     "text": [
      "Best threshold: 1.5\n",
      "Best precision: 0.017479560191711305\n",
      "Best recall: 0.17032967032967034\n",
      "Best F1: 0.03170544617744822\n",
      "Best threshold (augmented): 10.0\n",
      "Best precision (augmented): 1.0\n",
      "Best recall (augmented): 1.0\n",
      "Best F1 (augmented): 1.0\n"
     ]
    }
   ],
   "source": [
    "best_threshold, best_precision, best_recall, best_f1, best_threshold_aug, best_precision_aug, best_recall_aug, best_f1_aug = \\\n",
    "    vae_lstm.evaluate(test_data, anomalies, plot=True)\n",
    "\n",
    "print(f\"Best threshold: {best_threshold}\")\n",
    "print(f\"Best precision: {best_precision}\")\n",
    "print(f\"Best recall: {best_recall}\")\n",
    "print(f\"Best F1: {best_f1}\")\n",
    "print(f\"Best threshold (augmented): {best_threshold_aug}\")\n",
    "print(f\"Best precision (augmented): {best_precision_aug}\")\n",
    "print(f\"Best recall (augmented): {best_recall_aug}\")\n",
    "print(f\"Best F1 (augmented): {best_f1_aug}\")"
   ]
  },
  {
   "cell_type": "code",
   "execution_count": 22,
   "metadata": {},
   "outputs": [
    {
     "data": {
      "image/png": "[encoded data removed]",
      "text/plain": [
       "<Figure size 432x288 with 1 Axes>"
      ]
     },
     "metadata": {
      "needs_background": "light"
     },
     "output_type": "display_data"
    }
   ],
   "source": [
    "vae_lstm.plot_anomaly(test_data, best_threshold, None)"
   ]
  },
  {
   "cell_type": "code",
   "execution_count": 23,
   "metadata": {},
   "outputs": [
    {
     "data": {
      "image/png": "[encoded data removed]",
      "text/plain": [
       "<Figure size 432x288 with 1 Axes>"
      ]
     },
     "metadata": {
      "needs_background": "light"
     },
     "output_type": "display_data"
    }
   ],
   "source": [
    "vae_lstm.plot_anomaly(test_data, best_threshold, anomalies)"
   ]
  }
 ],
 "metadata": {
  "kernelspec": {
   "display_name": "Python 3",
   "language": "python",
   "name": "python3"
  },
  "language_info": {
   "codemirror_mode": {
    "name": "ipython",
    "version": 3
   },
   "file_extension": ".py",
   "mimetype": "text/x-python",
   "name": "python",
   "nbconvert_exporter": "python",
   "pygments_lexer": "ipython3",
   "version": "3.8.10"
  }
 },
 "nbformat": 4,
 "nbformat_minor": 2
}
