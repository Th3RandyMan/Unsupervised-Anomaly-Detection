{
 "cells": [
  {
   "cell_type": "code",
   "execution_count": 6,
   "metadata": {},
   "outputs": [],
   "source": [
    "%load_ext autoreload\n",
    "%autoreload 2"
   ]
  },
  {
   "cell_type": "markdown",
   "metadata": {},
   "source": [
    "## Get dataset to train"
   ]
  },
  {
   "cell_type": "code",
   "execution_count": 7,
   "metadata": {},
   "outputs": [
    {
     "name": "stdout",
     "output_type": "stream",
     "text": [
      "HR4.csv\n",
      "(182480, 10)\n"
     ]
    },
    {
     "data": {
      "text/html": [
       "<div>\n",
       "<style scoped>\n",
       "    .dataframe tbody tr th:only-of-type {\n",
       "        vertical-align: middle;\n",
       "    }\n",
       "\n",
       "    .dataframe tbody tr th {\n",
       "        vertical-align: top;\n",
       "    }\n",
       "\n",
       "    .dataframe thead th {\n",
       "        text-align: right;\n",
       "    }\n",
       "</style>\n",
       "<table border=\"1\" class=\"dataframe\">\n",
       "  <thead>\n",
       "    <tr style=\"text-align: right;\">\n",
       "      <th></th>\n",
       "      <th>Ch1volts_WL1</th>\n",
       "      <th>Ch2volts_WL1</th>\n",
       "      <th>Ch3volts_WL1</th>\n",
       "      <th>Ch4volts_WL1</th>\n",
       "      <th>Ch5volts_WL1</th>\n",
       "      <th>Ch1volts_WL2</th>\n",
       "      <th>Ch2volts_WL2</th>\n",
       "      <th>Ch3volts_WL2</th>\n",
       "      <th>Ch4volts_WL2</th>\n",
       "      <th>Ch5volts_WL2</th>\n",
       "    </tr>\n",
       "  </thead>\n",
       "  <tbody>\n",
       "    <tr>\n",
       "      <th>0</th>\n",
       "      <td>0.000002</td>\n",
       "      <td>8.812440e-09</td>\n",
       "      <td>7.278859e-10</td>\n",
       "      <td>3.547247e-11</td>\n",
       "      <td>1.230252e-12</td>\n",
       "      <td>4.888189e-07</td>\n",
       "      <td>1.014160e-08</td>\n",
       "      <td>5.066293e-11</td>\n",
       "      <td>1.971175e-12</td>\n",
       "      <td>1.683671e-13</td>\n",
       "    </tr>\n",
       "    <tr>\n",
       "      <th>1</th>\n",
       "      <td>0.000002</td>\n",
       "      <td>8.866842e-09</td>\n",
       "      <td>7.359912e-10</td>\n",
       "      <td>3.567527e-11</td>\n",
       "      <td>1.232126e-12</td>\n",
       "      <td>4.941796e-07</td>\n",
       "      <td>1.083115e-08</td>\n",
       "      <td>5.613977e-11</td>\n",
       "      <td>2.132041e-12</td>\n",
       "      <td>1.813407e-13</td>\n",
       "    </tr>\n",
       "    <tr>\n",
       "      <th>2</th>\n",
       "      <td>0.000002</td>\n",
       "      <td>8.932950e-09</td>\n",
       "      <td>7.450155e-10</td>\n",
       "      <td>3.590589e-11</td>\n",
       "      <td>1.234843e-12</td>\n",
       "      <td>5.001466e-07</td>\n",
       "      <td>1.155518e-08</td>\n",
       "      <td>6.215791e-11</td>\n",
       "      <td>2.304295e-12</td>\n",
       "      <td>1.951288e-13</td>\n",
       "    </tr>\n",
       "    <tr>\n",
       "      <th>3</th>\n",
       "      <td>0.000002</td>\n",
       "      <td>9.013877e-09</td>\n",
       "      <td>7.551500e-10</td>\n",
       "      <td>3.617334e-11</td>\n",
       "      <td>1.238755e-12</td>\n",
       "      <td>5.067280e-07</td>\n",
       "      <td>1.231436e-08</td>\n",
       "      <td>6.875983e-11</td>\n",
       "      <td>2.488521e-12</td>\n",
       "      <td>2.097654e-13</td>\n",
       "    </tr>\n",
       "    <tr>\n",
       "      <th>4</th>\n",
       "      <td>0.000002</td>\n",
       "      <td>9.112364e-09</td>\n",
       "      <td>7.665012e-10</td>\n",
       "      <td>3.648827e-11</td>\n",
       "      <td>1.244208e-12</td>\n",
       "      <td>5.138828e-07</td>\n",
       "      <td>1.310927e-08</td>\n",
       "      <td>7.598956e-11</td>\n",
       "      <td>2.685308e-12</td>\n",
       "      <td>2.252847e-13</td>\n",
       "    </tr>\n",
       "  </tbody>\n",
       "</table>\n",
       "</div>"
      ],
      "text/plain": [
       "   Ch1volts_WL1  Ch2volts_WL1  Ch3volts_WL1  Ch4volts_WL1  Ch5volts_WL1  \\\n",
       "0      0.000002  8.812440e-09  7.278859e-10  3.547247e-11  1.230252e-12   \n",
       "1      0.000002  8.866842e-09  7.359912e-10  3.567527e-11  1.232126e-12   \n",
       "2      0.000002  8.932950e-09  7.450155e-10  3.590589e-11  1.234843e-12   \n",
       "3      0.000002  9.013877e-09  7.551500e-10  3.617334e-11  1.238755e-12   \n",
       "4      0.000002  9.112364e-09  7.665012e-10  3.648827e-11  1.244208e-12   \n",
       "\n",
       "   Ch1volts_WL2  Ch2volts_WL2  Ch3volts_WL2  Ch4volts_WL2  Ch5volts_WL2  \n",
       "0  4.888189e-07  1.014160e-08  5.066293e-11  1.971175e-12  1.683671e-13  \n",
       "1  4.941796e-07  1.083115e-08  5.613977e-11  2.132041e-12  1.813407e-13  \n",
       "2  5.001466e-07  1.155518e-08  6.215791e-11  2.304295e-12  1.951288e-13  \n",
       "3  5.067280e-07  1.231436e-08  6.875983e-11  2.488521e-12  2.097654e-13  \n",
       "4  5.138828e-07  1.310927e-08  7.598956e-11  2.685308e-12  2.252847e-13  "
      ]
     },
     "execution_count": 7,
     "metadata": {},
     "output_type": "execute_result"
    }
   ],
   "source": [
    "import json\n",
    "import torch    #if error, restart kernel\n",
    "import torch.utils.data\n",
    "from torch import nn, optim\n",
    "from torch.nn import functional as F\n",
    "from torchvision import datasets, transforms\n",
    "from torchvision.utils import save_image\n",
    "\n",
    "import glob\n",
    "import pandas as pd\n",
    "\n",
    "Fs = 100  # Sampling frequency\n",
    "\n",
    "# Path to the folder containing the CSV files\n",
    "folder_path = \"TFO Data\\\\PPG\\\\Clean PPG\"\n",
    "\n",
    "# Get the list of CSV files in the folder\n",
    "file_list = glob.glob(folder_path + \"\\*.csv\")\n",
    "file_path = file_list[0]\n",
    "\n",
    "# Read the CSV file into a pandas dataframe\n",
    "df = pd.read_csv(file_path)\n",
    "#df = df[df.columns[2:-1]]  # Remove the time, index, and temperature columns\n",
    "    \n",
    "# Show the head of the dataframe\n",
    "title = file_path.split(\"\\\\\")[-1]\n",
    "print(title)\n",
    "print(df.shape)\n",
    "df.head()"
   ]
  },
  {
   "cell_type": "markdown",
   "metadata": {},
   "source": [
    "### Normalize data in dataframe"
   ]
  },
  {
   "cell_type": "code",
   "execution_count": 8,
   "metadata": {},
   "outputs": [
    {
     "data": {
      "text/html": [
       "<div>\n",
       "<style scoped>\n",
       "    .dataframe tbody tr th:only-of-type {\n",
       "        vertical-align: middle;\n",
       "    }\n",
       "\n",
       "    .dataframe tbody tr th {\n",
       "        vertical-align: top;\n",
       "    }\n",
       "\n",
       "    .dataframe thead th {\n",
       "        text-align: right;\n",
       "    }\n",
       "</style>\n",
       "<table border=\"1\" class=\"dataframe\">\n",
       "  <thead>\n",
       "    <tr style=\"text-align: right;\">\n",
       "      <th></th>\n",
       "      <th>Ch1volts_WL1</th>\n",
       "      <th>Ch2volts_WL1</th>\n",
       "      <th>Ch3volts_WL1</th>\n",
       "      <th>Ch4volts_WL1</th>\n",
       "      <th>Ch5volts_WL1</th>\n",
       "      <th>Ch1volts_WL2</th>\n",
       "      <th>Ch2volts_WL2</th>\n",
       "      <th>Ch3volts_WL2</th>\n",
       "      <th>Ch4volts_WL2</th>\n",
       "      <th>Ch5volts_WL2</th>\n",
       "    </tr>\n",
       "  </thead>\n",
       "  <tbody>\n",
       "    <tr>\n",
       "      <th>0</th>\n",
       "      <td>-0.538759</td>\n",
       "      <td>-0.664989</td>\n",
       "      <td>-0.499580</td>\n",
       "      <td>-0.343222</td>\n",
       "      <td>-0.312601</td>\n",
       "      <td>-0.609809</td>\n",
       "      <td>-0.277720</td>\n",
       "      <td>-0.730452</td>\n",
       "      <td>-0.644684</td>\n",
       "      <td>-0.463153</td>\n",
       "    </tr>\n",
       "    <tr>\n",
       "      <th>1</th>\n",
       "      <td>-0.482541</td>\n",
       "      <td>-0.659695</td>\n",
       "      <td>-0.485675</td>\n",
       "      <td>-0.325992</td>\n",
       "      <td>-0.306380</td>\n",
       "      <td>-0.589670</td>\n",
       "      <td>-0.244317</td>\n",
       "      <td>-0.723975</td>\n",
       "      <td>-0.631475</td>\n",
       "      <td>-0.439833</td>\n",
       "    </tr>\n",
       "    <tr>\n",
       "      <th>2</th>\n",
       "      <td>-0.414578</td>\n",
       "      <td>-0.653261</td>\n",
       "      <td>-0.470194</td>\n",
       "      <td>-0.306398</td>\n",
       "      <td>-0.297368</td>\n",
       "      <td>-0.567252</td>\n",
       "      <td>-0.209244</td>\n",
       "      <td>-0.716858</td>\n",
       "      <td>-0.617330</td>\n",
       "      <td>-0.415049</td>\n",
       "    </tr>\n",
       "    <tr>\n",
       "      <th>3</th>\n",
       "      <td>-0.335063</td>\n",
       "      <td>-0.645385</td>\n",
       "      <td>-0.452809</td>\n",
       "      <td>-0.283676</td>\n",
       "      <td>-0.284387</td>\n",
       "      <td>-0.542527</td>\n",
       "      <td>-0.172469</td>\n",
       "      <td>-0.709051</td>\n",
       "      <td>-0.602202</td>\n",
       "      <td>-0.388740</td>\n",
       "    </tr>\n",
       "    <tr>\n",
       "      <th>4</th>\n",
       "      <td>-0.245473</td>\n",
       "      <td>-0.635800</td>\n",
       "      <td>-0.433336</td>\n",
       "      <td>-0.256919</td>\n",
       "      <td>-0.266294</td>\n",
       "      <td>-0.515648</td>\n",
       "      <td>-0.133962</td>\n",
       "      <td>-0.700501</td>\n",
       "      <td>-0.586042</td>\n",
       "      <td>-0.360844</td>\n",
       "    </tr>\n",
       "  </tbody>\n",
       "</table>\n",
       "</div>"
      ],
      "text/plain": [
       "   Ch1volts_WL1  Ch2volts_WL1  Ch3volts_WL1  Ch4volts_WL1  Ch5volts_WL1  \\\n",
       "0     -0.538759     -0.664989     -0.499580     -0.343222     -0.312601   \n",
       "1     -0.482541     -0.659695     -0.485675     -0.325992     -0.306380   \n",
       "2     -0.414578     -0.653261     -0.470194     -0.306398     -0.297368   \n",
       "3     -0.335063     -0.645385     -0.452809     -0.283676     -0.284387   \n",
       "4     -0.245473     -0.635800     -0.433336     -0.256919     -0.266294   \n",
       "\n",
       "   Ch1volts_WL2  Ch2volts_WL2  Ch3volts_WL2  Ch4volts_WL2  Ch5volts_WL2  \n",
       "0     -0.609809     -0.277720     -0.730452     -0.644684     -0.463153  \n",
       "1     -0.589670     -0.244317     -0.723975     -0.631475     -0.439833  \n",
       "2     -0.567252     -0.209244     -0.716858     -0.617330     -0.415049  \n",
       "3     -0.542527     -0.172469     -0.709051     -0.602202     -0.388740  \n",
       "4     -0.515648     -0.133962     -0.700501     -0.586042     -0.360844  "
      ]
     },
     "execution_count": 8,
     "metadata": {},
     "output_type": "execute_result"
    }
   ],
   "source": [
    "from sklearn.preprocessing import StandardScaler, MinMaxScaler\n",
    "\n",
    "columns = df.columns\n",
    "index = df.index\n",
    "\n",
    "# Normalize the data\n",
    "scaler = StandardScaler() # Can't use this with BCELoss\n",
    "#scaler = MinMaxScaler()\n",
    "df = scaler.fit_transform(df)\n",
    "df = pd.DataFrame(df, columns=columns, index=index)\n",
    "df.head()"
   ]
  },
  {
   "cell_type": "code",
   "execution_count": 9,
   "metadata": {},
   "outputs": [
    {
     "name": "stdout",
     "output_type": "stream",
     "text": [
      "(182480,)\n",
      "(182480,)\n"
     ]
    }
   ],
   "source": [
    "x = df['Ch1volts_WL1']\n",
    "y = df['Ch2volts_WL1']\n",
    "print(x.shape)\n",
    "print(y.shape)"
   ]
  },
  {
   "cell_type": "markdown",
   "metadata": {},
   "source": [
    "## Create model and dataloaders"
   ]
  },
  {
   "cell_type": "code",
   "execution_count": 10,
   "metadata": {},
   "outputs": [
    {
     "name": "stdout",
     "output_type": "stream",
     "text": [
      "Data shape: (182381, 100)\n",
      "Data shape: (182381, 100)\n",
      "Number of batches: 11398\n"
     ]
    }
   ],
   "source": [
    "from Utils.models import VAE\n",
    "from Utils.dataloader import DataLoaderGenerator\n",
    "from Utils.processing import window_data\n",
    "\n",
    "# Window the data\n",
    "# data = window_data(x, 100)\n",
    "data_x = window_data(x, 100)\n",
    "data_y = window_data(y, 100)\n",
    "# print(f\"Data shape: {data.shape}\")\n",
    "print(f\"Data shape: {data_x.shape}\")\n",
    "print(f\"Data shape: {data_y.shape}\")\n",
    "\n",
    "# Create a DataLoader object\n",
    "#dataloader = DataLoaderGenerator(data, batch_size=32)\n",
    "dataloader = DataLoaderGenerator([data_x, data_y], batch_size=32)\n",
    "#train_loader, val_loader = dataloader.generate()\n",
    "train_loader = dataloader.generate()\n",
    "print(f\"Number of batches: {len(train_loader)}\")\n",
    "\n",
    "# Initialize the model\n",
    "vae = VAE(input_dims=100, latent_dims=6)#, device='cpu')\n"
   ]
  },
  {
   "cell_type": "code",
   "execution_count": 11,
   "metadata": {},
   "outputs": [
    {
     "name": "stdout",
     "output_type": "stream",
     "text": [
      "VAE(\n",
      "  (encoder): Sequential(\n",
      "    (0): Conv1d(1, 32, kernel_size=(3,), stride=(2,), padding=(31,))\n",
      "    (1): LeakyReLU(negative_slope=0.01)\n",
      "    (2): BatchNorm1d(32, eps=1e-05, momentum=0.1, affine=True, track_running_stats=True)\n",
      "    (3): Conv1d(32, 64, kernel_size=(3,), stride=(2,), padding=(21,))\n",
      "    (4): LeakyReLU(negative_slope=0.01)\n",
      "    (5): BatchNorm1d(64, eps=1e-05, momentum=0.1, affine=True, track_running_stats=True)\n",
      "    (6): Conv1d(64, 128, kernel_size=(3,), stride=(2,), padding=(11,))\n",
      "    (7): LeakyReLU(negative_slope=0.01)\n",
      "    (8): BatchNorm1d(128, eps=1e-05, momentum=0.1, affine=True, track_running_stats=True)\n",
      "    (9): Conv1d(128, 512, kernel_size=(4,), stride=(2,), padding=(5,))\n",
      "    (10): LeakyReLU(negative_slope=0.01)\n",
      "    (11): Flatten(start_dim=1, end_dim=-1)\n",
      "    (12): Linear(in_features=12288, out_features=24, bias=True)\n",
      "    (13): LeakyReLU(negative_slope=0.01)\n",
      "  )\n",
      "  (decoder): Sequential(\n",
      "    (0): Linear(in_features=6, out_features=24, bias=True)\n",
      "    (1): LeakyReLU(negative_slope=0.01)\n",
      "    (2): Linear(in_features=24, out_features=12288, bias=True)\n",
      "    (3): LeakyReLU(negative_slope=0.01)\n",
      "    (4): Unflatten(dim=1, unflattened_size=(512, 24))\n",
      "    (5): ConvTranspose1d(512, 128, kernel_size=(4,), stride=(2,), padding=(5,))\n",
      "    (6): LeakyReLU(negative_slope=0.01)\n",
      "    (7): BatchNorm1d(128, eps=1e-05, momentum=0.1, affine=True, track_running_stats=True)\n",
      "    (8): ConvTranspose1d(128, 64, kernel_size=(3,), stride=(2,), padding=(11,), output_padding=(1,))\n",
      "    (9): LeakyReLU(negative_slope=0.01)\n",
      "    (10): BatchNorm1d(64, eps=1e-05, momentum=0.1, affine=True, track_running_stats=True)\n",
      "    (11): ConvTranspose1d(64, 32, kernel_size=(3,), stride=(2,), padding=(21,), output_padding=(1,))\n",
      "    (12): LeakyReLU(negative_slope=0.01)\n",
      "    (13): BatchNorm1d(32, eps=1e-05, momentum=0.1, affine=True, track_running_stats=True)\n",
      "    (14): ConvTranspose1d(32, 1, kernel_size=(3,), stride=(2,), padding=(31,), output_padding=(1,))\n",
      "  )\n",
      "  (code_mean): Linear(in_features=24, out_features=6, bias=True)\n",
      "  (code_std_dev): Linear(in_features=24, out_features=6, bias=True)\n",
      ")\n",
      "----------------------------------------------------------------\n",
      "        Layer (type)               Output Shape         Param #\n",
      "================================================================\n",
      "            Conv1d-1               [-1, 32, 80]             128\n",
      "         LeakyReLU-2               [-1, 32, 80]               0\n",
      "       BatchNorm1d-3               [-1, 32, 80]              64\n",
      "            Conv1d-4               [-1, 64, 60]           6,208\n",
      "         LeakyReLU-5               [-1, 64, 60]               0\n",
      "       BatchNorm1d-6               [-1, 64, 60]             128\n",
      "            Conv1d-7              [-1, 128, 40]          24,704\n",
      "         LeakyReLU-8              [-1, 128, 40]               0\n",
      "       BatchNorm1d-9              [-1, 128, 40]             256\n",
      "           Conv1d-10              [-1, 512, 24]         262,656\n",
      "        LeakyReLU-11              [-1, 512, 24]               0\n",
      "          Flatten-12                [-1, 12288]               0\n",
      "           Linear-13                   [-1, 24]         294,936\n",
      "        LeakyReLU-14                   [-1, 24]               0\n",
      "           Linear-15                    [-1, 6]             150\n",
      "           Linear-16                    [-1, 6]             150\n",
      "           Linear-17                   [-1, 24]             168\n",
      "        LeakyReLU-18                   [-1, 24]               0\n",
      "           Linear-19                [-1, 12288]         307,200\n",
      "        LeakyReLU-20                [-1, 12288]               0\n",
      "        Unflatten-21              [-1, 512, 24]               0\n",
      "  ConvTranspose1d-22              [-1, 128, 40]         262,272\n",
      "        LeakyReLU-23              [-1, 128, 40]               0\n",
      "      BatchNorm1d-24              [-1, 128, 40]             256\n",
      "  ConvTranspose1d-25               [-1, 64, 60]          24,640\n",
      "        LeakyReLU-26               [-1, 64, 60]               0\n",
      "      BatchNorm1d-27               [-1, 64, 60]             128\n",
      "  ConvTranspose1d-28               [-1, 32, 80]           6,176\n",
      "        LeakyReLU-29               [-1, 32, 80]               0\n",
      "      BatchNorm1d-30               [-1, 32, 80]              64\n",
      "  ConvTranspose1d-31               [-1, 1, 100]              97\n",
      "================================================================\n",
      "Total params: 1,190,381\n",
      "Trainable params: 1,190,381\n",
      "Non-trainable params: 0\n",
      "----------------------------------------------------------------\n",
      "Input size (MB): 0.00\n",
      "Forward/backward pass size (MB): 1.09\n",
      "Params size (MB): 4.54\n",
      "Estimated Total Size (MB): 5.63\n",
      "----------------------------------------------------------------\n"
     ]
    }
   ],
   "source": [
    "from torchsummary import summary\n",
    "if torch.cuda.is_available():\n",
    "    vae = vae.to('cuda')\n",
    "print(vae)\n",
    "summary(vae, (1, 100))"
   ]
  },
  {
   "cell_type": "markdown",
   "metadata": {},
   "source": [
    "## Train Model"
   ]
  },
  {
   "cell_type": "code",
   "execution_count": 12,
   "metadata": {},
   "outputs": [
    {
     "name": "stdout",
     "output_type": "stream",
     "text": [
      "Epoch 1/10, Loss: 4131.94775390625\n",
      "Epoch 2/10, Loss: 1531.2784423828125\n",
      "Epoch 3/10, Loss: 223.1237335205078\n",
      "Epoch 4/10, Loss: 779.0656127929688\n",
      "Epoch 5/10, Loss: 791.034423828125\n",
      "Epoch 6/10, Loss: 554.9790649414062\n",
      "Epoch 7/10, Loss: 658.4357299804688\n",
      "Epoch 8/10, Loss: 567.9481811523438\n",
      "Epoch 9/10, Loss: 550.6943359375\n",
      "Epoch 10/10, Loss: 896.304443359375\n"
     ]
    }
   ],
   "source": [
    "train_save = True\n",
    "if train_save:\n",
    "    # Train the model\n",
    "    vae.train_model(train_loader, n_epochs=10)\n",
    "    # Save the model\n",
    "    vae.save_model(\"Weights/vae.pth\")\n",
    "else:\n",
    "    # Load the model\n",
    "    vae.load_model(\"Weights/vae.pth\")\n",
    "    vae.eval()"
   ]
  },
  {
   "cell_type": "markdown",
   "metadata": {},
   "source": [
    "### Loss Analysis"
   ]
  },
  {
   "cell_type": "code",
   "execution_count": 8,
   "metadata": {},
   "outputs": [
    {
     "data": {
      "image/png": "[encoded data removed]",
      "text/plain": [
       "<Figure size 640x480 with 1 Axes>"
      ]
     },
     "metadata": {},
     "output_type": "display_data"
    }
   ],
   "source": [
    "if train_save:\n",
    "    vae.plot_loss()"
   ]
  },
  {
   "cell_type": "markdown",
   "metadata": {},
   "source": [
    "## Create LSTM data and model"
   ]
  },
  {
   "cell_type": "code",
   "execution_count": 11,
   "metadata": {},
   "outputs": [],
   "source": [
    "encoded_training_data = vae.encode_data(train_loader)"
   ]
  },
  {
   "cell_type": "code",
   "execution_count": 12,
   "metadata": {},
   "outputs": [
    {
     "name": "stdout",
     "output_type": "stream",
     "text": [
      "(110048, 6)\n"
     ]
    }
   ],
   "source": [
    "print(encoded_training_data.shape)"
   ]
  },
  {
   "cell_type": "code",
   "execution_count": 13,
   "metadata": {},
   "outputs": [],
   "source": [
    "# Create a DataLoader object\n",
    "lstm_dataloader = DataLoaderGenerator(encoded_training_data, batch_size=32)\n",
    "#train_loader_lstm, val_loader_lstm = lstm_dataloader.generate()\n",
    "train_loader_lstm = lstm_dataloader.generate()"
   ]
  },
  {
   "cell_type": "code",
   "execution_count": 14,
   "metadata": {},
   "outputs": [
    {
     "data": {
      "text/plain": [
       "torch.Size([110048, 1, 6])"
      ]
     },
     "execution_count": 14,
     "metadata": {},
     "output_type": "execute_result"
    }
   ],
   "source": [
    "train_loader_lstm.dataset.tensors[0].shape"
   ]
  },
  {
   "cell_type": "code",
   "execution_count": 15,
   "metadata": {},
   "outputs": [
    {
     "name": "stdout",
     "output_type": "stream",
     "text": [
      "LSTM(\n",
      "  (models): ModuleList(\n",
      "    (0): LSTM(6, 64, batch_first=True)\n",
      "    (1): LSTM(64, 64, batch_first=True)\n",
      "    (2): LSTM(64, 6, batch_first=True)\n",
      "    (3): Linear(in_features=6, out_features=6, bias=True)\n",
      "  )\n",
      ")\n"
     ]
    },
    {
     "data": {
      "text/plain": [
       "==========================================================================================\n",
       "Layer (type:depth-idx)                   Output Shape              Param #\n",
       "==========================================================================================\n",
       "LSTM                                     [1, 6]                    --\n",
       "├─ModuleList: 1-1                        --                        42\n",
       "│    └─LSTM: 2-1                         [1, 64]                   18,432\n",
       "│    └─LSTM: 2-2                         [1, 64]                   33,280\n",
       "│    └─LSTM: 2-3                         [1, 6]                    1,728\n",
       "==========================================================================================\n",
       "Total params: 53,482\n",
       "Trainable params: 53,482\n",
       "Non-trainable params: 0\n",
       "Total mult-adds (Units.MEGABYTES): 3.32\n",
       "==========================================================================================\n",
       "Input size (MB): 0.00\n",
       "Forward/backward pass size (MB): 0.00\n",
       "Params size (MB): 0.21\n",
       "Estimated Total Size (MB): 0.21\n",
       "=========================================================================================="
      ]
     },
     "execution_count": 15,
     "metadata": {},
     "output_type": "execute_result"
    }
   ],
   "source": [
    "from Utils.models import LSTM\n",
    "from torchinfo import summary as summary2\n",
    "\n",
    "lstm = LSTM()\n",
    "if torch.cuda.is_available():\n",
    "    lstm = lstm.to('cuda')\n",
    "print(lstm)\n",
    "summary2(lstm, input_size=(1, 6))"
   ]
  },
  {
   "cell_type": "markdown",
   "metadata": {},
   "source": [
    "## Train LSTM"
   ]
  },
  {
   "cell_type": "code",
   "execution_count": 17,
   "metadata": {},
   "outputs": [
    {
     "name": "stdout",
     "output_type": "stream",
     "text": [
      "Epoch 1/10, Loss: 38.76661682128906\n",
      "Epoch 2/10, Loss: 47.334251403808594\n",
      "Epoch 3/10, Loss: 53.1032829284668\n",
      "Epoch 4/10, Loss: 51.886802673339844\n",
      "Epoch 5/10, Loss: 52.67978286743164\n",
      "Epoch 6/10, Loss: 44.86387634277344\n",
      "Epoch 7/10, Loss: 56.80243682861328\n",
      "Epoch 8/10, Loss: 56.61362075805664\n",
      "Epoch 9/10, Loss: 49.10042953491211\n",
      "Epoch 10/10, Loss: 61.88829803466797\n"
     ]
    }
   ],
   "source": [
    "train_save = True\n",
    "if train_save:\n",
    "    # Train the model\n",
    "    lstm.train_model(train_loader_lstm, n_epochs=10)\n",
    "    # Save the model\n",
    "    lstm.save_model(\"Weights/lstm.pth\")\n",
    "else:\n",
    "    # Load the model\n",
    "    lstm.load_model(\"Weights/lstm.pth\")\n",
    "    lstm.eval()"
   ]
  },
  {
   "cell_type": "code",
   "execution_count": 20,
   "metadata": {},
   "outputs": [
    {
     "data": {
      "image/png": "[encoded data removed]",
      "text/plain": [
       "<Figure size 640x480 with 1 Axes>"
      ]
     },
     "metadata": {},
     "output_type": "display_data"
    }
   ],
   "source": [
    "if train_save:\n",
    "    lstm.plot_loss()"
   ]
  },
  {
   "cell_type": "markdown",
   "metadata": {},
   "source": [
    "## Evaluate VAE-LSTM Model"
   ]
  },
  {
   "cell_type": "code",
   "execution_count": null,
   "metadata": {},
   "outputs": [],
   "source": [
    "from Utils.models import VAE_LSTM\n",
    "\n",
    "vae_lstm = VAE_LSTM(vae, lstm)\n",
    "#vae_lstm.evaluate(test_loader, 0.9)"
   ]
  },
  {
   "cell_type": "code",
   "execution_count": 20,
   "metadata": {},
   "outputs": [
    {
     "name": "stdout",
     "output_type": "stream",
     "text": [
      "[0.1   0.125 0.15  0.175 0.2   0.225 0.25  0.275 0.3   0.325 0.35  0.375\n",
      " 0.4   0.425 0.45  0.475 0.5   0.525 0.55  0.575 0.6   0.625 0.65  0.675\n",
      " 0.7   0.725 0.75  0.775 0.8   0.825 0.85  0.875 0.9   0.925 0.95  0.975\n",
      " 1.   ]\n"
     ]
    }
   ],
   "source": [
    "import numpy as np\n",
    "\n",
    "\n",
    "threshold_list = np.linspace(0.1, 1, 37)\n",
    "print(threshold_list)"
   ]
  }
 ],
 "metadata": {
  "kernelspec": {
   "display_name": "Python 3",
   "language": "python",
   "name": "python3"
  },
  "language_info": {
   "codemirror_mode": {
    "name": "ipython",
    "version": 3
   },
   "file_extension": ".py",
   "mimetype": "text/x-python",
   "name": "python",
   "nbconvert_exporter": "python",
   "pygments_lexer": "ipython3",
   "version": "3.10.11"
  }
 },
 "nbformat": 4,
 "nbformat_minor": 2
}
