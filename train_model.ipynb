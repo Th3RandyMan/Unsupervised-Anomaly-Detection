{
 "cells": [
  {
   "cell_type": "code",
   "execution_count": 1,
   "metadata": {},
   "outputs": [],
   "source": [
    "%load_ext autoreload\n",
    "%autoreload 2"
   ]
  },
  {
   "cell_type": "markdown",
   "metadata": {},
   "source": [
    "## Get dataset to train"
   ]
  },
  {
   "cell_type": "code",
   "execution_count": 2,
   "metadata": {},
   "outputs": [
    {
     "name": "stdout",
     "output_type": "stream",
     "text": [
      "P19V1_20.csv\n",
      "(110172, 12)\n"
     ]
    },
    {
     "data": {
      "text/html": [
       "<div>\n",
       "<style scoped>\n",
       "    .dataframe tbody tr th:only-of-type {\n",
       "        vertical-align: middle;\n",
       "    }\n",
       "\n",
       "    .dataframe tbody tr th {\n",
       "        vertical-align: top;\n",
       "    }\n",
       "\n",
       "    .dataframe thead th {\n",
       "        text-align: right;\n",
       "    }\n",
       "</style>\n",
       "<table border=\"1\" class=\"dataframe\">\n",
       "  <thead>\n",
       "    <tr style=\"text-align: right;\">\n",
       "      <th></th>\n",
       "      <th>ax1</th>\n",
       "      <th>ay1</th>\n",
       "      <th>az1</th>\n",
       "      <th>gx1</th>\n",
       "      <th>gy1</th>\n",
       "      <th>gz1</th>\n",
       "      <th>ax2</th>\n",
       "      <th>ay2</th>\n",
       "      <th>az2</th>\n",
       "      <th>gx2</th>\n",
       "      <th>gy2</th>\n",
       "      <th>gz2</th>\n",
       "    </tr>\n",
       "  </thead>\n",
       "  <tbody>\n",
       "    <tr>\n",
       "      <th>0</th>\n",
       "      <td>0.042</td>\n",
       "      <td>-0.434</td>\n",
       "      <td>-0.837</td>\n",
       "      <td>-1.717</td>\n",
       "      <td>1.022</td>\n",
       "      <td>0.816</td>\n",
       "      <td>0.133</td>\n",
       "      <td>0.005</td>\n",
       "      <td>-1.031</td>\n",
       "      <td>-3.113</td>\n",
       "      <td>1.747</td>\n",
       "      <td>-1.862</td>\n",
       "    </tr>\n",
       "    <tr>\n",
       "      <th>1</th>\n",
       "      <td>0.043</td>\n",
       "      <td>-0.437</td>\n",
       "      <td>-0.842</td>\n",
       "      <td>-1.846</td>\n",
       "      <td>0.916</td>\n",
       "      <td>0.496</td>\n",
       "      <td>0.135</td>\n",
       "      <td>0.005</td>\n",
       "      <td>-1.027</td>\n",
       "      <td>-2.853</td>\n",
       "      <td>1.717</td>\n",
       "      <td>-1.869</td>\n",
       "    </tr>\n",
       "    <tr>\n",
       "      <th>2</th>\n",
       "      <td>0.044</td>\n",
       "      <td>-0.434</td>\n",
       "      <td>-0.839</td>\n",
       "      <td>-1.717</td>\n",
       "      <td>1.289</td>\n",
       "      <td>0.687</td>\n",
       "      <td>0.133</td>\n",
       "      <td>0.004</td>\n",
       "      <td>-1.028</td>\n",
       "      <td>-2.350</td>\n",
       "      <td>1.785</td>\n",
       "      <td>-1.801</td>\n",
       "    </tr>\n",
       "    <tr>\n",
       "      <th>3</th>\n",
       "      <td>0.040</td>\n",
       "      <td>-0.438</td>\n",
       "      <td>-0.836</td>\n",
       "      <td>-1.724</td>\n",
       "      <td>1.106</td>\n",
       "      <td>0.732</td>\n",
       "      <td>0.135</td>\n",
       "      <td>0.005</td>\n",
       "      <td>-1.026</td>\n",
       "      <td>-2.396</td>\n",
       "      <td>1.831</td>\n",
       "      <td>-1.640</td>\n",
       "    </tr>\n",
       "    <tr>\n",
       "      <th>4</th>\n",
       "      <td>0.044</td>\n",
       "      <td>-0.438</td>\n",
       "      <td>-0.838</td>\n",
       "      <td>-1.671</td>\n",
       "      <td>1.022</td>\n",
       "      <td>0.534</td>\n",
       "      <td>0.135</td>\n",
       "      <td>0.003</td>\n",
       "      <td>-1.023</td>\n",
       "      <td>-2.335</td>\n",
       "      <td>1.923</td>\n",
       "      <td>-1.404</td>\n",
       "    </tr>\n",
       "  </tbody>\n",
       "</table>\n",
       "</div>"
      ],
      "text/plain": [
       "     ax1    ay1    az1    gx1    gy1    gz1    ax2    ay2    az2    gx2  \\\n",
       "0  0.042 -0.434 -0.837 -1.717  1.022  0.816  0.133  0.005 -1.031 -3.113   \n",
       "1  0.043 -0.437 -0.842 -1.846  0.916  0.496  0.135  0.005 -1.027 -2.853   \n",
       "2  0.044 -0.434 -0.839 -1.717  1.289  0.687  0.133  0.004 -1.028 -2.350   \n",
       "3  0.040 -0.438 -0.836 -1.724  1.106  0.732  0.135  0.005 -1.026 -2.396   \n",
       "4  0.044 -0.438 -0.838 -1.671  1.022  0.534  0.135  0.003 -1.023 -2.335   \n",
       "\n",
       "     gy2    gz2  \n",
       "0  1.747 -1.862  \n",
       "1  1.717 -1.869  \n",
       "2  1.785 -1.801  \n",
       "3  1.831 -1.640  \n",
       "4  1.923 -1.404  "
      ]
     },
     "execution_count": 2,
     "metadata": {},
     "output_type": "execute_result"
    }
   ],
   "source": [
    "import json\n",
    "import torch    #if error, restart kernel\n",
    "import torch.utils.data\n",
    "from torch import nn, optim\n",
    "from torch.nn import functional as F\n",
    "from torchvision import datasets, transforms\n",
    "from torchvision.utils import save_image\n",
    "\n",
    "import glob\n",
    "import pandas as pd\n",
    "\n",
    "Fs = 100  # Sampling frequency\n",
    "\n",
    "# Path to the folder containing the CSV files\n",
    "folder_path = \"TFO Data\\IMU\"\n",
    "\n",
    "# Get the list of CSV files in the folder\n",
    "file_list = glob.glob(folder_path + \"\\*.csv\")\n",
    "file_path = file_list[0]\n",
    "\n",
    "# Read the CSV file into a pandas dataframe\n",
    "df = pd.read_csv(file_path)\n",
    "df = df[df.columns[2:-1]]  # Remove the time, index, and temperature columns\n",
    "    \n",
    "# Show the head of the dataframe\n",
    "title = file_path.split(\"\\\\\")[-1]\n",
    "print(title)\n",
    "print(df.shape)\n",
    "df.head()"
   ]
  },
  {
   "cell_type": "markdown",
   "metadata": {},
   "source": [
    "### Normalize data in dataframe"
   ]
  },
  {
   "cell_type": "code",
   "execution_count": 3,
   "metadata": {},
   "outputs": [
    {
     "data": {
      "text/html": [
       "<div>\n",
       "<style scoped>\n",
       "    .dataframe tbody tr th:only-of-type {\n",
       "        vertical-align: middle;\n",
       "    }\n",
       "\n",
       "    .dataframe tbody tr th {\n",
       "        vertical-align: top;\n",
       "    }\n",
       "\n",
       "    .dataframe thead th {\n",
       "        text-align: right;\n",
       "    }\n",
       "</style>\n",
       "<table border=\"1\" class=\"dataframe\">\n",
       "  <thead>\n",
       "    <tr style=\"text-align: right;\">\n",
       "      <th></th>\n",
       "      <th>ax1</th>\n",
       "      <th>ay1</th>\n",
       "      <th>az1</th>\n",
       "      <th>gx1</th>\n",
       "      <th>gy1</th>\n",
       "      <th>gz1</th>\n",
       "      <th>ax2</th>\n",
       "      <th>ay2</th>\n",
       "      <th>az2</th>\n",
       "      <th>gx2</th>\n",
       "      <th>gy2</th>\n",
       "      <th>gz2</th>\n",
       "    </tr>\n",
       "  </thead>\n",
       "  <tbody>\n",
       "    <tr>\n",
       "      <th>0</th>\n",
       "      <td>0.230236</td>\n",
       "      <td>1.627046</td>\n",
       "      <td>-0.611045</td>\n",
       "      <td>-0.196632</td>\n",
       "      <td>0.388310</td>\n",
       "      <td>0.238405</td>\n",
       "      <td>-1.498117</td>\n",
       "      <td>0.410524</td>\n",
       "      <td>-1.664147</td>\n",
       "      <td>-1.221645</td>\n",
       "      <td>-0.157399</td>\n",
       "      <td>-0.492049</td>\n",
       "    </tr>\n",
       "    <tr>\n",
       "      <th>1</th>\n",
       "      <td>0.292071</td>\n",
       "      <td>1.343254</td>\n",
       "      <td>-1.294657</td>\n",
       "      <td>-0.399282</td>\n",
       "      <td>0.219007</td>\n",
       "      <td>-0.307369</td>\n",
       "      <td>-1.332153</td>\n",
       "      <td>0.410524</td>\n",
       "      <td>-0.866719</td>\n",
       "      <td>-0.854196</td>\n",
       "      <td>-0.208270</td>\n",
       "      <td>-0.506191</td>\n",
       "    </tr>\n",
       "    <tr>\n",
       "      <th>2</th>\n",
       "      <td>0.353905</td>\n",
       "      <td>1.627046</td>\n",
       "      <td>-0.884490</td>\n",
       "      <td>-0.196632</td>\n",
       "      <td>0.814763</td>\n",
       "      <td>0.018390</td>\n",
       "      <td>-1.498117</td>\n",
       "      <td>0.348344</td>\n",
       "      <td>-1.066076</td>\n",
       "      <td>-0.143323</td>\n",
       "      <td>-0.092962</td>\n",
       "      <td>-0.368807</td>\n",
       "    </tr>\n",
       "    <tr>\n",
       "      <th>3</th>\n",
       "      <td>0.106566</td>\n",
       "      <td>1.248657</td>\n",
       "      <td>-0.474323</td>\n",
       "      <td>-0.207628</td>\n",
       "      <td>0.522475</td>\n",
       "      <td>0.095139</td>\n",
       "      <td>-1.332153</td>\n",
       "      <td>0.410524</td>\n",
       "      <td>-0.667362</td>\n",
       "      <td>-0.208334</td>\n",
       "      <td>-0.014959</td>\n",
       "      <td>-0.043529</td>\n",
       "    </tr>\n",
       "    <tr>\n",
       "      <th>4</th>\n",
       "      <td>0.353905</td>\n",
       "      <td>1.248657</td>\n",
       "      <td>-0.747767</td>\n",
       "      <td>-0.124369</td>\n",
       "      <td>0.388310</td>\n",
       "      <td>-0.242559</td>\n",
       "      <td>-1.332153</td>\n",
       "      <td>0.286163</td>\n",
       "      <td>-0.069291</td>\n",
       "      <td>-0.122124</td>\n",
       "      <td>0.141045</td>\n",
       "      <td>0.433277</td>\n",
       "    </tr>\n",
       "  </tbody>\n",
       "</table>\n",
       "</div>"
      ],
      "text/plain": [
       "        ax1       ay1       az1       gx1       gy1       gz1       ax2  \\\n",
       "0  0.230236  1.627046 -0.611045 -0.196632  0.388310  0.238405 -1.498117   \n",
       "1  0.292071  1.343254 -1.294657 -0.399282  0.219007 -0.307369 -1.332153   \n",
       "2  0.353905  1.627046 -0.884490 -0.196632  0.814763  0.018390 -1.498117   \n",
       "3  0.106566  1.248657 -0.474323 -0.207628  0.522475  0.095139 -1.332153   \n",
       "4  0.353905  1.248657 -0.747767 -0.124369  0.388310 -0.242559 -1.332153   \n",
       "\n",
       "        ay2       az2       gx2       gy2       gz2  \n",
       "0  0.410524 -1.664147 -1.221645 -0.157399 -0.492049  \n",
       "1  0.410524 -0.866719 -0.854196 -0.208270 -0.506191  \n",
       "2  0.348344 -1.066076 -0.143323 -0.092962 -0.368807  \n",
       "3  0.410524 -0.667362 -0.208334 -0.014959 -0.043529  \n",
       "4  0.286163 -0.069291 -0.122124  0.141045  0.433277  "
      ]
     },
     "execution_count": 3,
     "metadata": {},
     "output_type": "execute_result"
    }
   ],
   "source": [
    "from sklearn.preprocessing import StandardScaler, MinMaxScaler\n",
    "\n",
    "columns = df.columns\n",
    "index = df.index\n",
    "\n",
    "# Normalize the data\n",
    "scaler = StandardScaler() # Can't use this with BCELoss\n",
    "#scaler = MinMaxScaler()\n",
    "df = scaler.fit_transform(df)\n",
    "df = pd.DataFrame(df, columns=columns, index=index)\n",
    "df.head()"
   ]
  },
  {
   "cell_type": "code",
   "execution_count": 4,
   "metadata": {},
   "outputs": [
    {
     "name": "stdout",
     "output_type": "stream",
     "text": [
      "(110172,)\n",
      "(110172,)\n"
     ]
    }
   ],
   "source": [
    "x = df['ax1']\n",
    "y = df['ay1']\n",
    "print(x.shape)\n",
    "print(y.shape)"
   ]
  },
  {
   "cell_type": "markdown",
   "metadata": {},
   "source": [
    "## Create model and dataloaders"
   ]
  },
  {
   "cell_type": "code",
   "execution_count": 5,
   "metadata": {},
   "outputs": [
    {
     "name": "stdout",
     "output_type": "stream",
     "text": [
      "Data shape: (110073, 100)\n",
      "Data shape: (110073, 100)\n",
      "Number of batches: 6879\n"
     ]
    }
   ],
   "source": [
    "from Utils.models import VAE\n",
    "from Utils.dataloader import DataLoaderGenerator\n",
    "from Utils.processing import window_data\n",
    "\n",
    "# Window the data\n",
    "# data = window_data(x, 100)\n",
    "data_x = window_data(x, 100)\n",
    "data_y = window_data(y, 100)\n",
    "# print(f\"Data shape: {data.shape}\")\n",
    "print(f\"Data shape: {data_x.shape}\")\n",
    "print(f\"Data shape: {data_y.shape}\")\n",
    "\n",
    "# Create a DataLoader object\n",
    "#dataloader = DataLoaderGenerator(data, batch_size=32)\n",
    "dataloader = DataLoaderGenerator([data_x, data_y], batch_size=32)\n",
    "#train_loader, val_loader = dataloader.generate()\n",
    "train_loader = dataloader.generate()\n",
    "print(f\"Number of batches: {len(train_loader)}\")\n",
    "\n",
    "# Initialize the model\n",
    "vae = VAE(input_dims=100, latent_dims=6)#, device='cpu')\n"
   ]
  },
  {
   "cell_type": "code",
   "execution_count": 6,
   "metadata": {},
   "outputs": [
    {
     "name": "stdout",
     "output_type": "stream",
     "text": [
      "VAE(\n",
      "  (encoder): Sequential(\n",
      "    (0): Conv1d(1, 32, kernel_size=(3,), stride=(2,), padding=(31,))\n",
      "    (1): LeakyReLU(negative_slope=0.01)\n",
      "    (2): BatchNorm1d(32, eps=1e-05, momentum=0.1, affine=True, track_running_stats=True)\n",
      "    (3): Conv1d(32, 64, kernel_size=(3,), stride=(2,), padding=(21,))\n",
      "    (4): LeakyReLU(negative_slope=0.01)\n",
      "    (5): BatchNorm1d(64, eps=1e-05, momentum=0.1, affine=True, track_running_stats=True)\n",
      "    (6): Conv1d(64, 128, kernel_size=(3,), stride=(2,), padding=(11,))\n",
      "    (7): LeakyReLU(negative_slope=0.01)\n",
      "    (8): BatchNorm1d(128, eps=1e-05, momentum=0.1, affine=True, track_running_stats=True)\n",
      "    (9): Conv1d(128, 512, kernel_size=(4,), stride=(2,), padding=(5,))\n",
      "    (10): LeakyReLU(negative_slope=0.01)\n",
      "    (11): Flatten(start_dim=1, end_dim=-1)\n",
      "    (12): Linear(in_features=12288, out_features=24, bias=True)\n",
      "    (13): LeakyReLU(negative_slope=0.01)\n",
      "  )\n",
      "  (decoder): Sequential(\n",
      "    (0): Linear(in_features=6, out_features=24, bias=True)\n",
      "    (1): LeakyReLU(negative_slope=0.01)\n",
      "    (2): Linear(in_features=24, out_features=12288, bias=True)\n",
      "    (3): LeakyReLU(negative_slope=0.01)\n",
      "    (4): Unflatten(dim=1, unflattened_size=(512, 24))\n",
      "    (5): ConvTranspose1d(512, 128, kernel_size=(4,), stride=(2,), padding=(5,))\n",
      "    (6): LeakyReLU(negative_slope=0.01)\n",
      "    (7): BatchNorm1d(128, eps=1e-05, momentum=0.1, affine=True, track_running_stats=True)\n",
      "    (8): ConvTranspose1d(128, 64, kernel_size=(3,), stride=(2,), padding=(11,), output_padding=(1,))\n",
      "    (9): LeakyReLU(negative_slope=0.01)\n",
      "    (10): BatchNorm1d(64, eps=1e-05, momentum=0.1, affine=True, track_running_stats=True)\n",
      "    (11): ConvTranspose1d(64, 32, kernel_size=(3,), stride=(2,), padding=(21,), output_padding=(1,))\n",
      "    (12): LeakyReLU(negative_slope=0.01)\n",
      "    (13): BatchNorm1d(32, eps=1e-05, momentum=0.1, affine=True, track_running_stats=True)\n",
      "    (14): ConvTranspose1d(32, 1, kernel_size=(3,), stride=(2,), padding=(31,), output_padding=(1,))\n",
      "  )\n",
      "  (code_mean): Linear(in_features=24, out_features=6, bias=True)\n",
      "  (code_std_dev): Linear(in_features=24, out_features=6, bias=True)\n",
      ")\n",
      "----------------------------------------------------------------\n",
      "        Layer (type)               Output Shape         Param #\n",
      "================================================================\n",
      "            Conv1d-1               [-1, 32, 80]             128\n",
      "         LeakyReLU-2               [-1, 32, 80]               0\n",
      "       BatchNorm1d-3               [-1, 32, 80]              64\n",
      "            Conv1d-4               [-1, 64, 60]           6,208\n",
      "         LeakyReLU-5               [-1, 64, 60]               0\n",
      "       BatchNorm1d-6               [-1, 64, 60]             128\n",
      "            Conv1d-7              [-1, 128, 40]          24,704\n",
      "         LeakyReLU-8              [-1, 128, 40]               0\n",
      "       BatchNorm1d-9              [-1, 128, 40]             256\n",
      "           Conv1d-10              [-1, 512, 24]         262,656\n",
      "        LeakyReLU-11              [-1, 512, 24]               0\n",
      "          Flatten-12                [-1, 12288]               0\n",
      "           Linear-13                   [-1, 24]         294,936\n",
      "        LeakyReLU-14                   [-1, 24]               0\n",
      "           Linear-15                    [-1, 6]             150\n",
      "           Linear-16                    [-1, 6]             150\n",
      "           Linear-17                   [-1, 24]             168\n",
      "        LeakyReLU-18                   [-1, 24]               0\n",
      "           Linear-19                [-1, 12288]         307,200\n",
      "        LeakyReLU-20                [-1, 12288]               0\n",
      "        Unflatten-21              [-1, 512, 24]               0\n",
      "  ConvTranspose1d-22              [-1, 128, 40]         262,272\n",
      "        LeakyReLU-23              [-1, 128, 40]               0\n",
      "      BatchNorm1d-24              [-1, 128, 40]             256\n",
      "  ConvTranspose1d-25               [-1, 64, 60]          24,640\n",
      "        LeakyReLU-26               [-1, 64, 60]               0\n",
      "      BatchNorm1d-27               [-1, 64, 60]             128\n",
      "  ConvTranspose1d-28               [-1, 32, 80]           6,176\n",
      "        LeakyReLU-29               [-1, 32, 80]               0\n",
      "      BatchNorm1d-30               [-1, 32, 80]              64\n",
      "  ConvTranspose1d-31               [-1, 1, 100]              97\n",
      "================================================================\n",
      "Total params: 1,190,381\n",
      "Trainable params: 1,190,381\n",
      "Non-trainable params: 0\n",
      "----------------------------------------------------------------\n",
      "Input size (MB): 0.00\n",
      "Forward/backward pass size (MB): 1.09\n",
      "Params size (MB): 4.54\n",
      "Estimated Total Size (MB): 5.63\n",
      "----------------------------------------------------------------\n"
     ]
    }
   ],
   "source": [
    "from torchsummary import summary\n",
    "if torch.cuda.is_available():\n",
    "    vae = vae.to('cuda')\n",
    "print(vae)\n",
    "summary(vae, (1, 100))"
   ]
  },
  {
   "cell_type": "markdown",
   "metadata": {},
   "source": [
    "## Train Model"
   ]
  },
  {
   "cell_type": "code",
   "execution_count": 7,
   "metadata": {},
   "outputs": [],
   "source": [
    "train_save = False\n",
    "if train_save:\n",
    "    # Train the model\n",
    "    vae.train_model(train_loader, n_epochs=10)\n",
    "    # Save the model\n",
    "    vae.save_model(\"Weights/vae.pth\")\n",
    "else:\n",
    "    # Load the model\n",
    "    vae.load_model(\"Weights/vae.pth\")\n",
    "    vae.eval()"
   ]
  },
  {
   "cell_type": "markdown",
   "metadata": {},
   "source": [
    "### Loss Analysis"
   ]
  },
  {
   "cell_type": "code",
   "execution_count": 8,
   "metadata": {},
   "outputs": [],
   "source": [
    "if train_save:\n",
    "    vae.plot_loss()"
   ]
  },
  {
   "cell_type": "markdown",
   "metadata": {},
   "source": [
    "## Create LSTM data and model"
   ]
  },
  {
   "cell_type": "code",
   "execution_count": 9,
   "metadata": {},
   "outputs": [],
   "source": [
    "encoded_training_data = vae.encode_data(train_loader)"
   ]
  },
  {
   "cell_type": "code",
   "execution_count": 10,
   "metadata": {},
   "outputs": [
    {
     "name": "stdout",
     "output_type": "stream",
     "text": [
      "(220128, 6)\n"
     ]
    }
   ],
   "source": [
    "print(encoded_training_data.shape)"
   ]
  },
  {
   "cell_type": "code",
   "execution_count": 11,
   "metadata": {},
   "outputs": [],
   "source": [
    "# Create a DataLoader object\n",
    "lstm_dataloader = DataLoaderGenerator(encoded_training_data, batch_size=32)\n",
    "#train_loader_lstm, val_loader_lstm = lstm_dataloader.generate()\n",
    "train_loader_lstm = lstm_dataloader.generate()"
   ]
  },
  {
   "cell_type": "code",
   "execution_count": 12,
   "metadata": {},
   "outputs": [
    {
     "data": {
      "text/plain": [
       "torch.Size([220128, 1, 6])"
      ]
     },
     "execution_count": 12,
     "metadata": {},
     "output_type": "execute_result"
    }
   ],
   "source": [
    "train_loader_lstm.dataset.tensors[0].shape"
   ]
  },
  {
   "cell_type": "code",
   "execution_count": 13,
   "metadata": {},
   "outputs": [
    {
     "name": "stdout",
     "output_type": "stream",
     "text": [
      "LSTM(\n",
      "  (models): ModuleList(\n",
      "    (0): LSTM(6, 64, batch_first=True)\n",
      "    (1): LSTM(64, 64, batch_first=True)\n",
      "    (2): LSTM(64, 6, batch_first=True)\n",
      "    (3): Linear(in_features=6, out_features=6, bias=True)\n",
      "  )\n",
      ")\n"
     ]
    },
    {
     "data": {
      "text/plain": [
       "==========================================================================================\n",
       "Layer (type:depth-idx)                   Output Shape              Param #\n",
       "==========================================================================================\n",
       "LSTM                                     [1, 6]                    --\n",
       "├─ModuleList: 1-1                        --                        --\n",
       "│    └─LSTM: 2-1                         [1, 64]                   18,432\n",
       "│    └─LSTM: 2-2                         [1, 64]                   33,280\n",
       "│    └─LSTM: 2-3                         [1, 6]                    1,728\n",
       "│    └─Linear: 2-4                       [1, 6]                    42\n",
       "==========================================================================================\n",
       "Total params: 53,482\n",
       "Trainable params: 53,482\n",
       "Non-trainable params: 0\n",
       "Total mult-adds (Units.MEGABYTES): 3.32\n",
       "==========================================================================================\n",
       "Input size (MB): 0.00\n",
       "Forward/backward pass size (MB): 0.00\n",
       "Params size (MB): 0.21\n",
       "Estimated Total Size (MB): 0.22\n",
       "=========================================================================================="
      ]
     },
     "execution_count": 13,
     "metadata": {},
     "output_type": "execute_result"
    }
   ],
   "source": [
    "from Utils.models import LSTM\n",
    "from torchinfo import summary as summary2\n",
    "\n",
    "lstm = LSTM()\n",
    "if torch.cuda.is_available():\n",
    "    lstm = lstm.to('cuda')\n",
    "print(lstm)\n",
    "summary2(lstm, input_size=(1, 6))"
   ]
  },
  {
   "cell_type": "markdown",
   "metadata": {},
   "source": [
    "## Train LSTM"
   ]
  },
  {
   "cell_type": "code",
   "execution_count": 14,
   "metadata": {},
   "outputs": [],
   "source": [
    "train_save = False\n",
    "if train_save:\n",
    "    # Train the model\n",
    "    lstm.train_model(train_loader_lstm, n_epochs=10)\n",
    "    # Save the model\n",
    "    lstm.save_model(\"Weights/lstm.pth\")\n",
    "else:\n",
    "    # Load the model\n",
    "    lstm.load_model(\"Weights/lstm.pth\")\n",
    "    lstm.eval()"
   ]
  },
  {
   "cell_type": "code",
   "execution_count": 15,
   "metadata": {},
   "outputs": [],
   "source": [
    "if train_save:\n",
    "    lstm.plot_loss()"
   ]
  },
  {
   "cell_type": "markdown",
   "metadata": {},
   "source": [
    "## Evaluate VAE-LSTM Model"
   ]
  },
  {
   "cell_type": "code",
   "execution_count": 16,
   "metadata": {},
   "outputs": [],
   "source": [
    "from Utils.models import VAE_LSTM\n",
    "\n",
    "vae_lstm = VAE_LSTM(vae, lstm)"
   ]
  },
  {
   "cell_type": "code",
   "execution_count": 17,
   "metadata": {},
   "outputs": [
    {
     "name": "stdout",
     "output_type": "stream",
     "text": [
      "Anomalies: [False False False ... False False False]\n"
     ]
    }
   ],
   "source": [
    "import numpy as np\n",
    "\n",
    "\n",
    "test_data = x\n",
    "anomalies = np.random.randint(0, 10, len(test_data))    # Random anomalies to test with\n",
    "anomalies = anomalies > 8\n",
    "print(f\"Anomalies: {anomalies}\")    "
   ]
  },
  {
   "cell_type": "code",
   "execution_count": 18,
   "metadata": {},
   "outputs": [
    {
     "name": "stdout",
     "output_type": "stream",
     "text": [
      "anomalies is a numpy array of booleans\n"
     ]
    }
   ],
   "source": [
    "import numpy as np\n",
    "\n",
    "if isinstance(anomalies, np.ndarray) and anomalies.dtype == bool:\n",
    "    print(\"anomalies is a numpy array of booleans\")\n",
    "else:\n",
    "    print(\"anomalies is not a numpy array of booleans\")"
   ]
  },
  {
   "cell_type": "code",
   "execution_count": 29,
   "metadata": {},
   "outputs": [
    {
     "name": "stdout",
     "output_type": "stream",
     "text": [
      "Threshold: 0.1, Precision: 0.1002513136851725, Recall: 0.1979608409275467, F1 Score: 0.13309876243630187\n",
      "\tAugmented Precision: 0.3601416780399038, Augmented Recall: 1.0, Augmented F1 Score: 0.5295649473206393\n",
      "Threshold: 0.125, Precision: 0.10096359234822234, Recall: 0.19191554633222052, F1 Score: 0.13231726283048212\n",
      "\tAugmented Precision: 0.36915031808946475, Augmented Recall: 1.0, Augmented F1 Score: 0.5392400136233153\n",
      "Threshold: 0.15000000000000002, Precision: 0.10054926023059033, Recall: 0.18334385996571326, F1 Score: 0.12987345008308832\n",
      "\tAugmented Precision: 0.3787764866712235, Augmented Recall: 1.0, Augmented F1 Score: 0.5494385643110329\n",
      "Threshold: 0.17500000000000002, Precision: 0.09999481623555026, Recall: 0.17405034737886854, F1 Score: 0.1270165272930796\n",
      "\tAugmented Precision: 0.3896291088064686, Augmented Recall: 1.0, Augmented F1 Score: 0.5607670512042097\n",
      "Threshold: 0.2, Precision: 0.09992908961981127, Recall: 0.16529820445727691, F1 Score: 0.12455806363883602\n",
      "\tAugmented Precision: 0.4017908932714617, Augmented Recall: 1.0, Augmented F1 Score: 0.5732536788475961\n",
      "Threshold: 0.225, Precision: 0.10001700969552645, Recall: 0.15916268158440855, F1 Score: 0.12284122562674094\n",
      "\tAugmented Precision: 0.4111515061581837, Augmented Recall: 1.0, Augmented F1 Score: 0.5827177370593338\n",
      "Threshold: 0.25, Precision: 0.10034093581001646, Recall: 0.1540196697645042, F1 Score: 0.12151628403630539\n",
      "\tAugmented Precision: 0.4200015158405336, Augmented Recall: 1.0, Augmented F1 Score: 0.5915507992847803\n",
      "Threshold: 0.275, Precision: 0.1010150124597338, Recall: 0.14995939727510602, F1 Score: 0.12071470075537478\n",
      "\tAugmented Precision: 0.4283450568137899, Augmented Recall: 1.0, Augmented F1 Score: 0.5997781205184404\n",
      "Threshold: 0.30000000000000004, Precision: 0.10102099055108124, Recall: 0.14373364612469547, F1 Score: 0.11865037985997319\n",
      "\tAugmented Precision: 0.4387742982699236, Augmented Recall: 1.0, Augmented F1 Score: 0.6099279071047273\n",
      "Threshold: 0.325, Precision: 0.10165811290959337, Recall: 0.13940268880267076, F1 Score: 0.11757543472470607\n",
      "\tAugmented Precision: 0.4480514230271669, Augmented Recall: 1.0, Augmented F1 Score: 0.6188335799436053\n",
      "Threshold: 0.35, Precision: 0.10202274739494653, Recall: 0.1351619597581882, F1 Score: 0.11627726461227975\n",
      "\tAugmented Precision: 0.45669194000329655, Augmented Recall: 1.0, Augmented F1 Score: 0.6270261095867161\n",
      "Threshold: 0.375, Precision: 0.10227749056867402, Recall: 0.13209419832175404, F1 Score: 0.11528920738669922\n",
      "\tAugmented Precision: 0.4630844440730372, Augmented Recall: 1.0, Augmented F1 Score: 0.6330249029015307\n",
      "Threshold: 0.4, Precision: 0.10231785688497365, Recall: 0.1278534692772715, F1 Score: 0.11366918017006257\n",
      "\tAugmented Precision: 0.4713161811609611, Augmented Recall: 1.0, Augmented F1 Score: 0.6406728712642349\n",
      "Threshold: 0.42500000000000004, Precision: 0.10182223875046485, Recall: 0.12352251195524677, F1 Score: 0.11162752772341812\n",
      "\tAugmented Precision: 0.47856125048577225, Augmented Recall: 1.0, Augmented F1 Score: 0.6473336837801531\n",
      "Threshold: 0.45000000000000007, Precision: 0.10178311777760772, Recall: 0.12000360913110168, F1 Score: 0.11014492753623188\n",
      "\tAugmented Precision: 0.4856704645048203, Augmented Recall: 1.0, Augmented F1 Score: 0.6538064478069787\n",
      "Threshold: 0.475, Precision: 0.10071659185762659, Recall: 0.11540196697645042, F1 Score: 0.1075603397527542\n",
      "\tAugmented Precision: 0.4925121094965116, Augmented Recall: 1.0, Augmented F1 Score: 0.6599773715238493\n",
      "Threshold: 0.5, Precision: 0.10087468323387558, Recall: 0.11134169448705224, F1 Score: 0.10585006004460455\n",
      "\tAugmented Precision: 0.5019020016302871, Augmented Recall: 1.0, Augmented F1 Score: 0.6683551937283281\n",
      "Threshold: 0.525, Precision: 0.10153272927428232, Recall: 0.10818370477307589, F1 Score: 0.10475275205311899\n",
      "\tAugmented Precision: 0.5109021343290462, Augmented Recall: 1.0, Augmented F1 Score: 0.6762875274591164\n",
      "Threshold: 0.55, Precision: 0.10198150594451784, Recall: 0.10448434539384643, F1 Score: 0.10321775559319014\n",
      "\tAugmented Precision: 0.5208176691729324, Augmented Recall: 1.0, Augmented F1 Score: 0.6849179618700368\n",
      "Threshold: 0.5750000000000001, Precision: 0.10164506938700488, Recall: 0.09979247496165299, F1 Score: 0.1007102531415043\n",
      "\tAugmented Precision: 0.5313548758270208, Augmented Recall: 1.0, Augmented F1 Score: 0.6939670016593094\n",
      "Threshold: 0.6, Precision: 0.10259878272630664, Recall: 0.09582243074979699, F1 Score: 0.09909489595969022\n",
      "\tAugmented Precision: 0.5440310229727077, Augmented Recall: 1.0, Augmented F1 Score: 0.704689238594818\n",
      "Threshold: 0.625, Precision: 0.10126582278481013, Recall: 0.09095010376251918, F1 Score: 0.0958311546323145\n",
      "\tAugmented Precision: 0.5533476459134256, Augmented Recall: 1.0, Augmented F1 Score: 0.7124582154795578\n",
      "Threshold: 0.65, Precision: 0.10142367245141848, Recall: 0.08806279888116936, F1 Score: 0.0942721916352748\n",
      "\tAugmented Precision: 0.5617334009123163, Augmented Recall: 1.0, Augmented F1 Score: 0.7193716937656184\n",
      "Threshold: 0.675, Precision: 0.10048413125336202, Recall: 0.08427321122439772, F1 Score: 0.09166748454215329\n",
      "\tAugmented Precision: 0.5699958856202427, Augmented Recall: 1.0, Augmented F1 Score: 0.7261113112981951\n",
      "Threshold: 0.7000000000000001, Precision: 0.10025621031525009, Recall: 0.08120544978796355, F1 Score: 0.0897308075772682\n",
      "\tAugmented Precision: 0.5784446764091858, Augmented Recall: 1.0, Augmented F1 Score: 0.7329299341996496\n",
      "Threshold: 0.725, Precision: 0.10144927536231885, Recall: 0.07958134079220427, F1 Score: 0.08919451888557414\n",
      "\tAugmented Precision: 0.5865572902884361, Augmented Recall: 1.0, Augmented F1 Score: 0.7394088998598973\n",
      "Threshold: 0.75, Precision: 0.10140645313792696, Recall: 0.07741586213119192, F1 Score: 0.08780188293082276\n",
      "\tAugmented Precision: 0.5931178422348282, Augmented Recall: 1.0, Augmented F1 Score: 0.7446000873391784\n",
      "Threshold: 0.775, Precision: 0.0996698055521585, Recall: 0.0735360461968781, F1 Score: 0.08463136033229492\n",
      "\tAugmented Precision: 0.6008674437516942, Augmented Recall: 1.0, Augmented F1 Score: 0.75067732321864\n",
      "Threshold: 0.8, Precision: 0.09886792452830188, Recall: 0.07091942614815483, F1 Score: 0.08259339042715283\n",
      "\tAugmented Precision: 0.6073875157560147, Augmented Recall: 1.0, Augmented F1 Score: 0.755744971019434\n",
      "Threshold: 0.8250000000000001, Precision: 0.09850552306692657, Recall: 0.06839303437697375, F1 Score: 0.08073277239322613\n",
      "\tAugmented Precision: 0.61503884572697, Augmented Recall: 1.0, Augmented F1 Score: 0.761639693502388\n",
      "Threshold: 0.85, Precision: 0.09803661448660123, Recall: 0.06667869710367229, F1 Score: 0.07937275119488749\n",
      "\tAugmented Precision: 0.6197852589195839, Augmented Recall: 1.0, Augmented F1 Score: 0.7652684274123943\n",
      "Threshold: 0.875, Precision: 0.09856290672451193, Recall: 0.06559595777316611, F1 Score: 0.07876916409339618\n",
      "\tAugmented Precision: 0.6250281976088428, Augmented Recall: 1.0, Augmented F1 Score: 0.7692521256290127\n",
      "Threshold: 0.9, Precision: 0.09907420201741053, Recall: 0.0646936749977443, F1 Score: 0.07827510917030568\n",
      "\tAugmented Precision: 0.629608589444981, Augmented Recall: 1.0, Augmented F1 Score: 0.7727114271770201\n",
      "Threshold: 0.925, Precision: 0.09856378484933821, Recall: 0.0631597942795272, F1 Score: 0.0769865273577124\n",
      "\tAugmented Precision: 0.6338575922219045, Augmented Recall: 1.0, Augmented F1 Score: 0.7759031083730048\n",
      "Threshold: 0.9500000000000001, Precision: 0.09817450050309041, Recall: 0.061625913561310114, F1 Score: 0.07572062084257206\n",
      "\tAugmented Precision: 0.6385320043786369, Augmented Recall: 1.0, Augmented F1 Score: 0.779395218002813\n",
      "Threshold: 0.975, Precision: 0.09863649550333624, Recall: 0.06135522872868357, F1 Score: 0.0756522222840296\n",
      "\tAugmented Precision: 0.6407469503382089, Augmented Recall: 1.0, Augmented F1 Score: 0.7810429880197322\n",
      "Threshold: 1.0, Precision: 0.09923664122137404, Recall: 0.060994315618514844, F1 Score: 0.07555183012014528\n",
      "\tAugmented Precision: 0.6436494569951797, Augmented Recall: 1.0, Augmented F1 Score: 0.7831955338845311\n"
     ]
    },
    {
     "data": {
      "image/png": "[encoded data removed]",
      "text/plain": [
       "<Figure size 1200x600 with 2 Axes>"
      ]
     },
     "metadata": {},
     "output_type": "display_data"
    },
    {
     "name": "stdout",
     "output_type": "stream",
     "text": [
      "Best threshold: 0.1\n",
      "Best precision: 0.1002513136851725\n",
      "Best recall: 0.1979608409275467\n",
      "Best F1: 0.13309876243630187\n",
      "Best threshold (augmented): 1.0\n",
      "Best precision (augmented): 0.6436494569951797\n",
      "Best recall (augmented): 1.0\n",
      "Best F1 (augmented): 0.7831955338845311\n"
     ]
    }
   ],
   "source": [
    "best_threshold, best_precision, best_recall, best_f1, best_threshold_aug, best_precision_aug, best_recall_aug, best_f1_aug = \\\n",
    "    vae_lstm.evaluate(test_data, anomalies, plot=True)\n",
    "\n",
    "print(f\"Best threshold: {best_threshold}\")\n",
    "print(f\"Best precision: {best_precision}\")\n",
    "print(f\"Best recall: {best_recall}\")\n",
    "print(f\"Best F1: {best_f1}\")\n",
    "print(f\"Best threshold (augmented): {best_threshold_aug}\")\n",
    "print(f\"Best precision (augmented): {best_precision_aug}\")\n",
    "print(f\"Best recall (augmented): {best_recall_aug}\")\n",
    "print(f\"Best F1 (augmented): {best_f1_aug}\")"
   ]
  },
  {
   "cell_type": "code",
   "execution_count": null,
   "metadata": {},
   "outputs": [],
   "source": [
    "vae_lstm.plot_anomaly(test_data, anomalies, best_threshold)"
   ]
  }
 ],
 "metadata": {
  "kernelspec": {
   "display_name": "Python 3",
   "language": "python",
   "name": "python3"
  },
  "language_info": {
   "codemirror_mode": {
    "name": "ipython",
    "version": 3
   },
   "file_extension": ".py",
   "mimetype": "text/x-python",
   "name": "python",
   "nbconvert_exporter": "python",
   "pygments_lexer": "ipython3",
   "version": "3.11.9"
  }
 },
 "nbformat": 4,
 "nbformat_minor": 2
}
